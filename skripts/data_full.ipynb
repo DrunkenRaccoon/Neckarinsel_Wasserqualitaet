{
 "cells": [
  {
   "cell_type": "code",
   "execution_count": 1,
   "metadata": {},
   "outputs": [
    {
     "data": {
      "text/plain": [
       "True"
      ]
     },
     "execution_count": 1,
     "metadata": {},
     "output_type": "execute_result"
    }
   ],
   "source": [
    "import pandas as pd\n",
    "import os\n",
    "from dotenv import load_dotenv\n",
    "load_dotenv()"
   ]
  },
  {
   "cell_type": "code",
   "execution_count": 2,
   "metadata": {},
   "outputs": [],
   "source": [
    "path_data = os.getenv(\"path_to_data\")\n",
    "path_master = os.getenv(\"path_to_master\")"
   ]
  },
  {
   "cell_type": "markdown",
   "metadata": {},
   "source": [
    "## Wetter Komplett"
   ]
  },
  {
   "cell_type": "code",
   "execution_count": 3,
   "metadata": {},
   "outputs": [],
   "source": [
    "# Wetterdaten und E. coli-Messungen laden\n",
    "df_wetter = pd.read_csv(f\"{path_data}/clean_wetter_komplett.csv\", header=0, index_col=0, parse_dates=True)\n",
    "df_messungen = pd.read_csv(f\"{path_master}/messungen_clean_2024.csv\", header=0, index_col=0, parse_dates=True)\n"
   ]
  },
  {
   "cell_type": "code",
   "execution_count": 4,
   "metadata": {},
   "outputs": [],
   "source": [
    "df_komplett = pd.merge(df_wetter, df_messungen, how=\"left\", left_index=True, right_index=True)\n",
    "df_komplett.index.rename(\"zeit\", inplace=True)"
   ]
  },
  {
   "cell_type": "code",
   "execution_count": 5,
   "metadata": {},
   "outputs": [],
   "source": [
    "df_komplett = df_komplett[df_komplett.index >= \"2024-01-01\"]"
   ]
  },
  {
   "cell_type": "code",
   "execution_count": 6,
   "metadata": {},
   "outputs": [],
   "source": [
    "# LUBW-Daten laden und verarbeiten\n",
    "df_lubw_raw = pd.read_csv(f\"{path_data}/messwerte_lubw.csv\", sep=\";\", parse_dates=[\"Datum\"], dayfirst=True)\n",
    "\n",
    "# Relevante Spalten extrahieren\n",
    "df_lubw = df_lubw_raw[[\"Messstation\", \"Gew\u00e4sser\", \"Parameter\", \"Datum\", \"Tagesmittelwert\"]]"
   ]
  },
  {
   "cell_type": "code",
   "execution_count": 7,
   "metadata": {},
   "outputs": [
    {
     "name": "stderr",
     "output_type": "stream",
     "text": [
      "C:\\Users\\Dome Arbeit\\AppData\\Local\\Temp\\ipykernel_13296\\1829527460.py:2: SettingWithCopyWarning: \n",
      "A value is trying to be set on a copy of a slice from a DataFrame.\n",
      "Try using .loc[row_indexer,col_indexer] = value instead\n",
      "\n",
      "See the caveats in the documentation: https://pandas.pydata.org/pandas-docs/stable/user_guide/indexing.html#returning-a-view-versus-a-copy\n",
      "  df_lubw[\"Tagesmittelwert\"] = df_lubw[\"Tagesmittelwert\"].str.replace(\",\", \".\")\n",
      "C:\\Users\\Dome Arbeit\\AppData\\Local\\Temp\\ipykernel_13296\\1829527460.py:3: SettingWithCopyWarning: \n",
      "A value is trying to be set on a copy of a slice from a DataFrame.\n",
      "Try using .loc[row_indexer,col_indexer] = value instead\n",
      "\n",
      "See the caveats in the documentation: https://pandas.pydata.org/pandas-docs/stable/user_guide/indexing.html#returning-a-view-versus-a-copy\n",
      "  df_lubw[\"Tagesmittelwert\"] = pd.to_numeric(df_lubw[\"Tagesmittelwert\"], errors=\"coerce\")\n"
     ]
    }
   ],
   "source": [
    "# Zahlen konvertieren (Komma \u2192 Punkt, \"-\" \u2192 NaN)\n",
    "df_lubw[\"Tagesmittelwert\"] = df_lubw[\"Tagesmittelwert\"].str.replace(\",\", \".\")\n",
    "df_lubw[\"Tagesmittelwert\"] = pd.to_numeric(df_lubw[\"Tagesmittelwert\"], errors=\"coerce\")\n"
   ]
  },
  {
   "cell_type": "code",
   "execution_count": 8,
   "metadata": {},
   "outputs": [
    {
     "name": "stderr",
     "output_type": "stream",
     "text": [
      "C:\\Users\\Dome Arbeit\\AppData\\Local\\Temp\\ipykernel_13296\\133331347.py:2: SettingWithCopyWarning: \n",
      "A value is trying to be set on a copy of a slice from a DataFrame.\n",
      "Try using .loc[row_indexer,col_indexer] = value instead\n",
      "\n",
      "See the caveats in the documentation: https://pandas.pydata.org/pandas-docs/stable/user_guide/indexing.html#returning-a-view-versus-a-copy\n",
      "  df_lubw[\"K\u00fcrzel\"] = (\n"
     ]
    }
   ],
   "source": [
    "# K\u00fcrzel erstellen z.B. We_Ne_Temperatur\n",
    "df_lubw[\"K\u00fcrzel\"] = (\n",
    "    df_lubw[\"Messstation\"].str[:2].str.capitalize() + \"_\" +\n",
    "    df_lubw[\"Gew\u00e4sser\"].str[:2].str.capitalize() + \"_\" +\n",
    "    df_lubw[\"Parameter\"]\n",
    "        .str.replace(\"bei .*\", \"\", regex=True)\n",
    "        .str.replace(\" \", \"\")\n",
    "        .str.replace(\"\u00e4\", \"ae\")\n",
    "        .str.replace(\"\u00f6\", \"oe\")\n",
    "        .str.replace(\"\u00fc\", \"ue\")\n",
    "        .str.replace(\"\u00df\", \"ss\")\n",
    ")\n"
   ]
  },
  {
   "cell_type": "code",
   "execution_count": 9,
   "metadata": {},
   "outputs": [
    {
     "name": "stderr",
     "output_type": "stream",
     "text": [
      "C:\\Users\\Dome Arbeit\\AppData\\Local\\Temp\\ipykernel_13296\\4046771336.py:5: FutureWarning: 'H' is deprecated and will be removed in a future version, please use 'h' instead.\n",
      "  df_lubw_hourly = df_lubw_pivot.resample(\"1H\").ffill()\n"
     ]
    }
   ],
   "source": [
    "# Pivotieren: Datum als Index, Parameter als Spalten\n",
    "df_lubw_pivot = df_lubw.pivot(index=\"Datum\", columns=\"K\u00fcrzel\", values=\"Tagesmittelwert\")\n",
    "\n",
    "# Resample auf 1h und auff\u00fcllen\n",
    "df_lubw_hourly = df_lubw_pivot.resample(\"1H\").ffill()\n",
    "\n",
    "# In Masterdaten integrieren\n",
    "df_komplett = df_komplett.merge(df_lubw_hourly, left_index=True, right_index=True)"
   ]
  },
  {
   "cell_type": "code",
   "execution_count": 10,
   "metadata": {},
   "outputs": [],
   "source": [
    "# Formatierung\n",
    "df_komplett.reset_index(inplace=True)\n",
    "df_komplett.columns = [col.strip() for col in df_komplett.columns]\n",
    "df_komplett.set_index(\"index\", inplace=True)"
   ]
  },
  {
   "cell_type": "code",
   "execution_count": 11,
   "metadata": {},
   "outputs": [],
   "source": [
    "# Export\n",
    "df_komplett.to_csv(f\"{path_master}/data_full.csv\")"
   ]
  }
 ],
 "metadata": {
  "kernelspec": {
   "display_name": "base",
   "language": "python",
   "name": "python3"
  },
  "language_info": {
   "codemirror_mode": {
    "name": "ipython",
    "version": 3
   },
   "file_extension": ".py",
   "mimetype": "text/x-python",
   "name": "python",
   "nbconvert_exporter": "python",
   "pygments_lexer": "ipython3",
   "version": "3.12.4"
  }
 },
 "nbformat": 4,
 "nbformat_minor": 2
}
