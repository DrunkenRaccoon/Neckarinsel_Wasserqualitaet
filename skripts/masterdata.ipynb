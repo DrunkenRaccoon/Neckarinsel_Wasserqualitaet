{
 "cells": [
  {
   "cell_type": "code",
   "metadata": {},
   "execution_count": null,
   "outputs": [],
   "source": [
    "import pandas as pd\n",
    "import os\n",
    "from dotenv import load_dotenv\n",
    "load_dotenv()\n"
   ]
  },
  {
   "cell_type": "code",
   "metadata": {},
   "execution_count": null,
   "outputs": [],
   "source": [
    "path_master = os.getenv('path_to_master')\n"
   ]
  },
  {
   "cell_type": "code",
   "metadata": {},
   "execution_count": null,
   "outputs": [],
   "source": [
    "df_full = pd.read_csv(f'{path_master}/data_full.csv', index_col=0, parse_dates=True)\n"
   ]
  },
  {
   "cell_type": "code",
   "metadata": {},
   "execution_count": null,
   "outputs": [],
   "source": [
    "def sample_at_hour(df, hour):\n",
    "    return df[df.index.hour == hour].resample('D').first()\n\n",
    "daily_mean = df_full.resample('D').mean().add_suffix('_mean')\n",
    "daily_min = df_full.resample('D').min().add_suffix('_min')\n",
    "daily_max = df_full.resample('D').max().add_suffix('_max')\n",
    "at_06 = sample_at_hour(df_full, 6).add_suffix('_06')\n",
    "at_12 = sample_at_hour(df_full, 12).add_suffix('_12')\n",
    "at_18 = sample_at_hour(df_full, 18).add_suffix('_18')\n",
    "at_00 = sample_at_hour(df_full, 0).add_suffix('_00')\n",
    "df_daily = pd.concat([daily_mean, daily_min, daily_max, at_06, at_12, at_18, at_00], axis=1)\n",
    "df_daily.sort_index(inplace=True)\n"
   ]
  },
  {
   "cell_type": "code",
   "metadata": {},
   "execution_count": null,
   "outputs": [],
   "source": [
    "df_daily.to_csv(f'{path_master}/masterdata.csv')\n"
   ]
  }
 ],
 "metadata": {},
 "nbformat": 4,
 "nbformat_minor": 2
}
