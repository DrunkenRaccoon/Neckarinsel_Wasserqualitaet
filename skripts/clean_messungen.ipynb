{
 "cells": [
  {
   "cell_type": "code",
   "execution_count": 8,
   "metadata": {},
   "outputs": [
    {
     "data": {
      "text/plain": [
       "True"
      ]
     },
     "execution_count": 8,
     "metadata": {},
     "output_type": "execute_result"
    }
   ],
   "source": [
    "import pandas as pd\n",
    "import os\n",
    "import os\n",
    "from dotenv import load_dotenv\n",
    "load_dotenv()"
   ]
  },
  {
   "cell_type": "markdown",
   "metadata": {},
   "source": [
    "## Load Data"
   ]
  },
  {
   "cell_type": "code",
   "execution_count": 9,
   "metadata": {},
   "outputs": [],
   "source": [
    "path = os.getenv(\"path_to_data\")\n",
    "path_master = os.getenv(\"path_to_master\")"
   ]
  },
  {
   "cell_type": "code",
   "execution_count": 22,
   "metadata": {},
   "outputs": [],
   "source": [
    "df = pd.read_csv(f\"{path_master}/messungen_2024.csv\", delimiter =\";\").T\n",
    "df.columns= df.iloc[0]\n",
    "df = df.iloc[1:].copy()\n",
    "df.columns = [\"zeit\", \"ecoli\", \"entro\", \"pos_neg\"]\n",
    "df.index.rename(\"DATUM\", inplace = True)"
   ]
  },
  {
   "cell_type": "code",
   "execution_count": 11,
   "metadata": {},
   "outputs": [],
   "source": [
    "for col in [\"ecoli\", \"entro\"]:\n",
    "    df[col] = df[col].str.replace(\">800\", \"8000\")\n",
    "    df[col] = df[col].str.replace(\">80\", \"8000\")\n",
    "    df[col] = df[col].str.replace(\">\", \"\").astype(float)"
   ]
  },
  {
   "cell_type": "code",
   "execution_count": 12,
   "metadata": {},
   "outputs": [],
   "source": [
    "df.reset_index(inplace = True)"
   ]
  },
  {
   "cell_type": "code",
   "execution_count": 13,
   "metadata": {},
   "outputs": [],
   "source": [
    "month_map = {\n",
    "    'Jan': '01.',\n",
    "    'Febr': '02.',\n",
    "    'Mär': '03.',\n",
    "    'Apr': '04.',\n",
    "    'Mai': '05.',\n",
    "    'Jun': '06.',\n",
    "    'Jul': '07.',\n",
    "    'Aug': '08.',\n",
    "    'Sep': '09.',\n",
    "    'Okt': '10.',\n",
    "    'Nov': '11.',\n",
    "    'Dez': '12.'\n",
    "}\n",
    "\n",
    "for key, value in month_map.items():\n",
    "    df[\"DATUM\"] = df[\"DATUM\"].str.replace(key, value)"
   ]
  },
  {
   "cell_type": "code",
   "execution_count": 14,
   "metadata": {},
   "outputs": [],
   "source": [
    "def fill_year(date):\n",
    "    if date[-2:] != \"24\":\n",
    "        return date + \" 24\"\n",
    "    else:\n",
    "        return date"
   ]
  },
  {
   "cell_type": "code",
   "execution_count": 15,
   "metadata": {},
   "outputs": [],
   "source": [
    "def fix_date(date):\n",
    "    date = date.split(\" \")\n",
    "    date = \"20\" + date[-1] + \"-\" + date[1][:-1] + \"-\" + date[0][:-1]\n",
    "    return date"
   ]
  },
  {
   "cell_type": "code",
   "execution_count": 16,
   "metadata": {},
   "outputs": [],
   "source": [
    "def add_time(date, time):\n",
    "    time = time.apply(lambda x: x.split(\":\")[0])\n",
    "    date = date + \" \" + time + \":00:00\"\n",
    "    return date"
   ]
  },
  {
   "cell_type": "code",
   "execution_count": 17,
   "metadata": {},
   "outputs": [],
   "source": [
    "df[\"DATUM\"] = df[\"DATUM\"].apply(fill_year).apply(fix_date)\n",
    "df[\"DATUM\"] = add_time(df[\"DATUM\"], df[\"zeit\"])"
   ]
  },
  {
   "cell_type": "code",
   "execution_count": 18,
   "metadata": {},
   "outputs": [],
   "source": [
    "df[\"DATUM\"] = pd.to_datetime(df[\"DATUM\"])"
   ]
  },
  {
   "cell_type": "code",
   "execution_count": 19,
   "metadata": {},
   "outputs": [],
   "source": [
    "df[\"DATUM\"] = df[\"DATUM\"].dt.round('h')"
   ]
  },
  {
   "cell_type": "code",
   "execution_count": 20,
   "metadata": {},
   "outputs": [],
   "source": [
    "df.set_index(\"DATUM\", inplace = True)"
   ]
  },
  {
   "cell_type": "code",
   "execution_count": null,
   "metadata": {},
   "outputs": [],
   "source": [
    "df.to_csv(f\"{path_master}/messungen_clean_2024.csv\")"
   ]
  },
  {
   "cell_type": "code",
   "execution_count": null,
   "metadata": {},
   "outputs": [],
   "source": []
  }
 ],
 "metadata": {
  "kernelspec": {
   "display_name": "base",
   "language": "python",
   "name": "python3"
  },
  "language_info": {
   "codemirror_mode": {
    "name": "ipython",
    "version": 3
   },
   "file_extension": ".py",
   "mimetype": "text/x-python",
   "name": "python",
   "nbconvert_exporter": "python",
   "pygments_lexer": "ipython3",
   "version": "3.12.4"
  }
 },
 "nbformat": 4,
 "nbformat_minor": 2
}
