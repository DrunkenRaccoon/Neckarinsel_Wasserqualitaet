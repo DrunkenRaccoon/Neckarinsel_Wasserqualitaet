{
 "cells": [
  {
   "cell_type": "code",
   "execution_count": 25,
   "metadata": {},
   "outputs": [
    {
     "data": {
      "text/plain": [
       "True"
      ]
     },
     "execution_count": 25,
     "metadata": {},
     "output_type": "execute_result"
    }
   ],
   "source": [
    "import papermill as pm\n",
    "import os\n",
    "from dotenv import load_dotenv\n",
    "load_dotenv()"
   ]
  },
  {
   "cell_type": "code",
   "execution_count": 26,
   "metadata": {},
   "outputs": [],
   "source": [
    "out = os.getenv(\"out\")"
   ]
  },
  {
   "cell_type": "code",
   "execution_count": null,
   "metadata": {},
   "outputs": [
    {
     "data": {
      "application/vnd.jupyter.widget-view+json": {
       "model_id": "f1957bdfda0d44ab9aa335a4c8501a35",
       "version_major": 2,
       "version_minor": 0
      },
      "text/plain": [
       "Executing:   0%|          | 0/12 [00:00<?, ?cell/s]"
      ]
     },
     "metadata": {},
     "output_type": "display_data"
    }
   ],
   "source": [
    "pm.execute_notebook(\n",
    "    \"clean_dwd_daten.ipynb\",\n",
    "    f\"{out}/outclean_dwd_daten_papermill.ipynb\",\n",
    ")"
   ]
  },
  {
   "cell_type": "code",
   "execution_count": null,
   "metadata": {},
   "outputs": [
    {
     "data": {
      "application/vnd.jupyter.widget-view+json": {
       "model_id": "56ae593eb18b43cebc083674f9a89f1f",
       "version_major": 2,
       "version_minor": 0
      },
      "text/plain": [
       "Executing:   0%|          | 0/16 [00:00<?, ?cell/s]"
      ]
     },
     "metadata": {},
     "output_type": "display_data"
    },
    {
     "data": {
      "text/plain": [
       "{'cells': [{'cell_type': 'code',\n",
       "   'execution_count': 1,\n",
       "   'metadata': {'tags': [],\n",
       "    'papermill': {'exception': False,\n",
       "     'start_time': '2025-02-25T10:28:26.966802',\n",
       "     'end_time': '2025-02-25T10:28:27.753773',\n",
       "     'duration': 0.786971,\n",
       "     'status': 'completed'},\n",
       "    'execution': {'iopub.status.busy': '2025-02-25T10:28:26.972963Z',\n",
       "     'iopub.execute_input': '2025-02-25T10:28:26.973467Z',\n",
       "     'shell.execute_reply': '2025-02-25T10:28:27.751218Z',\n",
       "     'iopub.status.idle': '2025-02-25T10:28:27.751728Z'}},\n",
       "   'outputs': [{'output_type': 'execute_result',\n",
       "     'metadata': {},\n",
       "     'data': {'text/plain': 'True'},\n",
       "     'execution_count': 1}],\n",
       "   'source': 'import pandas as pd\\nimport os\\nimport os\\nfrom dotenv import load_dotenv\\nload_dotenv()',\n",
       "   'id': 'bdbf6d30'},\n",
       "  {'cell_type': 'markdown',\n",
       "   'metadata': {'tags': [],\n",
       "    'papermill': {'exception': False,\n",
       "     'start_time': '2025-02-25T10:28:27.758918',\n",
       "     'end_time': '2025-02-25T10:28:27.763681',\n",
       "     'duration': 0.004763,\n",
       "     'status': 'completed'}},\n",
       "   'source': '## Load Data',\n",
       "   'id': 'cc365e63'},\n",
       "  {'cell_type': 'code',\n",
       "   'execution_count': 2,\n",
       "   'metadata': {'tags': [],\n",
       "    'papermill': {'exception': False,\n",
       "     'start_time': '2025-02-25T10:28:27.768872',\n",
       "     'end_time': '2025-02-25T10:28:27.782805',\n",
       "     'duration': 0.013933,\n",
       "     'status': 'completed'},\n",
       "    'execution': {'iopub.status.busy': '2025-02-25T10:28:27.775075Z',\n",
       "     'iopub.execute_input': '2025-02-25T10:28:27.775586Z',\n",
       "     'shell.execute_reply': '2025-02-25T10:28:27.779737Z',\n",
       "     'iopub.status.idle': '2025-02-25T10:28:27.780763Z'}},\n",
       "   'outputs': [],\n",
       "   'source': 'path = os.getenv(\"path_to_data\")\\npath_master = os.getenv(\"path_to_master\")',\n",
       "   'id': '1d0f4781'},\n",
       "  {'cell_type': 'code',\n",
       "   'execution_count': 3,\n",
       "   'metadata': {'tags': [],\n",
       "    'papermill': {'exception': False,\n",
       "     'start_time': '2025-02-25T10:28:27.786437',\n",
       "     'end_time': '2025-02-25T10:28:27.807535',\n",
       "     'duration': 0.021098,\n",
       "     'status': 'completed'},\n",
       "    'execution': {'iopub.status.busy': '2025-02-25T10:28:27.792607Z',\n",
       "     'iopub.execute_input': '2025-02-25T10:28:27.793633Z',\n",
       "     'shell.execute_reply': '2025-02-25T10:28:27.804910Z',\n",
       "     'iopub.status.idle': '2025-02-25T10:28:27.805483Z'}},\n",
       "   'outputs': [],\n",
       "   'source': 'df = pd.read_csv(f\"{path_master}/messungen_2024.csv\", delimiter =\";\").T\\ndf.columns= df.iloc[0]\\ndf = df.iloc[1:].copy()\\ndf.columns = [\"zeit\", \"ecoli\", \"entro\", \"pos_neg\"]\\ndf.index.rename(\"DATUM\", inplace = True)',\n",
       "   'id': 'ce2a3191'},\n",
       "  {'cell_type': 'code',\n",
       "   'execution_count': 4,\n",
       "   'metadata': {'tags': [],\n",
       "    'papermill': {'exception': False,\n",
       "     'start_time': '2025-02-25T10:28:27.812177',\n",
       "     'end_time': '2025-02-25T10:28:27.827604',\n",
       "     'duration': 0.015427,\n",
       "     'status': 'completed'},\n",
       "    'execution': {'iopub.status.busy': '2025-02-25T10:28:27.817865Z',\n",
       "     'iopub.execute_input': '2025-02-25T10:28:27.818379Z',\n",
       "     'shell.execute_reply': '2025-02-25T10:28:27.825048Z',\n",
       "     'iopub.status.idle': '2025-02-25T10:28:27.825559Z'}},\n",
       "   'outputs': [],\n",
       "   'source': 'for col in [\"ecoli\", \"entro\"]:\\n    df[col] = df[col].str.replace(\">800\", \"8000\")\\n    df[col] = df[col].str.replace(\">80\", \"8000\")\\n    df[col] = df[col].str.replace(\">\", \"\").astype(float)',\n",
       "   'id': 'f8ac4a13'},\n",
       "  {'cell_type': 'code',\n",
       "   'execution_count': 5,\n",
       "   'metadata': {'tags': [],\n",
       "    'papermill': {'exception': False,\n",
       "     'start_time': '2025-02-25T10:28:27.832729',\n",
       "     'end_time': '2025-02-25T10:28:27.845576',\n",
       "     'duration': 0.012847,\n",
       "     'status': 'completed'},\n",
       "    'execution': {'iopub.status.busy': '2025-02-25T10:28:27.838882Z',\n",
       "     'iopub.execute_input': '2025-02-25T10:28:27.839394Z',\n",
       "     'shell.execute_reply': '2025-02-25T10:28:27.843004Z',\n",
       "     'iopub.status.idle': '2025-02-25T10:28:27.843525Z'}},\n",
       "   'outputs': [],\n",
       "   'source': 'df.reset_index(inplace = True)',\n",
       "   'id': 'a593c7fa'},\n",
       "  {'cell_type': 'code',\n",
       "   'execution_count': 6,\n",
       "   'metadata': {'tags': [],\n",
       "    'papermill': {'exception': False,\n",
       "     'start_time': '2025-02-25T10:28:27.849659',\n",
       "     'end_time': '2025-02-25T10:28:27.865080',\n",
       "     'duration': 0.015421,\n",
       "     'status': 'completed'},\n",
       "    'execution': {'iopub.status.busy': '2025-02-25T10:28:27.855321Z',\n",
       "     'iopub.execute_input': '2025-02-25T10:28:27.855835Z',\n",
       "     'iopub.status.idle': '2025-02-25T10:28:27.863541Z',\n",
       "     'shell.execute_reply': '2025-02-25T10:28:27.863017Z'}},\n",
       "   'outputs': [],\n",
       "   'source': 'month_map = {\\n    \\'Jan\\': \\'01.\\',\\n    \\'Febr\\': \\'02.\\',\\n    \\'Mär\\': \\'03.\\',\\n    \\'Apr\\': \\'04.\\',\\n    \\'Mai\\': \\'05.\\',\\n    \\'Jun\\': \\'06.\\',\\n    \\'Jul\\': \\'07.\\',\\n    \\'Aug\\': \\'08.\\',\\n    \\'Sep\\': \\'09.\\',\\n    \\'Okt\\': \\'10.\\',\\n    \\'Nov\\': \\'11.\\',\\n    \\'Dez\\': \\'12.\\'\\n}\\n\\nfor key, value in month_map.items():\\n    df[\"DATUM\"] = df[\"DATUM\"].str.replace(key, value)',\n",
       "   'id': '7482c28b'},\n",
       "  {'cell_type': 'code',\n",
       "   'execution_count': 7,\n",
       "   'metadata': {'tags': [],\n",
       "    'papermill': {'exception': False,\n",
       "     'start_time': '2025-02-25T10:28:27.870191',\n",
       "     'end_time': '2025-02-25T10:28:27.885760',\n",
       "     'duration': 0.015569,\n",
       "     'status': 'completed'},\n",
       "    'execution': {'iopub.status.busy': '2025-02-25T10:28:27.879064Z',\n",
       "     'iopub.execute_input': '2025-02-25T10:28:27.879605Z',\n",
       "     'shell.execute_reply': '2025-02-25T10:28:27.883187Z',\n",
       "     'iopub.status.idle': '2025-02-25T10:28:27.883706Z'}},\n",
       "   'outputs': [],\n",
       "   'source': 'def fill_year(date):\\n    if date[-2:] != \"24\":\\n        return date + \" 24\"\\n    else:\\n        return date',\n",
       "   'id': '72e8720d'},\n",
       "  {'cell_type': 'code',\n",
       "   'execution_count': 8,\n",
       "   'metadata': {'tags': [],\n",
       "    'papermill': {'exception': False,\n",
       "     'start_time': '2025-02-25T10:28:27.889878',\n",
       "     'end_time': '2025-02-25T10:28:27.902945',\n",
       "     'duration': 0.013067,\n",
       "     'status': 'completed'},\n",
       "    'execution': {'iopub.status.busy': '2025-02-25T10:28:27.896120Z',\n",
       "     'iopub.execute_input': '2025-02-25T10:28:27.896637Z',\n",
       "     'shell.execute_reply': '2025-02-25T10:28:27.900898Z',\n",
       "     'iopub.status.idle': '2025-02-25T10:28:27.901408Z'}},\n",
       "   'outputs': [],\n",
       "   'source': 'def fix_date(date):\\n    date = date.split(\" \")\\n    date = \"20\" + date[-1] + \"-\" + date[1][:-1] + \"-\" + date[0][:-1]\\n    return date',\n",
       "   'id': '0bf91920'},\n",
       "  {'cell_type': 'code',\n",
       "   'execution_count': 9,\n",
       "   'metadata': {'tags': [],\n",
       "    'papermill': {'exception': False,\n",
       "     'start_time': '2025-02-25T10:28:27.907554',\n",
       "     'end_time': '2025-02-25T10:28:27.919374',\n",
       "     'duration': 0.01182,\n",
       "     'status': 'completed'},\n",
       "    'execution': {'iopub.status.busy': '2025-02-25T10:28:27.913714Z',\n",
       "     'iopub.execute_input': '2025-02-25T10:28:27.914242Z',\n",
       "     'shell.execute_reply': '2025-02-25T10:28:27.917310Z',\n",
       "     'iopub.status.idle': '2025-02-25T10:28:27.917840Z'}},\n",
       "   'outputs': [],\n",
       "   'source': 'def add_time(date, time):\\n    time = time.apply(lambda x: x.split(\":\")[0])\\n    date = date + \" \" + time + \":00:00\"\\n    return date',\n",
       "   'id': 'b7add73b'},\n",
       "  {'cell_type': 'code',\n",
       "   'execution_count': 10,\n",
       "   'metadata': {'tags': [],\n",
       "    'papermill': {'exception': False,\n",
       "     'start_time': '2025-02-25T10:28:27.923981',\n",
       "     'end_time': '2025-02-25T10:28:27.936291',\n",
       "     'duration': 0.01231,\n",
       "     'status': 'completed'},\n",
       "    'execution': {'iopub.status.busy': '2025-02-25T10:28:27.929647Z',\n",
       "     'iopub.execute_input': '2025-02-25T10:28:27.930158Z',\n",
       "     'shell.execute_reply': '2025-02-25T10:28:27.934242Z',\n",
       "     'iopub.status.idle': '2025-02-25T10:28:27.934753Z'}},\n",
       "   'outputs': [],\n",
       "   'source': 'df[\"DATUM\"] = df[\"DATUM\"].apply(fill_year).apply(fix_date)\\ndf[\"DATUM\"] = add_time(df[\"DATUM\"], df[\"zeit\"])',\n",
       "   'id': 'f5f8cc9d'},\n",
       "  {'cell_type': 'code',\n",
       "   'execution_count': 11,\n",
       "   'metadata': {'tags': [],\n",
       "    'papermill': {'exception': False,\n",
       "     'start_time': '2025-02-25T10:28:27.940919',\n",
       "     'end_time': '2025-02-25T10:28:27.956308',\n",
       "     'duration': 0.015389,\n",
       "     'status': 'completed'},\n",
       "    'execution': {'iopub.status.busy': '2025-02-25T10:28:27.947068Z',\n",
       "     'iopub.execute_input': '2025-02-25T10:28:27.947068Z',\n",
       "     'shell.execute_reply': '2025-02-25T10:28:27.953744Z',\n",
       "     'iopub.status.idle': '2025-02-25T10:28:27.954258Z'}},\n",
       "   'outputs': [],\n",
       "   'source': 'df[\"DATUM\"] = pd.to_datetime(df[\"DATUM\"])',\n",
       "   'id': '96d88069'},\n",
       "  {'cell_type': 'code',\n",
       "   'execution_count': 12,\n",
       "   'metadata': {'tags': [],\n",
       "    'papermill': {'exception': False,\n",
       "     'start_time': '2025-02-25T10:28:27.960405',\n",
       "     'end_time': '2025-02-25T10:28:27.973873',\n",
       "     'duration': 0.013468,\n",
       "     'status': 'completed'},\n",
       "    'execution': {'iopub.status.busy': '2025-02-25T10:28:27.966695Z',\n",
       "     'iopub.execute_input': '2025-02-25T10:28:27.967205Z',\n",
       "     'shell.execute_reply': '2025-02-25T10:28:27.971303Z',\n",
       "     'iopub.status.idle': '2025-02-25T10:28:27.971817Z'}},\n",
       "   'outputs': [],\n",
       "   'source': 'df[\"DATUM\"] = df[\"DATUM\"].dt.round(\\'h\\')',\n",
       "   'id': '58ddb68e'},\n",
       "  {'cell_type': 'code',\n",
       "   'execution_count': 13,\n",
       "   'metadata': {'tags': [],\n",
       "    'papermill': {'exception': False,\n",
       "     'start_time': '2025-02-25T10:28:27.980104',\n",
       "     'end_time': '2025-02-25T10:28:27.994008',\n",
       "     'duration': 0.013904,\n",
       "     'status': 'completed'},\n",
       "    'execution': {'iopub.status.busy': '2025-02-25T10:28:27.986779Z',\n",
       "     'iopub.execute_input': '2025-02-25T10:28:27.986779Z',\n",
       "     'shell.execute_reply': '2025-02-25T10:28:27.991443Z',\n",
       "     'iopub.status.idle': '2025-02-25T10:28:27.991957Z'}},\n",
       "   'outputs': [],\n",
       "   'source': 'df.set_index(\"DATUM\", inplace = True)',\n",
       "   'id': '4ab613b6'},\n",
       "  {'cell_type': 'code',\n",
       "   'execution_count': 14,\n",
       "   'metadata': {'tags': [],\n",
       "    'papermill': {'exception': False,\n",
       "     'start_time': '2025-02-25T10:28:27.999262',\n",
       "     'end_time': '2025-02-25T10:28:28.016783',\n",
       "     'duration': 0.017521,\n",
       "     'status': 'completed'},\n",
       "    'execution': {'iopub.status.busy': '2025-02-25T10:28:28.005932Z',\n",
       "     'iopub.execute_input': '2025-02-25T10:28:28.006452Z',\n",
       "     'shell.execute_reply': '2025-02-25T10:28:28.014228Z',\n",
       "     'iopub.status.idle': '2025-02-25T10:28:28.014740Z'}},\n",
       "   'outputs': [],\n",
       "   'source': 'df.to_csv(f\"{path_master}/messungen_clean_2024.csv\")',\n",
       "   'id': '91329f2f'},\n",
       "  {'cell_type': 'code',\n",
       "   'execution_count': None,\n",
       "   'metadata': {'tags': [],\n",
       "    'papermill': {'exception': False,\n",
       "     'start_time': '2025-02-25T10:28:28.021463',\n",
       "     'end_time': '2025-02-25T10:28:28.026663',\n",
       "     'duration': 0.0052,\n",
       "     'status': 'completed'}},\n",
       "   'outputs': [],\n",
       "   'source': '',\n",
       "   'id': '57ca7c98'}],\n",
       " 'metadata': {'kernelspec': {'display_name': 'base',\n",
       "   'language': 'python',\n",
       "   'name': 'python3'},\n",
       "  'language_info': {'name': 'python',\n",
       "   'version': '3.12.4',\n",
       "   'mimetype': 'text/x-python',\n",
       "   'codemirror_mode': {'name': 'ipython', 'version': 3},\n",
       "   'pygments_lexer': 'ipython3',\n",
       "   'nbconvert_exporter': 'python',\n",
       "   'file_extension': '.py'},\n",
       "  'orig_nbformat_minor': 2,\n",
       "  'papermill': {'default_parameters': {},\n",
       "   'parameters': {},\n",
       "   'environment_variables': {},\n",
       "   'version': '2.6.0',\n",
       "   'input_path': 'clean_messungen.ipynb',\n",
       "   'output_path': 'papermill_outputs//clean_messungen_papermill.ipynb',\n",
       "   'start_time': '2025-02-25T10:28:24.685867',\n",
       "   'end_time': '2025-02-25T10:28:28.345517',\n",
       "   'duration': 3.65965,\n",
       "   'exception': None}},\n",
       " 'nbformat': 4,\n",
       " 'nbformat_minor': 5}"
      ]
     },
     "execution_count": 23,
     "metadata": {},
     "output_type": "execute_result"
    }
   ],
   "source": [
    "pm.execute_notebook(\n",
    "    \"clean_messungen.ipynb\",\n",
    "    f\"{out}/clean_messungen_papermill.ipynb\",\n",
    ")"
   ]
  },
  {
   "cell_type": "code",
   "execution_count": null,
   "metadata": {},
   "outputs": [
    {
     "data": {
      "application/vnd.jupyter.widget-view+json": {
       "model_id": "5dcea6b5f0f440d59a507e898e959a03",
       "version_major": 2,
       "version_minor": 0
      },
      "text/plain": [
       "Executing:   0%|          | 0/20 [00:00<?, ?cell/s]"
      ]
     },
     "metadata": {},
     "output_type": "display_data"
    },
    {
     "ename": "PapermillExecutionError",
     "evalue": "\n---------------------------------------------------------------------------\nException encountered at \"In [3]\":\n---------------------------------------------------------------------------\nNameError                                 Traceback (most recent call last)\nCell In[3], line 1\n----> 1 df_wetter = pd.read_csv(f\"{path_to_data}/clean_wetter_komplett.csv\", header = 0)\n\nNameError: name 'path_to_data' is not defined\n",
     "output_type": "error",
     "traceback": [
      "\u001b[1;31m---------------------------------------------------------------------------\u001b[0m",
      "\u001b[1;31mPapermillExecutionError\u001b[0m                   Traceback (most recent call last)",
      "Cell \u001b[1;32mIn[24], line 1\u001b[0m\n\u001b[1;32m----> 1\u001b[0m pm\u001b[38;5;241m.\u001b[39mexecute_notebook(\n\u001b[0;32m      2\u001b[0m     \u001b[38;5;124m\"\u001b[39m\u001b[38;5;124mcreate_masterdata.ipynb\u001b[39m\u001b[38;5;124m\"\u001b[39m,\n\u001b[0;32m      3\u001b[0m     \u001b[38;5;124mf\u001b[39m\u001b[38;5;124m\"\u001b[39m\u001b[38;5;132;01m{\u001b[39;00mout\u001b[38;5;132;01m}\u001b[39;00m\u001b[38;5;124m/create_masterdata_papermill.ipynb\u001b[39m\u001b[38;5;124m\"\u001b[39m,\n\u001b[0;32m      4\u001b[0m )\n",
      "File \u001b[1;32m~\\AppData\\Roaming\\Python\\Python312\\site-packages\\papermill\\execute.py:131\u001b[0m, in \u001b[0;36mexecute_notebook\u001b[1;34m(input_path, output_path, parameters, engine_name, request_save_on_cell_execute, prepare_only, kernel_name, language, progress_bar, log_output, stdout_file, stderr_file, start_timeout, report_mode, cwd, **engine_kwargs)\u001b[0m\n\u001b[0;32m    116\u001b[0m         nb \u001b[38;5;241m=\u001b[39m papermill_engines\u001b[38;5;241m.\u001b[39mexecute_notebook_with_engine(\n\u001b[0;32m    117\u001b[0m             engine_name,\n\u001b[0;32m    118\u001b[0m             nb,\n\u001b[1;32m   (...)\u001b[0m\n\u001b[0;32m    127\u001b[0m             \u001b[38;5;241m*\u001b[39m\u001b[38;5;241m*\u001b[39mengine_kwargs,\n\u001b[0;32m    128\u001b[0m         )\n\u001b[0;32m    130\u001b[0m     \u001b[38;5;66;03m# Check for errors first (it saves on error before raising)\u001b[39;00m\n\u001b[1;32m--> 131\u001b[0m     raise_for_execution_errors(nb, output_path)\n\u001b[0;32m    133\u001b[0m \u001b[38;5;66;03m# Write final output in case the engine didn't write it on cell completion.\u001b[39;00m\n\u001b[0;32m    134\u001b[0m write_ipynb(nb, output_path)\n",
      "File \u001b[1;32m~\\AppData\\Roaming\\Python\\Python312\\site-packages\\papermill\\execute.py:251\u001b[0m, in \u001b[0;36mraise_for_execution_errors\u001b[1;34m(nb, output_path)\u001b[0m\n\u001b[0;32m    248\u001b[0m nb\u001b[38;5;241m.\u001b[39mcells\u001b[38;5;241m.\u001b[39minsert(\u001b[38;5;241m0\u001b[39m, error_msg_cell)\n\u001b[0;32m    250\u001b[0m write_ipynb(nb, output_path)\n\u001b[1;32m--> 251\u001b[0m \u001b[38;5;28;01mraise\u001b[39;00m error\n",
      "\u001b[1;31mPapermillExecutionError\u001b[0m: \n---------------------------------------------------------------------------\nException encountered at \"In [3]\":\n---------------------------------------------------------------------------\nNameError                                 Traceback (most recent call last)\nCell In[3], line 1\n----> 1 df_wetter = pd.read_csv(f\"{path_to_data}/clean_wetter_komplett.csv\", header = 0)\n\nNameError: name 'path_to_data' is not defined\n"
     ]
    }
   ],
   "source": [
    "pm.execute_notebook(\n",
    "    \"create_masterdata.ipynb\",\n",
    "    f\"{out}/create_masterdata_papermill.ipynb\",\n",
    ")"
   ]
  },
  {
   "cell_type": "code",
   "execution_count": null,
   "metadata": {},
   "outputs": [],
   "source": [
    "pm.execute_notebook(\n",
    "    \"clean_hofen_wassertemp.ipynb\",\n",
    "    f\"{out}/clean_hofen_wassertemp_papermill.ipynb\",\n",
    ")"
   ]
  }
 ],
 "metadata": {
  "kernelspec": {
   "display_name": "base",
   "language": "python",
   "name": "python3"
  },
  "language_info": {
   "codemirror_mode": {
    "name": "ipython",
    "version": 3
   },
   "file_extension": ".py",
   "mimetype": "text/x-python",
   "name": "python",
   "nbconvert_exporter": "python",
   "pygments_lexer": "ipython3",
   "version": "3.12.4"
  }
 },
 "nbformat": 4,
 "nbformat_minor": 2
}
