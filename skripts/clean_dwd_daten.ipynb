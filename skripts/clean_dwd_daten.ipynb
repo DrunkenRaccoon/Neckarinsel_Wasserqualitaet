{
 "cells": [
  {
   "cell_type": "code",
   "execution_count": 77,
   "metadata": {},
   "outputs": [
    {
     "data": {
      "text/plain": [
       "True"
      ]
     },
     "execution_count": 77,
     "metadata": {},
     "output_type": "execute_result"
    }
   ],
   "source": [
    "import pandas as pd\n",
    "import glob\n",
    "import numpy as np\n",
    "import os\n",
    "from dotenv import load_dotenv\n",
    "load_dotenv()"
   ]
  },
  {
   "cell_type": "code",
   "execution_count": 67,
   "metadata": {},
   "outputs": [],
   "source": [
    "path = os.getenv(\"path_to_data\")"
   ]
  },
  {
   "cell_type": "code",
   "execution_count": 68,
   "metadata": {},
   "outputs": [],
   "source": [
    "def fix_dates(df):\n",
    "    df[\"DATUM\"] = df[\"MESS_DATUM\"].astype(str)\n",
    "    df[\"DATUM\"] = pd.to_datetime(df[\"DATUM\"].apply(lambda x: x[0:4] + \"-\" + x[4:6] + \"-\" + x[6:8] + \"-\" + x[8:10]))\n",
    "    df.set_index(\"DATUM\", inplace = True)\n",
    "    return df"
   ]
  },
  {
   "cell_type": "code",
   "execution_count": 69,
   "metadata": {},
   "outputs": [],
   "source": [
    "def rename_columns(df):\n",
    "    # Hier die gewünschten Parameternamen ergänzen\n",
    "    renames = {\n",
    "        \n",
    "    }\n",
    "    df.rename(columns = renames, inplace = True)\n",
    "    return df"
   ]
  },
  {
   "cell_type": "code",
   "execution_count": 70,
   "metadata": {},
   "outputs": [],
   "source": [
    "def create_cleans():\n",
    "\n",
    "    all_files = glob.glob(path + \"schnarrenberg_dwd*.csv\")\n",
    "\n",
    "    for file in all_files:\n",
    "        df = pd.read_csv(file, delimiter=\";\", header=0)\n",
    "        df = fix_dates(df)\n",
    "        df = rename_columns(df)\n",
    "        df.to_csv(f\"{path}/clean_{file.split(\"\\\\\")[-1]}\" )"
   ]
  },
  {
   "cell_type": "code",
   "execution_count": 71,
   "metadata": {},
   "outputs": [],
   "source": [
    "def remove_duplicate_columns(df):\n",
    "    df = df.drop(columns=[\"eor\", \"STATIONS_ID\", \"MESS_DATUM\"], errors = \"ignore\")\n",
    "    return df"
   ]
  },
  {
   "cell_type": "code",
   "execution_count": 72,
   "metadata": {},
   "outputs": [],
   "source": [
    "def create_master():\n",
    "    all_files = glob.glob(path + \"/clean_schnarrenberg_dwd*.csv\")\n",
    "    date_range = pd.date_range(start='2023-01-01', end='2025-12-31 23:00:00', freq='h')\n",
    "    df = pd.DataFrame(index=date_range) \n",
    "    for file in all_files:\n",
    "        df_new = pd.read_csv(file, delimiter=\",\", header=0)\n",
    "        df_new = remove_duplicate_columns(df_new)\n",
    "        df_new[\"DATUM\"] = pd.to_datetime(df_new[\"DATUM\"])\n",
    "        df_new.set_index(\"DATUM\", inplace = True)\n",
    "        df = pd.merge(df, df_new, how = \"left\", left_index = True, right_index = True, suffixes=(\"\", \"_y\"))\n",
    "    return df"
   ]
  },
  {
   "cell_type": "code",
   "execution_count": 73,
   "metadata": {},
   "outputs": [],
   "source": [
    "create_cleans()"
   ]
  },
  {
   "cell_type": "code",
   "execution_count": 74,
   "metadata": {},
   "outputs": [],
   "source": [
    "merged = create_master()"
   ]
  },
  {
   "cell_type": "code",
   "execution_count": 75,
   "metadata": {},
   "outputs": [],
   "source": [
    "merged = merged.dropna(how = \"all\")"
   ]
  },
  {
   "cell_type": "code",
   "execution_count": 76,
   "metadata": {},
   "outputs": [],
   "source": [
    "merged.to_csv(f\"{path}/clean_wetter_komplett.csv\")"
   ]
  },
  {
   "cell_type": "code",
   "execution_count": null,
   "metadata": {},
   "outputs": [],
   "source": []
  }
 ],
 "metadata": {
  "kernelspec": {
   "display_name": "base",
   "language": "python",
   "name": "python3"
  },
  "language_info": {
   "codemirror_mode": {
    "name": "ipython",
    "version": 3
   },
   "file_extension": ".py",
   "mimetype": "text/x-python",
   "name": "python",
   "nbconvert_exporter": "python",
   "pygments_lexer": "ipython3",
   "version": "3.12.4"
  }
 },
 "nbformat": 4,
 "nbformat_minor": 2
}
