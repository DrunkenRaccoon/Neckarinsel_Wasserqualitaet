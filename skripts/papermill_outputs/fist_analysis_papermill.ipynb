{
 "cells": [
  {
   "cell_type": "markdown",
   "id": "32560578",
   "metadata": {
    "tags": [
     "papermill-error-cell-tag"
    ]
   },
   "source": [
    "<span style=\"color:red; font-family:Helvetica Neue, Helvetica, Arial, sans-serif; font-size:2em;\">An Exception was encountered at '<a href=\"#papermill-error-cell\">In [5]</a>'.</span>"
   ]
  },
  {
   "cell_type": "code",
   "execution_count": 1,
   "id": "12807394",
   "metadata": {
    "execution": {
     "iopub.execute_input": "2025-05-18T14:51:06.215415Z",
     "iopub.status.busy": "2025-05-18T14:51:06.214415Z",
     "iopub.status.idle": "2025-05-18T14:51:07.060373Z",
     "shell.execute_reply": "2025-05-18T14:51:07.059379Z"
    },
    "papermill": {
     "duration": 0.85196,
     "end_time": "2025-05-18T14:51:07.062373",
     "exception": false,
     "start_time": "2025-05-18T14:51:06.210413",
     "status": "completed"
    },
    "tags": []
   },
   "outputs": [],
   "source": [
    "import pandas as pd\n",
    "from dotenv import load_dotenv\n",
    "import os\n",
    "load_dotenv()\n",
    "\n",
    "path_data = os.getenv(\"path_to_data\")"
   ]
  },
  {
   "cell_type": "code",
   "execution_count": 2,
   "id": "7008172f",
   "metadata": {
    "execution": {
     "iopub.execute_input": "2025-05-18T14:51:07.073651Z",
     "iopub.status.busy": "2025-05-18T14:51:07.072653Z",
     "iopub.status.idle": "2025-05-18T14:51:07.125688Z",
     "shell.execute_reply": "2025-05-18T14:51:07.125353Z"
    },
    "papermill": {
     "duration": 0.061983,
     "end_time": "2025-05-18T14:51:07.127357",
     "exception": false,
     "start_time": "2025-05-18T14:51:07.065374",
     "status": "completed"
    },
    "tags": []
   },
   "outputs": [
    {
     "name": "stderr",
     "output_type": "stream",
     "text": [
      "C:\\Users\\Dome Arbeit\\AppData\\Local\\Temp\\ipykernel_15608\\3846792546.py:1: UserWarning: Could not infer format, so each element will be parsed individually, falling back to `dateutil`. To ensure parsing is consistent and as-expected, please specify a format.\n",
      "  df = pd.read_csv(f\"../Daten/masterdata_2024.csv\", parse_dates=True, index_col = 1)\n"
     ]
    }
   ],
   "source": [
    "df = pd.read_csv(f\"../Daten/masterdata_2024.csv\", parse_dates=True, index_col = 1)"
   ]
  },
  {
   "cell_type": "code",
   "execution_count": 3,
   "id": "1245d8ae",
   "metadata": {
    "execution": {
     "iopub.execute_input": "2025-05-18T14:51:07.136361Z",
     "iopub.status.busy": "2025-05-18T14:51:07.136361Z",
     "iopub.status.idle": "2025-05-18T14:51:07.144968Z",
     "shell.execute_reply": "2025-05-18T14:51:07.144968Z"
    },
    "papermill": {
     "duration": 0.016613,
     "end_time": "2025-05-18T14:51:07.146971",
     "exception": false,
     "start_time": "2025-05-18T14:51:07.130358",
     "status": "completed"
    },
    "tags": []
   },
   "outputs": [],
   "source": [
    "bacteria_cols = ['ecoli', 'entro']\n",
    "\n",
    "bacteria_df = df[df[bacteria_cols].notna().any(axis=1)].copy()\n",
    "\n",
    "weather_cols = df.select_dtypes(include='number').columns.difference(bacteria_cols)\n",
    "\n",
    "weather_df = df[weather_cols]\n",
    "\n"
   ]
  },
  {
   "cell_type": "code",
   "execution_count": 4,
   "id": "74cd2513",
   "metadata": {
    "execution": {
     "iopub.execute_input": "2025-05-18T14:51:07.157107Z",
     "iopub.status.busy": "2025-05-18T14:51:07.156107Z",
     "iopub.status.idle": "2025-05-18T14:51:07.161851Z",
     "shell.execute_reply": "2025-05-18T14:51:07.161851Z"
    },
    "papermill": {
     "duration": 0.014393,
     "end_time": "2025-05-18T14:51:07.165271",
     "exception": false,
     "start_time": "2025-05-18T14:51:07.150878",
     "status": "completed"
    },
    "tags": []
   },
   "outputs": [],
   "source": [
    "def aggregate_data(time, df):\n",
    "    aggregations = [\"mean\", \"median\"]\n",
    "    selected = df[(df.index >= time - pd.Timedelta(days=3)) & (df.index < time)]\n",
    "    agg = selected.agg(aggregations)\n",
    "\n",
    "    # Flatten values and create column names\n",
    "    flattened_values = []\n",
    "    flattened_columns = []\n",
    "    for agg_name in aggregations:\n",
    "        for col in agg.columns:\n",
    "            flattened_values.append(agg.loc[agg_name, col])\n",
    "            flattened_columns.append(f\"{agg_name}_{col}\")\n",
    "    \n",
    "    # Return as a single-row DataFrame\n",
    "    return pd.DataFrame([flattened_values], columns=flattened_columns)\n"
   ]
  },
  {
   "cell_type": "markdown",
   "id": "79e7abd9",
   "metadata": {
    "tags": [
     "papermill-error-cell-tag"
    ]
   },
   "source": [
    "<span id=\"papermill-error-cell\" style=\"color:red; font-family:Helvetica Neue, Helvetica, Arial, sans-serif; font-size:2em;\">Execution using papermill encountered an exception here and stopped:</span>"
   ]
  },
  {
   "cell_type": "code",
   "execution_count": 5,
   "id": "43ca0d3e",
   "metadata": {
    "execution": {
     "iopub.execute_input": "2025-05-18T14:51:07.174857Z",
     "iopub.status.busy": "2025-05-18T14:51:07.173858Z",
     "iopub.status.idle": "2025-05-18T14:51:08.064396Z",
     "shell.execute_reply": "2025-05-18T14:51:08.063392Z"
    },
    "papermill": {
     "duration": 0.89654,
     "end_time": "2025-05-18T14:51:08.065396",
     "exception": true,
     "start_time": "2025-05-18T14:51:07.168856",
     "status": "failed"
    },
    "tags": []
   },
   "outputs": [
    {
     "ename": "TypeError",
     "evalue": "unsupported operand type(s) for -: 'int' and 'Timedelta'",
     "output_type": "error",
     "traceback": [
      "\u001b[1;31m---------------------------------------------------------------------------\u001b[0m",
      "\u001b[1;31mTypeError\u001b[0m                                 Traceback (most recent call last)",
      "Cell \u001b[1;32mIn[5], line 4\u001b[0m\n\u001b[0;32m      1\u001b[0m aggregated_rows \u001b[38;5;241m=\u001b[39m []\n\u001b[0;32m      3\u001b[0m \u001b[38;5;28;01mfor\u001b[39;00m idx, row \u001b[38;5;129;01min\u001b[39;00m bacteria_df\u001b[38;5;241m.\u001b[39miterrows():\n\u001b[1;32m----> 4\u001b[0m     agg_row \u001b[38;5;241m=\u001b[39m aggregate_data(idx, weather_df)  \u001b[38;5;66;03m# idx is the timestamp\u001b[39;00m\n\u001b[0;32m      6\u001b[0m     \u001b[38;5;66;03m# Add metadata\u001b[39;00m\n\u001b[0;32m      7\u001b[0m     agg_row[\u001b[38;5;124m'\u001b[39m\u001b[38;5;124mtimestamp\u001b[39m\u001b[38;5;124m'\u001b[39m] \u001b[38;5;241m=\u001b[39m idx\n",
      "Cell \u001b[1;32mIn[4], line 3\u001b[0m, in \u001b[0;36maggregate_data\u001b[1;34m(time, df)\u001b[0m\n\u001b[0;32m      1\u001b[0m \u001b[38;5;28;01mdef\u001b[39;00m \u001b[38;5;21maggregate_data\u001b[39m(time, df):\n\u001b[0;32m      2\u001b[0m     aggregations \u001b[38;5;241m=\u001b[39m [\u001b[38;5;124m\"\u001b[39m\u001b[38;5;124mmean\u001b[39m\u001b[38;5;124m\"\u001b[39m, \u001b[38;5;124m\"\u001b[39m\u001b[38;5;124mmedian\u001b[39m\u001b[38;5;124m\"\u001b[39m]\n\u001b[1;32m----> 3\u001b[0m     selected \u001b[38;5;241m=\u001b[39m df[(df\u001b[38;5;241m.\u001b[39mindex \u001b[38;5;241m>\u001b[39m\u001b[38;5;241m=\u001b[39m time \u001b[38;5;241m-\u001b[39m pd\u001b[38;5;241m.\u001b[39mTimedelta(days\u001b[38;5;241m=\u001b[39m\u001b[38;5;241m3\u001b[39m)) \u001b[38;5;241m&\u001b[39m (df\u001b[38;5;241m.\u001b[39mindex \u001b[38;5;241m<\u001b[39m time)]\n\u001b[0;32m      4\u001b[0m     agg \u001b[38;5;241m=\u001b[39m selected\u001b[38;5;241m.\u001b[39magg(aggregations)\n\u001b[0;32m      6\u001b[0m     \u001b[38;5;66;03m# Flatten values and create column names\u001b[39;00m\n",
      "\u001b[1;31mTypeError\u001b[0m: unsupported operand type(s) for -: 'int' and 'Timedelta'"
     ]
    }
   ],
   "source": [
    "aggregated_rows = []\n",
    "\n",
    "for idx, row in bacteria_df.iterrows():\n",
    "    agg_row = aggregate_data(idx, weather_df)  # idx is the timestamp\n",
    "\n",
    "    # Add metadata\n",
    "    agg_row['timestamp'] = idx\n",
    "    for col in bacteria_cols:\n",
    "        if col in row:  # safety check\n",
    "            agg_row[col] = row[col]\n",
    "    \n",
    "    aggregated_rows.append(agg_row)\n"
   ]
  },
  {
   "cell_type": "code",
   "execution_count": null,
   "id": "9b5684c4",
   "metadata": {
    "papermill": {
     "duration": null,
     "end_time": null,
     "exception": null,
     "start_time": null,
     "status": "pending"
    },
    "tags": []
   },
   "outputs": [],
   "source": [
    "bacteria_df"
   ]
  },
  {
   "cell_type": "code",
   "execution_count": null,
   "id": "498fe9f0",
   "metadata": {
    "papermill": {
     "duration": null,
     "end_time": null,
     "exception": null,
     "start_time": null,
     "status": "pending"
    },
    "tags": []
   },
   "outputs": [],
   "source": [
    "for idx, row in bacteria_df.iterrows():\n",
    "    print(bacteria_df.iloc[idx,, row)"
   ]
  },
  {
   "cell_type": "code",
   "execution_count": null,
   "id": "b4807655",
   "metadata": {
    "papermill": {
     "duration": null,
     "end_time": null,
     "exception": null,
     "start_time": null,
     "status": "pending"
    },
    "tags": []
   },
   "outputs": [],
   "source": [
    "# Combine all into final DataFrame\n",
    "final_df = pd.concat(aggregated_rows, ignore_index=True)\n",
    "\n",
    "# Reorder columns\n",
    "cols = ['timestamp'] + bacteria_cols + [c for c in final_df.columns if c not in ['timestamp'] + bacteria_cols]\n",
    "final_df = final_df[cols]\n"
   ]
  }
 ],
 "metadata": {
  "kernelspec": {
   "display_name": "base",
   "language": "python",
   "name": "python3"
  },
  "language_info": {
   "codemirror_mode": {
    "name": "ipython",
    "version": 3
   },
   "file_extension": ".py",
   "mimetype": "text/x-python",
   "name": "python",
   "nbconvert_exporter": "python",
   "pygments_lexer": "ipython3",
   "version": "3.12.4"
  },
  "papermill": {
   "default_parameters": {},
   "duration": 4.942314,
   "end_time": "2025-05-18T14:51:08.633219",
   "environment_variables": {},
   "exception": true,
   "input_path": "first_analysis.ipynb",
   "output_path": "papermill_outputs//fist_analysis_papermill.ipynb",
   "parameters": {},
   "start_time": "2025-05-18T14:51:03.690905",
   "version": "2.6.0"
  }
 },
 "nbformat": 4,
 "nbformat_minor": 5
}