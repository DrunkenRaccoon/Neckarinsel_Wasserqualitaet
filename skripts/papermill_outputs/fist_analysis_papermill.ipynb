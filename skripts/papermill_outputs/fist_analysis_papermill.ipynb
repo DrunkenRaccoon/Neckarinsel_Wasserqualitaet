{
 "cells": [
  {
   "cell_type": "markdown",
   "id": "26c1d20c",
   "metadata": {
    "tags": [
     "papermill-error-cell-tag"
    ]
   },
   "source": [
    "<span style=\"color:red; font-family:Helvetica Neue, Helvetica, Arial, sans-serif; font-size:2em;\">An Exception was encountered at '<a href=\"#papermill-error-cell\">In [9]</a>'.</span>"
   ]
  },
  {
   "cell_type": "code",
   "execution_count": 1,
   "id": "70824e42",
   "metadata": {
    "execution": {
     "iopub.execute_input": "2025-06-09T17:43:16.432583Z",
     "iopub.status.busy": "2025-06-09T17:43:16.432583Z",
     "iopub.status.idle": "2025-06-09T17:43:17.145185Z",
     "shell.execute_reply": "2025-06-09T17:43:17.145185Z"
    },
    "papermill": {
     "duration": 0.720752,
     "end_time": "2025-06-09T17:43:17.147669",
     "exception": false,
     "start_time": "2025-06-09T17:43:16.426917",
     "status": "completed"
    },
    "tags": []
   },
   "outputs": [],
   "source": [
    "import pandas as pd\n",
    "from dotenv import load_dotenv\n",
    "import os\n",
    "load_dotenv()\n",
    "\n",
    "path_data = os.getenv(\"path_to_data\")"
   ]
  },
  {
   "cell_type": "code",
   "execution_count": 2,
   "id": "ebd1d2da",
   "metadata": {
    "execution": {
     "iopub.execute_input": "2025-06-09T17:43:17.159367Z",
     "iopub.status.busy": "2025-06-09T17:43:17.158369Z",
     "iopub.status.idle": "2025-06-09T17:43:17.184196Z",
     "shell.execute_reply": "2025-06-09T17:43:17.184196Z"
    },
    "papermill": {
     "duration": 0.034022,
     "end_time": "2025-06-09T17:43:17.186693",
     "exception": false,
     "start_time": "2025-06-09T17:43:17.152671",
     "status": "completed"
    },
    "tags": []
   },
   "outputs": [],
   "source": [
    "df = pd.read_csv(\"../Daten/masterdata_2024.csv\", index_col=1)\n",
    "df.index = pd.to_datetime(df.index, errors=\"coerce\")  "
   ]
  },
  {
   "cell_type": "code",
   "execution_count": 3,
   "id": "27a47501",
   "metadata": {
    "execution": {
     "iopub.execute_input": "2025-06-09T17:43:17.186960Z",
     "iopub.status.busy": "2025-06-09T17:43:17.186960Z",
     "iopub.status.idle": "2025-06-09T17:43:17.202594Z",
     "shell.execute_reply": "2025-06-09T17:43:17.201590Z"
    },
    "papermill": {
     "duration": 0.017635,
     "end_time": "2025-06-09T17:43:17.204595",
     "exception": false,
     "start_time": "2025-06-09T17:43:17.186960",
     "status": "completed"
    },
    "tags": []
   },
   "outputs": [
    {
     "name": "stderr",
     "output_type": "stream",
     "text": [
      "C:\\Users\\Dome Arbeit\\AppData\\Local\\Temp\\ipykernel_636\\3812220186.py:1: FutureWarning: DataFrame.applymap has been deprecated. Use DataFrame.map instead.\n",
      "  df = df.applymap(lambda x: x if pd.api.types.is_number(x) else 0)\n"
     ]
    }
   ],
   "source": [
    "df = df.applymap(lambda x: x if pd.api.types.is_number(x) else 0)"
   ]
  },
  {
   "cell_type": "code",
   "execution_count": 4,
   "id": "42a17fb7",
   "metadata": {
    "execution": {
     "iopub.execute_input": "2025-06-09T17:43:17.214596Z",
     "iopub.status.busy": "2025-06-09T17:43:17.214596Z",
     "iopub.status.idle": "2025-06-09T17:43:17.218827Z",
     "shell.execute_reply": "2025-06-09T17:43:17.218827Z"
    },
    "papermill": {
     "duration": 0.012237,
     "end_time": "2025-06-09T17:43:17.220831",
     "exception": false,
     "start_time": "2025-06-09T17:43:17.208594",
     "status": "completed"
    },
    "tags": []
   },
   "outputs": [
    {
     "name": "stderr",
     "output_type": "stream",
     "text": [
      "C:\\Users\\Dome Arbeit\\AppData\\Local\\Temp\\ipykernel_636\\1277559549.py:1: FutureWarning: errors='ignore' is deprecated and will raise in a future version. Use to_numeric without passing `errors` and catch exceptions explicitly instead\n",
      "  df = df.apply(pd.to_numeric, errors='ignore')\n"
     ]
    }
   ],
   "source": [
    "df = df.apply(pd.to_numeric, errors='ignore')"
   ]
  },
  {
   "cell_type": "code",
   "execution_count": 5,
   "id": "449c4091",
   "metadata": {
    "execution": {
     "iopub.execute_input": "2025-06-09T17:43:17.227125Z",
     "iopub.status.busy": "2025-06-09T17:43:17.227125Z",
     "iopub.status.idle": "2025-06-09T17:43:17.235209Z",
     "shell.execute_reply": "2025-06-09T17:43:17.235209Z"
    },
    "papermill": {
     "duration": 0.010378,
     "end_time": "2025-06-09T17:43:17.235209",
     "exception": false,
     "start_time": "2025-06-09T17:43:17.224831",
     "status": "completed"
    },
    "tags": []
   },
   "outputs": [],
   "source": [
    "try:\n",
    "    df.drop(columns=[\"Unnamed: 0\"], inplace=True)\n",
    "except:\n",
    "    ..."
   ]
  },
  {
   "cell_type": "code",
   "execution_count": 6,
   "id": "045fd12e",
   "metadata": {
    "execution": {
     "iopub.execute_input": "2025-06-09T17:43:17.247718Z",
     "iopub.status.busy": "2025-06-09T17:43:17.246718Z",
     "iopub.status.idle": "2025-06-09T17:43:17.252903Z",
     "shell.execute_reply": "2025-06-09T17:43:17.252903Z"
    },
    "papermill": {
     "duration": 0.013189,
     "end_time": "2025-06-09T17:43:17.254906",
     "exception": false,
     "start_time": "2025-06-09T17:43:17.241717",
     "status": "completed"
    },
    "tags": []
   },
   "outputs": [],
   "source": [
    "bacteria_cols = [\"ecoli\", \"entro\"]\n",
    "bacteria_df = df[df[bacteria_cols].notna().any(axis=1)].copy()\n",
    "\n",
    "weather_cols = df.select_dtypes(include=\"number\").columns.difference(bacteria_cols)\n",
    "weather_df  = df[weather_cols].copy()\n"
   ]
  },
  {
   "cell_type": "code",
   "execution_count": 7,
   "id": "20c968bf",
   "metadata": {
    "execution": {
     "iopub.execute_input": "2025-06-09T17:43:17.268909Z",
     "iopub.status.busy": "2025-06-09T17:43:17.267910Z",
     "iopub.status.idle": "2025-06-09T17:43:17.273756Z",
     "shell.execute_reply": "2025-06-09T17:43:17.273756Z"
    },
    "papermill": {
     "duration": 0.013849,
     "end_time": "2025-06-09T17:43:17.273756",
     "exception": false,
     "start_time": "2025-06-09T17:43:17.259907",
     "status": "completed"
    },
    "tags": []
   },
   "outputs": [],
   "source": [
    "def aggregate_data(ts, weather, window_days=3, funcs=(\"mean\", \"sum\")):\n",
    "    mask   = (weather.index >= ts - pd.Timedelta(days=window_days)) & (weather.index < ts)\n",
    "    agg    = weather.loc[mask].agg(funcs)            # Multi-Index columns\n",
    "    flat   = agg.stack().to_frame().T                # flatten to single row\n",
    "    flat.columns = [f\"{func}_{col}\" for func, col in flat.columns]\n",
    "    return flat\n"
   ]
  },
  {
   "cell_type": "code",
   "execution_count": 8,
   "id": "c97dd3d8",
   "metadata": {
    "execution": {
     "iopub.execute_input": "2025-06-09T17:43:17.287744Z",
     "iopub.status.busy": "2025-06-09T17:43:17.287744Z",
     "iopub.status.idle": "2025-06-09T17:43:17.292327Z",
     "shell.execute_reply": "2025-06-09T17:43:17.292327Z"
    },
    "papermill": {
     "duration": 0.013588,
     "end_time": "2025-06-09T17:43:17.294331",
     "exception": false,
     "start_time": "2025-06-09T17:43:17.280743",
     "status": "completed"
    },
    "tags": []
   },
   "outputs": [],
   "source": [
    "rows = []\n",
    "\n",
    "for ts, row in bacteria_df.iterrows():\n",
    "    if pd.isna(ts):          # skip bad timestamps\n",
    "        continue\n",
    "    agg_row = aggregate_data(ts, weather_df)\n",
    "    agg_row[\"timestamp\"] = ts\n",
    "    agg_row[bacteria_cols] = row[bacteria_cols].values\n",
    "    rows.append(agg_row)"
   ]
  },
  {
   "cell_type": "code",
   "execution_count": null,
   "id": "d6fa21c1",
   "metadata": {
    "papermill": {
     "duration": 0.005001,
     "end_time": "2025-06-09T17:43:17.304332",
     "exception": false,
     "start_time": "2025-06-09T17:43:17.299331",
     "status": "completed"
    },
    "tags": []
   },
   "outputs": [],
   "source": []
  },
  {
   "cell_type": "markdown",
   "id": "9f304d83",
   "metadata": {
    "tags": [
     "papermill-error-cell-tag"
    ]
   },
   "source": [
    "<span id=\"papermill-error-cell\" style=\"color:red; font-family:Helvetica Neue, Helvetica, Arial, sans-serif; font-size:2em;\">Execution using papermill encountered an exception here and stopped:</span>"
   ]
  },
  {
   "cell_type": "code",
   "execution_count": 9,
   "id": "85153a16",
   "metadata": {
    "execution": {
     "iopub.execute_input": "2025-06-09T17:43:17.317056Z",
     "iopub.status.busy": "2025-06-09T17:43:17.316056Z",
     "iopub.status.idle": "2025-06-09T17:43:18.381567Z",
     "shell.execute_reply": "2025-06-09T17:43:18.381567Z"
    },
    "papermill": {
     "duration": 1.07345,
     "end_time": "2025-06-09T17:43:18.383570",
     "exception": true,
     "start_time": "2025-06-09T17:43:17.310120",
     "status": "failed"
    },
    "tags": []
   },
   "outputs": [
    {
     "ename": "ValueError",
     "evalue": "No objects to concatenate",
     "output_type": "error",
     "traceback": [
      "\u001b[1;31m---------------------------------------------------------------------------\u001b[0m",
      "\u001b[1;31mValueError\u001b[0m                                Traceback (most recent call last)",
      "Cell \u001b[1;32mIn[9], line 1\u001b[0m\n\u001b[1;32m----> 1\u001b[0m final_df \u001b[38;5;241m=\u001b[39m pd\u001b[38;5;241m.\u001b[39mconcat(rows, ignore_index\u001b[38;5;241m=\u001b[39m\u001b[38;5;28;01mTrue\u001b[39;00m)\n\u001b[0;32m      3\u001b[0m \u001b[38;5;66;03m# put timestamp + bacteria first\u001b[39;00m\n\u001b[0;32m      4\u001b[0m leading \u001b[38;5;241m=\u001b[39m [\u001b[38;5;124m\"\u001b[39m\u001b[38;5;124mtimestamp\u001b[39m\u001b[38;5;124m\"\u001b[39m] \u001b[38;5;241m+\u001b[39m bacteria_cols\n",
      "File \u001b[1;32mC:\\ProgramData\\anaconda3\\Lib\\site-packages\\pandas\\core\\reshape\\concat.py:382\u001b[0m, in \u001b[0;36mconcat\u001b[1;34m(objs, axis, join, ignore_index, keys, levels, names, verify_integrity, sort, copy)\u001b[0m\n\u001b[0;32m    379\u001b[0m \u001b[38;5;28;01melif\u001b[39;00m copy \u001b[38;5;129;01mand\u001b[39;00m using_copy_on_write():\n\u001b[0;32m    380\u001b[0m     copy \u001b[38;5;241m=\u001b[39m \u001b[38;5;28;01mFalse\u001b[39;00m\n\u001b[1;32m--> 382\u001b[0m op \u001b[38;5;241m=\u001b[39m _Concatenator(\n\u001b[0;32m    383\u001b[0m     objs,\n\u001b[0;32m    384\u001b[0m     axis\u001b[38;5;241m=\u001b[39maxis,\n\u001b[0;32m    385\u001b[0m     ignore_index\u001b[38;5;241m=\u001b[39mignore_index,\n\u001b[0;32m    386\u001b[0m     join\u001b[38;5;241m=\u001b[39mjoin,\n\u001b[0;32m    387\u001b[0m     keys\u001b[38;5;241m=\u001b[39mkeys,\n\u001b[0;32m    388\u001b[0m     levels\u001b[38;5;241m=\u001b[39mlevels,\n\u001b[0;32m    389\u001b[0m     names\u001b[38;5;241m=\u001b[39mnames,\n\u001b[0;32m    390\u001b[0m     verify_integrity\u001b[38;5;241m=\u001b[39mverify_integrity,\n\u001b[0;32m    391\u001b[0m     copy\u001b[38;5;241m=\u001b[39mcopy,\n\u001b[0;32m    392\u001b[0m     sort\u001b[38;5;241m=\u001b[39msort,\n\u001b[0;32m    393\u001b[0m )\n\u001b[0;32m    395\u001b[0m \u001b[38;5;28;01mreturn\u001b[39;00m op\u001b[38;5;241m.\u001b[39mget_result()\n",
      "File \u001b[1;32mC:\\ProgramData\\anaconda3\\Lib\\site-packages\\pandas\\core\\reshape\\concat.py:445\u001b[0m, in \u001b[0;36m_Concatenator.__init__\u001b[1;34m(self, objs, axis, join, keys, levels, names, ignore_index, verify_integrity, copy, sort)\u001b[0m\n\u001b[0;32m    442\u001b[0m \u001b[38;5;28mself\u001b[39m\u001b[38;5;241m.\u001b[39mverify_integrity \u001b[38;5;241m=\u001b[39m verify_integrity\n\u001b[0;32m    443\u001b[0m \u001b[38;5;28mself\u001b[39m\u001b[38;5;241m.\u001b[39mcopy \u001b[38;5;241m=\u001b[39m copy\n\u001b[1;32m--> 445\u001b[0m objs, keys \u001b[38;5;241m=\u001b[39m \u001b[38;5;28mself\u001b[39m\u001b[38;5;241m.\u001b[39m_clean_keys_and_objs(objs, keys)\n\u001b[0;32m    447\u001b[0m \u001b[38;5;66;03m# figure out what our result ndim is going to be\u001b[39;00m\n\u001b[0;32m    448\u001b[0m ndims \u001b[38;5;241m=\u001b[39m \u001b[38;5;28mself\u001b[39m\u001b[38;5;241m.\u001b[39m_get_ndims(objs)\n",
      "File \u001b[1;32mC:\\ProgramData\\anaconda3\\Lib\\site-packages\\pandas\\core\\reshape\\concat.py:507\u001b[0m, in \u001b[0;36m_Concatenator._clean_keys_and_objs\u001b[1;34m(self, objs, keys)\u001b[0m\n\u001b[0;32m    504\u001b[0m     objs_list \u001b[38;5;241m=\u001b[39m \u001b[38;5;28mlist\u001b[39m(objs)\n\u001b[0;32m    506\u001b[0m \u001b[38;5;28;01mif\u001b[39;00m \u001b[38;5;28mlen\u001b[39m(objs_list) \u001b[38;5;241m==\u001b[39m \u001b[38;5;241m0\u001b[39m:\n\u001b[1;32m--> 507\u001b[0m     \u001b[38;5;28;01mraise\u001b[39;00m \u001b[38;5;167;01mValueError\u001b[39;00m(\u001b[38;5;124m\"\u001b[39m\u001b[38;5;124mNo objects to concatenate\u001b[39m\u001b[38;5;124m\"\u001b[39m)\n\u001b[0;32m    509\u001b[0m \u001b[38;5;28;01mif\u001b[39;00m keys \u001b[38;5;129;01mis\u001b[39;00m \u001b[38;5;28;01mNone\u001b[39;00m:\n\u001b[0;32m    510\u001b[0m     objs_list \u001b[38;5;241m=\u001b[39m \u001b[38;5;28mlist\u001b[39m(com\u001b[38;5;241m.\u001b[39mnot_none(\u001b[38;5;241m*\u001b[39mobjs_list))\n",
      "\u001b[1;31mValueError\u001b[0m: No objects to concatenate"
     ]
    }
   ],
   "source": [
    "final_df = pd.concat(rows, ignore_index=True)\n",
    "\n",
    "# put timestamp + bacteria first\n",
    "leading = [\"timestamp\"] + bacteria_cols\n",
    "final_df = final_df[leading + [c for c in final_df.columns if c not in leading]]"
   ]
  },
  {
   "cell_type": "code",
   "execution_count": null,
   "id": "f4d2242d",
   "metadata": {
    "papermill": {
     "duration": null,
     "end_time": null,
     "exception": null,
     "start_time": null,
     "status": "pending"
    },
    "tags": []
   },
   "outputs": [],
   "source": [
    "final_df.fillna(0, inplace = True)"
   ]
  },
  {
   "cell_type": "code",
   "execution_count": null,
   "id": "c3f4e79a",
   "metadata": {
    "papermill": {
     "duration": null,
     "end_time": null,
     "exception": null,
     "start_time": null,
     "status": "pending"
    },
    "tags": []
   },
   "outputs": [],
   "source": [
    "final_df[\"ecoli\"] = final_df[\"ecoli\"].astype(\"float32\")"
   ]
  },
  {
   "cell_type": "code",
   "execution_count": null,
   "id": "3b514bcf",
   "metadata": {
    "papermill": {
     "duration": null,
     "end_time": null,
     "exception": null,
     "start_time": null,
     "status": "pending"
    },
    "tags": []
   },
   "outputs": [],
   "source": [
    "import re\n",
    "\n",
    "# Define a mapping from JSON special characters to UTF-8 alternatives\n",
    "json_to_utf8 = {\n",
    "    '\"': '',   # left double quotation mark\n",
    "    \"'\": '',   # left single quotation mark\n",
    "    '{': '',  # fullwidth left curly bracket\n",
    "    '}': '',  # fullwidth right curly bracket\n",
    "    '[': '',  # left black lenticular bracket\n",
    "    ']': '',  # right black lenticular bracket\n",
    "    ':': '',  # fullwidth colon\n",
    "    ',': '',  # fullwidth comma\n",
    "    '\\\\': '', # fullwidth reverse solidus\n",
    "    \" \": \"\"\n",
    "}\n",
    "\n",
    "def replace_json_chars(col):\n",
    "    # Replace each JSON character with its UTF-8 alternative\n",
    "    for k, v in json_to_utf8.items():\n",
    "        col = col.replace(k, v)\n",
    "    return col\n",
    "\n",
    "final_df.columns = [replace_json_chars(col) for col in final_df.columns]"
   ]
  },
  {
   "cell_type": "code",
   "execution_count": null,
   "id": "1764281d",
   "metadata": {
    "papermill": {
     "duration": null,
     "end_time": null,
     "exception": null,
     "start_time": null,
     "status": "pending"
    },
    "tags": []
   },
   "outputs": [],
   "source": [
    "# ---------------------------------------------------------------\n",
    "# LightGBM regression on `final_df`\n",
    "#   • target:  ecoli\n",
    "#   • drop:    entro  (and timestamp)\n",
    "# ---------------------------------------------------------------\n",
    "import pandas as pd\n",
    "import lightgbm as lgb\n",
    "from lightgbm import LGBMRegressor\n",
    "from sklearn.model_selection import train_test_split\n",
    "from sklearn.metrics import mean_squared_error, r2_score\n",
    "import matplotlib.pyplot as plt\n",
    "df_model = final_df.dropna(subset=['ecoli']).copy()\n",
    "\n",
    "X = df_model.drop(columns=['ecoli', 'entro', 'timestamp'])\n",
    "y = df_model['ecoli']\n",
    "\n",
    "X_train, X_test, y_train, y_test = train_test_split(\n",
    "    X, y, test_size=0.20, random_state=42\n",
    ")\n",
    "\n",
    "lgb_params = dict(\n",
    "    n_estimators=1000,\n",
    "    learning_rate=0.05,\n",
    "    num_leaves=31,\n",
    "    subsample=0.8,\n",
    "    colsample_bytree=0.8,\n",
    "    min_data_in_leaf=5,         \n",
    "    min_data_in_bin=5,           \n",
    "    random_state=42,\n",
    "    n_jobs=-1,\n",
    ")\n",
    "\n",
    "\n",
    "model = LGBMRegressor(**lgb_params)\n",
    "\n",
    "model.fit(\n",
    "    X_train, y_train,\n",
    "    eval_set=[(X_test, y_test)],\n",
    "    eval_metric=\"rmse\")\n",
    "\n",
    "\n",
    "y_pred = model.predict(X_test)\n",
    "rmse = mean_squared_error(y_test, y_pred, squared=False)\n",
    "r2   = r2_score(y_test, y_pred)\n",
    "\n",
    "print(f\"RMSE: {rmse:.3f}\")\n",
    "print(f\"R²  : {r2:.3f}\")\n",
    "\n",
    "import pandas as pd\n",
    "import matplotlib.pyplot as plt\n",
    "\n",
    "feature_importance_df = pd.DataFrame({\n",
    "    'feature': X.columns,\n",
    "    'importance': model.feature_importances_  # This is \"split\" importance by default\n",
    "})\n",
    "\n",
    "# Sort by importance\n",
    "feature_importance_df = feature_importance_df.sort_values(by='importance', ascending=False)\n",
    "\n",
    "# Plot top N features\n",
    "top_n = 20\n",
    "top_features = feature_importance_df.head(top_n)\n",
    "\n",
    "plt.figure(figsize=(10, 6))\n",
    "plt.barh(top_features['feature'], top_features['importance'])\n",
    "plt.xlabel(\"Feature Importance (split count)\")\n",
    "plt.title(f\"Top {top_n} Important Features (LightGBM)\")\n",
    "plt.gca().invert_yaxis()  # Most important at top\n",
    "plt.tight_layout()\n",
    "plt.show()\n"
   ]
  },
  {
   "cell_type": "code",
   "execution_count": null,
   "id": "9dfdbba5",
   "metadata": {
    "papermill": {
     "duration": null,
     "end_time": null,
     "exception": null,
     "start_time": null,
     "status": "pending"
    },
    "tags": []
   },
   "outputs": [],
   "source": [
    "import pandas as pd\n",
    "import numpy as np\n",
    "import matplotlib.pyplot as plt\n",
    "from sklearn.impute import SimpleImputer\n",
    "from sklearn.feature_selection import VarianceThreshold\n",
    "from sklearn.model_selection import train_test_split\n",
    "from sklearn.metrics import mean_squared_error, r2_score\n",
    "from lightgbm import LGBMRegressor\n",
    "from sklearn.ensemble import RandomForestRegressor\n",
    "\n",
    "# ------------------------------------------------------------------\n",
    "# 1. Prepare data --------------------------------------------------\n",
    "# ------------------------------------------------------------------\n",
    "# df = pd.read_csv(\"bacteria_weather_ready.csv\", parse_dates=['timestamp'])  # if loading from file\n",
    "\n",
    "df_model = final_df.drop(columns=[\"entro\", \"timestamp\"]).copy()\n",
    "df_model = df_model.dropna(subset=[\"ecoli\"])  # must have target\n",
    "\n",
    "X_raw = df_model.drop(columns=[\"ecoli\"])\n",
    "y = df_model[\"ecoli\"]\n",
    "\n",
    "# ------------------------------------------------------------------\n",
    "# 2. Impute missing features ---------------------------------------\n",
    "# ------------------------------------------------------------------\n",
    "imputer = SimpleImputer(strategy=\"mean\")\n",
    "X_imputed = pd.DataFrame(imputer.fit_transform(X_raw), columns=X_raw.columns)\n",
    "\n",
    "# ------------------------------------------------------------------\n",
    "# 3. Drop constant / near-constant features ------------------------\n",
    "# ------------------------------------------------------------------\n",
    "selector = VarianceThreshold(threshold=0.01)\n",
    "X_reduced = pd.DataFrame(selector.fit_transform(X_imputed),\n",
    "                         columns=X_imputed.columns[selector.get_support()])\n",
    "\n",
    "print(f\"Final shape after cleaning: {X_reduced.shape}\")\n",
    "\n",
    "# ------------------------------------------------------------------\n",
    "# 4. Train-test split ----------------------------------------------\n",
    "# ------------------------------------------------------------------\n",
    "X_train, X_test, y_train, y_test = train_test_split(\n",
    "    X_reduced, y, test_size=0.2, random_state=42\n",
    ")\n",
    "\n",
    "# ------------------------------------------------------------------\n",
    "# 5. LightGBM Model -----------------------------------------------\n",
    "# ------------------------------------------------------------------\n",
    "try:\n",
    "    model = LGBMRegressor(\n",
    "        n_estimators=1000,\n",
    "        learning_rate=0.05,\n",
    "        num_leaves=31,\n",
    "        subsample=0.8,\n",
    "        colsample_bytree=0.8,\n",
    "        min_data_in_leaf=5,\n",
    "        min_data_in_bin=5,\n",
    "        random_state=42,\n",
    "        n_jobs=-1,\n",
    "    )\n",
    "\n",
    "    model.fit(\n",
    "        X_train, y_train,\n",
    "        eval_set=[(X_test, y_test)],\n",
    "        eval_metric=\"rmse\",\n",
    "        early_stopping_rounds=50,\n",
    "        verbose=100\n",
    "    )\n",
    "\n",
    "except Exception as e:\n",
    "    print(\"⚠️ LightGBM failed, falling back to RandomForest.\")\n",
    "    print(e)\n",
    "    model = RandomForestRegressor(n_estimators=100, random_state=42)\n",
    "    model.fit(X_train, y_train)\n",
    "\n",
    "# ------------------------------------------------------------------\n",
    "# 6. Evaluation ----------------------------------------------------\n",
    "# ------------------------------------------------------------------\n",
    "y_pred = model.predict(X_test)\n",
    "rmse = mean_squared_error(y_test, y_pred, squared=False)\n",
    "r2   = r2_score(y_test, y_pred)\n",
    "\n",
    "print(f\"\\n✅ Evaluation:\")\n",
    "print(f\"RMSE: {rmse:.2f}\")\n",
    "print(f\"R²  : {r2:.3f}\")\n",
    "\n",
    "# ------------------------------------------------------------------\n",
    "# 7. Feature Importance --------------------------------------------\n",
    "# ------------------------------------------------------------------\n",
    "importances = model.feature_importances_\n",
    "fi_df = pd.DataFrame({\n",
    "    \"feature\": X_reduced.columns,\n",
    "    \"importance\": importances\n",
    "}).sort_values(by=\"importance\", ascending=False)\n",
    "\n",
    "top_n = 20\n",
    "top_features = fi_df.head(top_n)\n",
    "\n",
    "plt.figure(figsize=(10, 6))\n",
    "plt.barh(top_features[\"feature\"], top_features[\"importance\"])\n",
    "plt.title(\"Top Feature Importances\")\n",
    "plt.xlabel(\"Importance\")\n",
    "plt.gca().invert_yaxis()\n",
    "plt.tight_layout()\n",
    "plt.show()\n"
   ]
  },
  {
   "cell_type": "code",
   "execution_count": null,
   "id": "8b7ca696",
   "metadata": {
    "papermill": {
     "duration": null,
     "end_time": null,
     "exception": null,
     "start_time": null,
     "status": "pending"
    },
    "tags": []
   },
   "outputs": [],
   "source": []
  }
 ],
 "metadata": {
  "kernelspec": {
   "display_name": "base",
   "language": "python",
   "name": "python3"
  },
  "language_info": {
   "codemirror_mode": {
    "name": "ipython",
    "version": 3
   },
   "file_extension": ".py",
   "mimetype": "text/x-python",
   "name": "python",
   "nbconvert_exporter": "python",
   "pygments_lexer": "ipython3",
   "version": "3.12.4"
  },
  "papermill": {
   "default_parameters": {},
   "duration": 4.746602,
   "end_time": "2025-06-09T17:43:18.842679",
   "environment_variables": {},
   "exception": true,
   "input_path": "first_analysis.ipynb",
   "output_path": "papermill_outputs//fist_analysis_papermill.ipynb",
   "parameters": {},
   "start_time": "2025-06-09T17:43:14.096077",
   "version": "2.6.0"
  }
 },
 "nbformat": 4,
 "nbformat_minor": 5
}