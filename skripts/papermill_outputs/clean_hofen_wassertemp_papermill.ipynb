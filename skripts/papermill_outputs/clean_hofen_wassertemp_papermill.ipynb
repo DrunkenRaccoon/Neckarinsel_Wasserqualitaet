{
 "cells": [
  {
   "cell_type": "code",
   "execution_count": 1,
   "id": "a9cb56c3",
   "metadata": {
    "execution": {
     "iopub.execute_input": "2025-05-18T14:51:01.694201Z",
     "iopub.status.busy": "2025-05-18T14:51:01.694201Z",
     "iopub.status.idle": "2025-05-18T14:51:02.497705Z",
     "shell.execute_reply": "2025-05-18T14:51:02.496700Z"
    },
    "papermill": {
     "duration": 0.8108,
     "end_time": "2025-05-18T14:51:02.499705",
     "exception": false,
     "start_time": "2025-05-18T14:51:01.688905",
     "status": "completed"
    },
    "tags": []
   },
   "outputs": [
    {
     "data": {
      "text/plain": [
       "True"
      ]
     },
     "execution_count": 1,
     "metadata": {},
     "output_type": "execute_result"
    }
   ],
   "source": [
    "import pandas as pd\n",
    "import os\n",
    "from dotenv import load_dotenv\n",
    "load_dotenv()"
   ]
  },
  {
   "cell_type": "code",
   "execution_count": 2,
   "id": "1bd5b90c",
   "metadata": {
    "execution": {
     "iopub.execute_input": "2025-05-18T14:51:02.511855Z",
     "iopub.status.busy": "2025-05-18T14:51:02.510851Z",
     "iopub.status.idle": "2025-05-18T14:51:02.515770Z",
     "shell.execute_reply": "2025-05-18T14:51:02.515770Z"
    },
    "papermill": {
     "duration": 0.01407,
     "end_time": "2025-05-18T14:51:02.517775",
     "exception": false,
     "start_time": "2025-05-18T14:51:02.503705",
     "status": "completed"
    },
    "tags": []
   },
   "outputs": [],
   "source": [
    "path_daten = os.getenv(\"path_to_data\")\n",
    "path_master = os.getenv(\"path_to_master\")"
   ]
  },
  {
   "cell_type": "code",
   "execution_count": 3,
   "id": "0323869e",
   "metadata": {
    "execution": {
     "iopub.execute_input": "2025-05-18T14:51:02.528776Z",
     "iopub.status.busy": "2025-05-18T14:51:02.527776Z",
     "iopub.status.idle": "2025-05-18T14:51:02.603490Z",
     "shell.execute_reply": "2025-05-18T14:51:02.602481Z"
    },
    "papermill": {
     "duration": 0.085711,
     "end_time": "2025-05-18T14:51:02.607485",
     "exception": false,
     "start_time": "2025-05-18T14:51:02.521774",
     "status": "completed"
    },
    "tags": []
   },
   "outputs": [],
   "source": [
    "df = pd.read_csv(f\"{path_daten}/hofen_wassertemp.csv\", delimiter = \";\")"
   ]
  },
  {
   "cell_type": "code",
   "execution_count": 4,
   "id": "8530ba9d",
   "metadata": {
    "execution": {
     "iopub.execute_input": "2025-05-18T14:51:02.622490Z",
     "iopub.status.busy": "2025-05-18T14:51:02.621491Z",
     "iopub.status.idle": "2025-05-18T14:51:02.687152Z",
     "shell.execute_reply": "2025-05-18T14:51:02.687152Z"
    },
    "papermill": {
     "duration": 0.077664,
     "end_time": "2025-05-18T14:51:02.689150",
     "exception": false,
     "start_time": "2025-05-18T14:51:02.611486",
     "status": "completed"
    },
    "tags": []
   },
   "outputs": [],
   "source": [
    "df[\"Datum\"] = pd.to_datetime(df[\"Datum\"], format = \"%d.%m.%Y\")"
   ]
  },
  {
   "cell_type": "code",
   "execution_count": 5,
   "id": "51e139d8",
   "metadata": {
    "execution": {
     "iopub.execute_input": "2025-05-18T14:51:02.700151Z",
     "iopub.status.busy": "2025-05-18T14:51:02.700151Z",
     "iopub.status.idle": "2025-05-18T14:51:02.707269Z",
     "shell.execute_reply": "2025-05-18T14:51:02.707269Z"
    },
    "papermill": {
     "duration": 0.017124,
     "end_time": "2025-05-18T14:51:02.710274",
     "exception": false,
     "start_time": "2025-05-18T14:51:02.693150",
     "status": "completed"
    },
    "tags": []
   },
   "outputs": [],
   "source": [
    "df = df[df[\"Datum\"] > pd.to_datetime(\"2024-01-01\")]"
   ]
  },
  {
   "cell_type": "code",
   "execution_count": 6,
   "id": "3ee05839",
   "metadata": {
    "execution": {
     "iopub.execute_input": "2025-05-18T14:51:02.724451Z",
     "iopub.status.busy": "2025-05-18T14:51:02.723443Z",
     "iopub.status.idle": "2025-05-18T14:51:02.731520Z",
     "shell.execute_reply": "2025-05-18T14:51:02.731004Z"
    },
    "papermill": {
     "duration": 0.0187,
     "end_time": "2025-05-18T14:51:02.733973",
     "exception": false,
     "start_time": "2025-05-18T14:51:02.715273",
     "status": "completed"
    },
    "tags": []
   },
   "outputs": [],
   "source": [
    "df = df[[\"Datum\", \"Tagesmittelwert\"]]"
   ]
  },
  {
   "cell_type": "code",
   "execution_count": 7,
   "id": "3341a1fe",
   "metadata": {
    "execution": {
     "iopub.execute_input": "2025-05-18T14:51:02.743971Z",
     "iopub.status.busy": "2025-05-18T14:51:02.743971Z",
     "iopub.status.idle": "2025-05-18T14:51:02.747585Z",
     "shell.execute_reply": "2025-05-18T14:51:02.747585Z"
    },
    "papermill": {
     "duration": 0.011618,
     "end_time": "2025-05-18T14:51:02.749588",
     "exception": false,
     "start_time": "2025-05-18T14:51:02.737970",
     "status": "completed"
    },
    "tags": []
   },
   "outputs": [],
   "source": [
    "df.set_index(\"Datum\", inplace=True)"
   ]
  },
  {
   "cell_type": "code",
   "execution_count": 8,
   "id": "2db0cd02",
   "metadata": {
    "execution": {
     "iopub.execute_input": "2025-05-18T14:51:02.758590Z",
     "iopub.status.busy": "2025-05-18T14:51:02.758590Z",
     "iopub.status.idle": "2025-05-18T14:51:02.795634Z",
     "shell.execute_reply": "2025-05-18T14:51:02.795634Z"
    },
    "papermill": {
     "duration": 0.044048,
     "end_time": "2025-05-18T14:51:02.797637",
     "exception": false,
     "start_time": "2025-05-18T14:51:02.753589",
     "status": "completed"
    },
    "tags": []
   },
   "outputs": [],
   "source": [
    "df_master = pd.read_csv(f\"{path_master}/masterdata_2024.csv\", index_col=1, parse_dates=True)"
   ]
  },
  {
   "cell_type": "code",
   "execution_count": 9,
   "id": "a7e7981f",
   "metadata": {
    "execution": {
     "iopub.execute_input": "2025-05-18T14:51:02.807639Z",
     "iopub.status.busy": "2025-05-18T14:51:02.807639Z",
     "iopub.status.idle": "2025-05-18T14:51:02.823247Z",
     "shell.execute_reply": "2025-05-18T14:51:02.823247Z"
    },
    "papermill": {
     "duration": 0.023667,
     "end_time": "2025-05-18T14:51:02.825304",
     "exception": false,
     "start_time": "2025-05-18T14:51:02.801637",
     "status": "completed"
    },
    "tags": []
   },
   "outputs": [],
   "source": [
    "df[\"Tagesmittelwert\"] = df[\"Tagesmittelwert\"].apply(pd.to_numeric, errors = \"coerce\")\n",
    "df.rename(columns = {\"Tagesmittelwert\": \"Wassertemperatur Hofen\"}, inplace = True)\n",
    "df = df.resample(\"h\").bfill().ffill()"
   ]
  },
  {
   "cell_type": "code",
   "execution_count": 10,
   "id": "ff6a995b",
   "metadata": {
    "execution": {
     "iopub.execute_input": "2025-05-18T14:51:02.838420Z",
     "iopub.status.busy": "2025-05-18T14:51:02.837419Z",
     "iopub.status.idle": "2025-05-18T14:51:02.846025Z",
     "shell.execute_reply": "2025-05-18T14:51:02.845021Z"
    },
    "papermill": {
     "duration": 0.017606,
     "end_time": "2025-05-18T14:51:02.848025",
     "exception": false,
     "start_time": "2025-05-18T14:51:02.830419",
     "status": "completed"
    },
    "tags": []
   },
   "outputs": [],
   "source": [
    "df_master = df_master.merge(df, left_index=True, right_index=True)"
   ]
  },
  {
   "cell_type": "code",
   "execution_count": 11,
   "id": "cbcc403c",
   "metadata": {
    "execution": {
     "iopub.execute_input": "2025-05-18T14:51:02.858029Z",
     "iopub.status.busy": "2025-05-18T14:51:02.857110Z",
     "iopub.status.idle": "2025-05-18T14:51:03.154447Z",
     "shell.execute_reply": "2025-05-18T14:51:03.153442Z"
    },
    "papermill": {
     "duration": 0.305423,
     "end_time": "2025-05-18T14:51:03.156448",
     "exception": false,
     "start_time": "2025-05-18T14:51:02.851025",
     "status": "completed"
    },
    "tags": []
   },
   "outputs": [],
   "source": [
    "df_master.to_csv(f\"{path_master}/masterdata_2024.csv\")"
   ]
  }
 ],
 "metadata": {
  "kernelspec": {
   "display_name": "base",
   "language": "python",
   "name": "python3"
  },
  "language_info": {
   "codemirror_mode": {
    "name": "ipython",
    "version": 3
   },
   "file_extension": ".py",
   "mimetype": "text/x-python",
   "name": "python",
   "nbconvert_exporter": "python",
   "pygments_lexer": "ipython3",
   "version": "3.12.4"
  },
  "papermill": {
   "default_parameters": {},
   "duration": 4.257064,
   "end_time": "2025-05-18T14:51:03.605992",
   "environment_variables": {},
   "exception": null,
   "input_path": "clean_hofen_wassertemp.ipynb",
   "output_path": "papermill_outputs//clean_hofen_wassertemp_papermill.ipynb",
   "parameters": {},
   "start_time": "2025-05-18T14:50:59.348928",
   "version": "2.6.0"
  }
 },
 "nbformat": 4,
 "nbformat_minor": 5
}