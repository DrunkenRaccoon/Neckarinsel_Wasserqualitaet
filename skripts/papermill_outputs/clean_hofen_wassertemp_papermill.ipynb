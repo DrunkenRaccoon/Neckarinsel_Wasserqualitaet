{
 "cells": [
  {
   "cell_type": "code",
   "execution_count": 1,
   "id": "b494b761",
   "metadata": {
    "execution": {
     "iopub.execute_input": "2025-02-25T10:29:46.230777Z",
     "iopub.status.busy": "2025-02-25T10:29:46.230263Z",
     "iopub.status.idle": "2025-02-25T10:29:46.940268Z",
     "shell.execute_reply": "2025-02-25T10:29:46.939756Z"
    },
    "papermill": {
     "duration": 0.717184,
     "end_time": "2025-02-25T10:29:46.942333",
     "exception": false,
     "start_time": "2025-02-25T10:29:46.225149",
     "status": "completed"
    },
    "tags": []
   },
   "outputs": [
    {
     "data": {
      "text/plain": [
       "True"
      ]
     },
     "execution_count": 1,
     "metadata": {},
     "output_type": "execute_result"
    }
   ],
   "source": [
    "import pandas as pd\n",
    "import os\n",
    "from dotenv import load_dotenv\n",
    "load_dotenv()"
   ]
  },
  {
   "cell_type": "code",
   "execution_count": 2,
   "id": "d0cc99aa",
   "metadata": {
    "execution": {
     "iopub.execute_input": "2025-02-25T10:29:46.954815Z",
     "iopub.status.busy": "2025-02-25T10:29:46.953751Z",
     "iopub.status.idle": "2025-02-25T10:29:46.958955Z",
     "shell.execute_reply": "2025-02-25T10:29:46.958440Z"
    },
    "papermill": {
     "duration": 0.013518,
     "end_time": "2025-02-25T10:29:46.960999",
     "exception": false,
     "start_time": "2025-02-25T10:29:46.947481",
     "status": "completed"
    },
    "tags": []
   },
   "outputs": [],
   "source": [
    "path_daten = os.getenv(\"path_to_data\")\n",
    "path_master = os.getenv(\"path_to_master\")"
   ]
  },
  {
   "cell_type": "code",
   "execution_count": 3,
   "id": "5157f120",
   "metadata": {
    "execution": {
     "iopub.execute_input": "2025-02-25T10:29:46.969760Z",
     "iopub.status.busy": "2025-02-25T10:29:46.969250Z",
     "iopub.status.idle": "2025-02-25T10:29:47.012992Z",
     "shell.execute_reply": "2025-02-25T10:29:47.012478Z"
    },
    "papermill": {
     "duration": 0.050981,
     "end_time": "2025-02-25T10:29:47.015045",
     "exception": false,
     "start_time": "2025-02-25T10:29:46.964064",
     "status": "completed"
    },
    "tags": []
   },
   "outputs": [],
   "source": [
    "df = pd.read_csv(f\"{path_daten}/hofen_wassertemp.csv\", delimiter = \";\")"
   ]
  },
  {
   "cell_type": "code",
   "execution_count": 4,
   "id": "c24eeabc",
   "metadata": {
    "execution": {
     "iopub.execute_input": "2025-02-25T10:29:47.024849Z",
     "iopub.status.busy": "2025-02-25T10:29:47.024338Z",
     "iopub.status.idle": "2025-02-25T10:29:47.087986Z",
     "shell.execute_reply": "2025-02-25T10:29:47.087474Z"
    },
    "papermill": {
     "duration": 0.071909,
     "end_time": "2025-02-25T10:29:47.090548",
     "exception": false,
     "start_time": "2025-02-25T10:29:47.018639",
     "status": "completed"
    },
    "tags": []
   },
   "outputs": [],
   "source": [
    "df[\"Datum\"] = pd.to_datetime(df[\"Datum\"], format = \"%d.%m.%Y\")"
   ]
  },
  {
   "cell_type": "code",
   "execution_count": 5,
   "id": "900d4b73",
   "metadata": {
    "execution": {
     "iopub.execute_input": "2025-02-25T10:29:47.100836Z",
     "iopub.status.busy": "2025-02-25T10:29:47.100319Z",
     "iopub.status.idle": "2025-02-25T10:29:47.108568Z",
     "shell.execute_reply": "2025-02-25T10:29:47.108053Z"
    },
    "papermill": {
     "duration": 0.016515,
     "end_time": "2025-02-25T10:29:47.110630",
     "exception": false,
     "start_time": "2025-02-25T10:29:47.094115",
     "status": "completed"
    },
    "tags": []
   },
   "outputs": [],
   "source": [
    "df = df[df[\"Datum\"] > pd.to_datetime(\"2024-01-01\")]"
   ]
  },
  {
   "cell_type": "code",
   "execution_count": 6,
   "id": "e799ff0a",
   "metadata": {
    "execution": {
     "iopub.execute_input": "2025-02-25T10:29:47.119896Z",
     "iopub.status.busy": "2025-02-25T10:29:47.119386Z",
     "iopub.status.idle": "2025-02-25T10:29:47.124516Z",
     "shell.execute_reply": "2025-02-25T10:29:47.124005Z"
    },
    "papermill": {
     "duration": 0.011318,
     "end_time": "2025-02-25T10:29:47.126062",
     "exception": false,
     "start_time": "2025-02-25T10:29:47.114744",
     "status": "completed"
    },
    "tags": []
   },
   "outputs": [],
   "source": [
    "df = df[[\"Datum\", \"Tagesmittelwert\"]]"
   ]
  },
  {
   "cell_type": "code",
   "execution_count": 7,
   "id": "e484b6ac",
   "metadata": {
    "execution": {
     "iopub.execute_input": "2025-02-25T10:29:47.135336Z",
     "iopub.status.busy": "2025-02-25T10:29:47.134823Z",
     "iopub.status.idle": "2025-02-25T10:29:47.138941Z",
     "shell.execute_reply": "2025-02-25T10:29:47.138426Z"
    },
    "papermill": {
     "duration": 0.011379,
     "end_time": "2025-02-25T10:29:47.141031",
     "exception": false,
     "start_time": "2025-02-25T10:29:47.129652",
     "status": "completed"
    },
    "tags": []
   },
   "outputs": [],
   "source": [
    "df.set_index(\"Datum\", inplace=True)"
   ]
  },
  {
   "cell_type": "code",
   "execution_count": 8,
   "id": "bb9bf8c5",
   "metadata": {
    "execution": {
     "iopub.execute_input": "2025-02-25T10:29:47.151353Z",
     "iopub.status.busy": "2025-02-25T10:29:47.150843Z",
     "iopub.status.idle": "2025-02-25T10:29:47.191471Z",
     "shell.execute_reply": "2025-02-25T10:29:47.190922Z"
    },
    "papermill": {
     "duration": 0.04836,
     "end_time": "2025-02-25T10:29:47.193520",
     "exception": false,
     "start_time": "2025-02-25T10:29:47.145160",
     "status": "completed"
    },
    "tags": []
   },
   "outputs": [],
   "source": [
    "df_master = pd.read_csv(f\"{path_master}/masterdata_2024.csv\", index_col=1, parse_dates=True)"
   ]
  },
  {
   "cell_type": "code",
   "execution_count": 9,
   "id": "027a64fc",
   "metadata": {
    "execution": {
     "iopub.execute_input": "2025-02-25T10:29:47.203232Z",
     "iopub.status.busy": "2025-02-25T10:29:47.203232Z",
     "iopub.status.idle": "2025-02-25T10:29:47.218722Z",
     "shell.execute_reply": "2025-02-25T10:29:47.218207Z"
    },
    "papermill": {
     "duration": 0.022687,
     "end_time": "2025-02-25T10:29:47.220782",
     "exception": false,
     "start_time": "2025-02-25T10:29:47.198095",
     "status": "completed"
    },
    "tags": []
   },
   "outputs": [],
   "source": [
    "df[\"Tagesmittelwert\"] = df[\"Tagesmittelwert\"].apply(pd.to_numeric, errors = \"coerce\")\n",
    "df.rename(columns = {\"Tagesmittelwert\": \"Wassertemperatur Hofen\"}, inplace = True)\n",
    "df = df.resample(\"h\").bfill().ffill()"
   ]
  },
  {
   "cell_type": "code",
   "execution_count": 10,
   "id": "880e26ac",
   "metadata": {
    "execution": {
     "iopub.execute_input": "2025-02-25T10:29:47.230512Z",
     "iopub.status.busy": "2025-02-25T10:29:47.229999Z",
     "iopub.status.idle": "2025-02-25T10:29:47.236710Z",
     "shell.execute_reply": "2025-02-25T10:29:47.236199Z"
    },
    "papermill": {
     "duration": 0.013374,
     "end_time": "2025-02-25T10:29:47.238252",
     "exception": false,
     "start_time": "2025-02-25T10:29:47.224878",
     "status": "completed"
    },
    "tags": []
   },
   "outputs": [],
   "source": [
    "df_master = df_master.merge(df, left_index=True, right_index=True)"
   ]
  },
  {
   "cell_type": "code",
   "execution_count": 11,
   "id": "f634e6f8",
   "metadata": {
    "execution": {
     "iopub.execute_input": "2025-02-25T10:29:47.248615Z",
     "iopub.status.busy": "2025-02-25T10:29:47.248101Z",
     "iopub.status.idle": "2025-02-25T10:29:47.515196Z",
     "shell.execute_reply": "2025-02-25T10:29:47.514684Z"
    },
    "papermill": {
     "duration": 0.27488,
     "end_time": "2025-02-25T10:29:47.517279",
     "exception": false,
     "start_time": "2025-02-25T10:29:47.242399",
     "status": "completed"
    },
    "tags": []
   },
   "outputs": [],
   "source": [
    "df_master.to_csv(f\"{path_master}/masterdata_2024.csv\")"
   ]
  }
 ],
 "metadata": {
  "kernelspec": {
   "display_name": "base",
   "language": "python",
   "name": "python3"
  },
  "language_info": {
   "codemirror_mode": {
    "name": "ipython",
    "version": 3
   },
   "file_extension": ".py",
   "mimetype": "text/x-python",
   "name": "python",
   "nbconvert_exporter": "python",
   "pygments_lexer": "ipython3",
   "version": "3.12.4"
  },
  "papermill": {
   "default_parameters": {},
   "duration": 3.896549,
   "end_time": "2025-02-25T10:29:47.841310",
   "environment_variables": {},
   "exception": null,
   "input_path": "clean_hofen_wassertemp.ipynb",
   "output_path": "papermill_outputs//clean_hofen_wassertemp_papermill.ipynb",
   "parameters": {},
   "start_time": "2025-02-25T10:29:43.944761",
   "version": "2.6.0"
  }
 },
 "nbformat": 4,
 "nbformat_minor": 5
}