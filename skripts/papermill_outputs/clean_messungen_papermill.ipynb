{
 "cells": [
  {
   "cell_type": "code",
   "execution_count": 1,
   "id": "f66fcdd4",
   "metadata": {
    "execution": {
     "iopub.execute_input": "2025-06-19T12:50:10.361853Z",
     "iopub.status.busy": "2025-06-19T12:50:10.361853Z",
     "iopub.status.idle": "2025-06-19T12:50:11.270690Z",
     "shell.execute_reply": "2025-06-19T12:50:11.269694Z"
    },
    "papermill": {
     "duration": 0.917839,
     "end_time": "2025-06-19T12:50:11.272689",
     "exception": false,
     "start_time": "2025-06-19T12:50:10.354850",
     "status": "completed"
    },
    "tags": []
   },
   "outputs": [
    {
     "data": {
      "text/plain": [
       "True"
      ]
     },
     "execution_count": 1,
     "metadata": {},
     "output_type": "execute_result"
    }
   ],
   "source": [
    "import pandas as pd\n",
    "import os\n",
    "import os\n",
    "from dotenv import load_dotenv\n",
    "load_dotenv()"
   ]
  },
  {
   "cell_type": "markdown",
   "id": "e92be2d9",
   "metadata": {
    "papermill": {
     "duration": 0.006002,
     "end_time": "2025-06-19T12:50:11.283694",
     "exception": false,
     "start_time": "2025-06-19T12:50:11.277692",
     "status": "completed"
    },
    "tags": []
   },
   "source": [
    "## Load Data"
   ]
  },
  {
   "cell_type": "code",
   "execution_count": 2,
   "id": "68cb6572",
   "metadata": {
    "execution": {
     "iopub.execute_input": "2025-06-19T12:50:11.308699Z",
     "iopub.status.busy": "2025-06-19T12:50:11.307699Z",
     "iopub.status.idle": "2025-06-19T12:50:11.316286Z",
     "shell.execute_reply": "2025-06-19T12:50:11.314296Z"
    },
    "papermill": {
     "duration": 0.028593,
     "end_time": "2025-06-19T12:50:11.320288",
     "exception": false,
     "start_time": "2025-06-19T12:50:11.291695",
     "status": "completed"
    },
    "tags": []
   },
   "outputs": [],
   "source": [
    "path = os.getenv(\"path_to_data\")\n",
    "path_master = os.getenv(\"path_to_master\")"
   ]
  },
  {
   "cell_type": "code",
   "execution_count": 3,
   "id": "d6441656",
   "metadata": {
    "execution": {
     "iopub.execute_input": "2025-06-19T12:50:11.342292Z",
     "iopub.status.busy": "2025-06-19T12:50:11.340293Z",
     "iopub.status.idle": "2025-06-19T12:50:11.361321Z",
     "shell.execute_reply": "2025-06-19T12:50:11.360326Z"
    },
    "papermill": {
     "duration": 0.036032,
     "end_time": "2025-06-19T12:50:11.363321",
     "exception": false,
     "start_time": "2025-06-19T12:50:11.327289",
     "status": "completed"
    },
    "tags": []
   },
   "outputs": [],
   "source": [
    "df = pd.read_csv(f\"{path_master}/messungen_2024.csv\", delimiter =\";\").T\n",
    "df.columns= df.iloc[0]\n",
    "df = df.iloc[1:].copy()\n",
    "df.columns = [\"zeit\", \"ecoli\", \"entro\", \"pos_neg\"]\n",
    "df.index.rename(\"DATUM\", inplace = True)"
   ]
  },
  {
   "cell_type": "code",
   "execution_count": 4,
   "id": "8cd3eede",
   "metadata": {
    "execution": {
     "iopub.execute_input": "2025-06-19T12:50:11.385847Z",
     "iopub.status.busy": "2025-06-19T12:50:11.384841Z",
     "iopub.status.idle": "2025-06-19T12:50:11.394529Z",
     "shell.execute_reply": "2025-06-19T12:50:11.394529Z"
    },
    "papermill": {
     "duration": 0.027203,
     "end_time": "2025-06-19T12:50:11.397527",
     "exception": false,
     "start_time": "2025-06-19T12:50:11.370324",
     "status": "completed"
    },
    "tags": []
   },
   "outputs": [],
   "source": [
    "for col in [\"ecoli\", \"entro\"]:\n",
    "    df[col] = df[col].str.replace(\">800\", \"8000\")\n",
    "    df[col] = df[col].str.replace(\">80\", \"8000\")\n",
    "    df[col] = df[col].str.replace(\">\", \"\").astype(float)"
   ]
  },
  {
   "cell_type": "code",
   "execution_count": 5,
   "id": "dfbe6f83",
   "metadata": {
    "execution": {
     "iopub.execute_input": "2025-06-19T12:50:11.413531Z",
     "iopub.status.busy": "2025-06-19T12:50:11.412529Z",
     "iopub.status.idle": "2025-06-19T12:50:11.420040Z",
     "shell.execute_reply": "2025-06-19T12:50:11.419052Z"
    },
    "papermill": {
     "duration": 0.018514,
     "end_time": "2025-06-19T12:50:11.422041",
     "exception": false,
     "start_time": "2025-06-19T12:50:11.403527",
     "status": "completed"
    },
    "tags": []
   },
   "outputs": [],
   "source": [
    "df.reset_index(inplace = True)"
   ]
  },
  {
   "cell_type": "code",
   "execution_count": 6,
   "id": "79ac9ab1",
   "metadata": {
    "execution": {
     "iopub.execute_input": "2025-06-19T12:50:11.434044Z",
     "iopub.status.busy": "2025-06-19T12:50:11.434044Z",
     "iopub.status.idle": "2025-06-19T12:50:11.446257Z",
     "shell.execute_reply": "2025-06-19T12:50:11.445262Z"
    },
    "papermill": {
     "duration": 0.022217,
     "end_time": "2025-06-19T12:50:11.449259",
     "exception": false,
     "start_time": "2025-06-19T12:50:11.427042",
     "status": "completed"
    },
    "tags": []
   },
   "outputs": [],
   "source": [
    "month_map = {\n",
    "    'Jan': '01.',\n",
    "    'Febr': '02.',\n",
    "    'Mär': '03.',\n",
    "    'Apr': '04.',\n",
    "    'Mai': '05.',\n",
    "    'Jun': '06.',\n",
    "    'Jul': '07.',\n",
    "    'Aug': '08.',\n",
    "    'Sep': '09.',\n",
    "    'Okt': '10.',\n",
    "    'Nov': '11.',\n",
    "    'Dez': '12.'\n",
    "}\n",
    "\n",
    "for key, value in month_map.items():\n",
    "    df[\"DATUM\"] = df[\"DATUM\"].str.replace(key, value)"
   ]
  },
  {
   "cell_type": "code",
   "execution_count": 7,
   "id": "6652012e",
   "metadata": {
    "execution": {
     "iopub.execute_input": "2025-06-19T12:50:11.465263Z",
     "iopub.status.busy": "2025-06-19T12:50:11.464263Z",
     "iopub.status.idle": "2025-06-19T12:50:11.469774Z",
     "shell.execute_reply": "2025-06-19T12:50:11.468793Z"
    },
    "papermill": {
     "duration": 0.016514,
     "end_time": "2025-06-19T12:50:11.471774",
     "exception": false,
     "start_time": "2025-06-19T12:50:11.455260",
     "status": "completed"
    },
    "tags": []
   },
   "outputs": [],
   "source": [
    "def fill_year(date):\n",
    "    if date[-2:] != \"24\":\n",
    "        return date + \" 24\"\n",
    "    else:\n",
    "        return date"
   ]
  },
  {
   "cell_type": "code",
   "execution_count": 8,
   "id": "d4f73f87",
   "metadata": {
    "execution": {
     "iopub.execute_input": "2025-06-19T12:50:11.489782Z",
     "iopub.status.busy": "2025-06-19T12:50:11.487781Z",
     "iopub.status.idle": "2025-06-19T12:50:11.497716Z",
     "shell.execute_reply": "2025-06-19T12:50:11.496723Z"
    },
    "papermill": {
     "duration": 0.022943,
     "end_time": "2025-06-19T12:50:11.500718",
     "exception": false,
     "start_time": "2025-06-19T12:50:11.477775",
     "status": "completed"
    },
    "tags": []
   },
   "outputs": [],
   "source": [
    "def fix_date(date):\n",
    "    date = date.split(\" \")\n",
    "    date = \"20\" + date[-1] + \"-\" + date[1][:-1] + \"-\" + date[0][:-1]\n",
    "    return date"
   ]
  },
  {
   "cell_type": "code",
   "execution_count": 9,
   "id": "2ebb4399",
   "metadata": {
    "execution": {
     "iopub.execute_input": "2025-06-19T12:50:11.521724Z",
     "iopub.status.busy": "2025-06-19T12:50:11.520723Z",
     "iopub.status.idle": "2025-06-19T12:50:11.529629Z",
     "shell.execute_reply": "2025-06-19T12:50:11.527639Z"
    },
    "papermill": {
     "duration": 0.025911,
     "end_time": "2025-06-19T12:50:11.534631",
     "exception": false,
     "start_time": "2025-06-19T12:50:11.508720",
     "status": "completed"
    },
    "tags": []
   },
   "outputs": [],
   "source": [
    "def add_time(date, time):\n",
    "    time = time.apply(lambda x: x.split(\":\")[0])\n",
    "    date = date + \" \" + time + \":00:00\"\n",
    "    return date"
   ]
  },
  {
   "cell_type": "code",
   "execution_count": 10,
   "id": "075dde5d",
   "metadata": {
    "execution": {
     "iopub.execute_input": "2025-06-19T12:50:11.556634Z",
     "iopub.status.busy": "2025-06-19T12:50:11.554636Z",
     "iopub.status.idle": "2025-06-19T12:50:11.565096Z",
     "shell.execute_reply": "2025-06-19T12:50:11.564104Z"
    },
    "papermill": {
     "duration": 0.024465,
     "end_time": "2025-06-19T12:50:11.568097",
     "exception": false,
     "start_time": "2025-06-19T12:50:11.543632",
     "status": "completed"
    },
    "tags": []
   },
   "outputs": [],
   "source": [
    "df[\"DATUM\"] = df[\"DATUM\"].apply(fill_year).apply(fix_date)\n",
    "df[\"DATUM\"] = add_time(df[\"DATUM\"], df[\"zeit\"])"
   ]
  },
  {
   "cell_type": "code",
   "execution_count": 11,
   "id": "e02fd71b",
   "metadata": {
    "execution": {
     "iopub.execute_input": "2025-06-19T12:50:11.589106Z",
     "iopub.status.busy": "2025-06-19T12:50:11.589106Z",
     "iopub.status.idle": "2025-06-19T12:50:11.601206Z",
     "shell.execute_reply": "2025-06-19T12:50:11.600228Z"
    },
    "papermill": {
     "duration": 0.029105,
     "end_time": "2025-06-19T12:50:11.604208",
     "exception": false,
     "start_time": "2025-06-19T12:50:11.575103",
     "status": "completed"
    },
    "tags": []
   },
   "outputs": [],
   "source": [
    "df[\"DATUM\"] = pd.to_datetime(df[\"DATUM\"])"
   ]
  },
  {
   "cell_type": "code",
   "execution_count": 12,
   "id": "8e9d3ec8",
   "metadata": {
    "execution": {
     "iopub.execute_input": "2025-06-19T12:50:11.625217Z",
     "iopub.status.busy": "2025-06-19T12:50:11.624212Z",
     "iopub.status.idle": "2025-06-19T12:50:11.633609Z",
     "shell.execute_reply": "2025-06-19T12:50:11.632615Z"
    },
    "papermill": {
     "duration": 0.024405,
     "end_time": "2025-06-19T12:50:11.636615",
     "exception": false,
     "start_time": "2025-06-19T12:50:11.612210",
     "status": "completed"
    },
    "tags": []
   },
   "outputs": [],
   "source": [
    "df[\"DATUM\"] = df[\"DATUM\"].dt.round('h')"
   ]
  },
  {
   "cell_type": "code",
   "execution_count": 13,
   "id": "849d6a43",
   "metadata": {
    "execution": {
     "iopub.execute_input": "2025-06-19T12:50:11.656616Z",
     "iopub.status.busy": "2025-06-19T12:50:11.655616Z",
     "iopub.status.idle": "2025-06-19T12:50:11.663087Z",
     "shell.execute_reply": "2025-06-19T12:50:11.662094Z"
    },
    "papermill": {
     "duration": 0.022476,
     "end_time": "2025-06-19T12:50:11.665087",
     "exception": false,
     "start_time": "2025-06-19T12:50:11.642611",
     "status": "completed"
    },
    "tags": []
   },
   "outputs": [],
   "source": [
    "df.set_index(\"DATUM\", inplace = True)"
   ]
  },
  {
   "cell_type": "code",
   "execution_count": 14,
   "id": "74b4a9c8",
   "metadata": {
    "execution": {
     "iopub.execute_input": "2025-06-19T12:50:11.683097Z",
     "iopub.status.busy": "2025-06-19T12:50:11.683097Z",
     "iopub.status.idle": "2025-06-19T12:50:11.697542Z",
     "shell.execute_reply": "2025-06-19T12:50:11.696557Z"
    },
    "papermill": {
     "duration": 0.027454,
     "end_time": "2025-06-19T12:50:11.700543",
     "exception": false,
     "start_time": "2025-06-19T12:50:11.673089",
     "status": "completed"
    },
    "tags": []
   },
   "outputs": [],
   "source": [
    "df.to_csv(f\"{path_master}/messungen_clean_2024.csv\")"
   ]
  },
  {
   "cell_type": "code",
   "execution_count": null,
   "id": "a3612103",
   "metadata": {
    "papermill": {
     "duration": 0.008003,
     "end_time": "2025-06-19T12:50:11.714547",
     "exception": false,
     "start_time": "2025-06-19T12:50:11.706544",
     "status": "completed"
    },
    "tags": []
   },
   "outputs": [],
   "source": []
  }
 ],
 "metadata": {
  "kernelspec": {
   "display_name": "base",
   "language": "python",
   "name": "python3"
  },
  "language_info": {
   "codemirror_mode": {
    "name": "ipython",
    "version": 3
   },
   "file_extension": ".py",
   "mimetype": "text/x-python",
   "name": "python",
   "nbconvert_exporter": "python",
   "pygments_lexer": "ipython3",
   "version": "3.12.4"
  },
  "papermill": {
   "default_parameters": {},
   "duration": 4.356681,
   "end_time": "2025-06-19T12:50:12.171221",
   "environment_variables": {},
   "exception": null,
   "input_path": "clean_messungen.ipynb",
   "output_path": "papermill_outputs//clean_messungen_papermill.ipynb",
   "parameters": {},
   "start_time": "2025-06-19T12:50:07.814540",
   "version": "2.6.0"
  }
 },
 "nbformat": 4,
 "nbformat_minor": 5
}