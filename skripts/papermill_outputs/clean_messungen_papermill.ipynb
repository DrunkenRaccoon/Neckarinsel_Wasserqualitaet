{
 "cells": [
  {
   "cell_type": "code",
   "execution_count": 1,
   "id": "8e3d4c69",
   "metadata": {
    "execution": {
     "iopub.execute_input": "2025-02-25T10:29:38.463191Z",
     "iopub.status.busy": "2025-02-25T10:29:38.463191Z",
     "iopub.status.idle": "2025-02-25T10:29:39.214738Z",
     "shell.execute_reply": "2025-02-25T10:29:39.213712Z"
    },
    "papermill": {
     "duration": 0.759831,
     "end_time": "2025-02-25T10:29:39.216280",
     "exception": false,
     "start_time": "2025-02-25T10:29:38.456449",
     "status": "completed"
    },
    "tags": []
   },
   "outputs": [
    {
     "data": {
      "text/plain": [
       "True"
      ]
     },
     "execution_count": 1,
     "metadata": {},
     "output_type": "execute_result"
    }
   ],
   "source": [
    "import pandas as pd\n",
    "import os\n",
    "import os\n",
    "from dotenv import load_dotenv\n",
    "load_dotenv()"
   ]
  },
  {
   "cell_type": "markdown",
   "id": "5df1b0e7",
   "metadata": {
    "papermill": {
     "duration": 0.005207,
     "end_time": "2025-02-25T10:29:39.226669",
     "exception": false,
     "start_time": "2025-02-25T10:29:39.221462",
     "status": "completed"
    },
    "tags": []
   },
   "source": [
    "## Load Data"
   ]
  },
  {
   "cell_type": "code",
   "execution_count": 2,
   "id": "b72437a7",
   "metadata": {
    "execution": {
     "iopub.execute_input": "2025-02-25T10:29:39.239665Z",
     "iopub.status.busy": "2025-02-25T10:29:39.238619Z",
     "iopub.status.idle": "2025-02-25T10:29:39.245416Z",
     "shell.execute_reply": "2025-02-25T10:29:39.244373Z"
    },
    "papermill": {
     "duration": 0.015071,
     "end_time": "2025-02-25T10:29:39.247509",
     "exception": false,
     "start_time": "2025-02-25T10:29:39.232438",
     "status": "completed"
    },
    "tags": []
   },
   "outputs": [],
   "source": [
    "path = os.getenv(\"path_to_data\")\n",
    "path_master = os.getenv(\"path_to_master\")"
   ]
  },
  {
   "cell_type": "code",
   "execution_count": 3,
   "id": "00074858",
   "metadata": {
    "execution": {
     "iopub.execute_input": "2025-02-25T10:29:39.258348Z",
     "iopub.status.busy": "2025-02-25T10:29:39.257829Z",
     "iopub.status.idle": "2025-02-25T10:29:39.270695Z",
     "shell.execute_reply": "2025-02-25T10:29:39.270183Z"
    },
    "papermill": {
     "duration": 0.020619,
     "end_time": "2025-02-25T10:29:39.272250",
     "exception": false,
     "start_time": "2025-02-25T10:29:39.251631",
     "status": "completed"
    },
    "tags": []
   },
   "outputs": [],
   "source": [
    "df = pd.read_csv(f\"{path_master}/messungen_2024.csv\", delimiter =\";\").T\n",
    "df.columns= df.iloc[0]\n",
    "df = df.iloc[1:].copy()\n",
    "df.columns = [\"zeit\", \"ecoli\", \"entro\", \"pos_neg\"]\n",
    "df.index.rename(\"DATUM\", inplace = True)"
   ]
  },
  {
   "cell_type": "code",
   "execution_count": 4,
   "id": "70f9a552",
   "metadata": {
    "execution": {
     "iopub.execute_input": "2025-02-25T10:29:39.282528Z",
     "iopub.status.busy": "2025-02-25T10:29:39.282528Z",
     "iopub.status.idle": "2025-02-25T10:29:39.290374Z",
     "shell.execute_reply": "2025-02-25T10:29:39.289827Z"
    },
    "papermill": {
     "duration": 0.01608,
     "end_time": "2025-02-25T10:29:39.292459",
     "exception": false,
     "start_time": "2025-02-25T10:29:39.276379",
     "status": "completed"
    },
    "tags": []
   },
   "outputs": [],
   "source": [
    "for col in [\"ecoli\", \"entro\"]:\n",
    "    df[col] = df[col].str.replace(\">800\", \"8000\")\n",
    "    df[col] = df[col].str.replace(\">80\", \"8000\")\n",
    "    df[col] = df[col].str.replace(\">\", \"\").astype(float)"
   ]
  },
  {
   "cell_type": "code",
   "execution_count": 5,
   "id": "8af11e05",
   "metadata": {
    "execution": {
     "iopub.execute_input": "2025-02-25T10:29:39.303244Z",
     "iopub.status.busy": "2025-02-25T10:29:39.302733Z",
     "iopub.status.idle": "2025-02-25T10:29:39.307879Z",
     "shell.execute_reply": "2025-02-25T10:29:39.307363Z"
    },
    "papermill": {
     "duration": 0.012865,
     "end_time": "2025-02-25T10:29:39.309951",
     "exception": false,
     "start_time": "2025-02-25T10:29:39.297086",
     "status": "completed"
    },
    "tags": []
   },
   "outputs": [],
   "source": [
    "df.reset_index(inplace = True)"
   ]
  },
  {
   "cell_type": "code",
   "execution_count": 6,
   "id": "530b6334",
   "metadata": {
    "execution": {
     "iopub.execute_input": "2025-02-25T10:29:39.320230Z",
     "iopub.status.busy": "2025-02-25T10:29:39.319720Z",
     "iopub.status.idle": "2025-02-25T10:29:39.328508Z",
     "shell.execute_reply": "2025-02-25T10:29:39.327992Z"
    },
    "papermill": {
     "duration": 0.015981,
     "end_time": "2025-02-25T10:29:39.330062",
     "exception": false,
     "start_time": "2025-02-25T10:29:39.314081",
     "status": "completed"
    },
    "tags": []
   },
   "outputs": [],
   "source": [
    "month_map = {\n",
    "    'Jan': '01.',\n",
    "    'Febr': '02.',\n",
    "    'Mär': '03.',\n",
    "    'Apr': '04.',\n",
    "    'Mai': '05.',\n",
    "    'Jun': '06.',\n",
    "    'Jul': '07.',\n",
    "    'Aug': '08.',\n",
    "    'Sep': '09.',\n",
    "    'Okt': '10.',\n",
    "    'Nov': '11.',\n",
    "    'Dez': '12.'\n",
    "}\n",
    "\n",
    "for key, value in month_map.items():\n",
    "    df[\"DATUM\"] = df[\"DATUM\"].str.replace(key, value)"
   ]
  },
  {
   "cell_type": "code",
   "execution_count": 7,
   "id": "9f8b9299",
   "metadata": {
    "execution": {
     "iopub.execute_input": "2025-02-25T10:29:39.342920Z",
     "iopub.status.busy": "2025-02-25T10:29:39.342920Z",
     "iopub.status.idle": "2025-02-25T10:29:39.347033Z",
     "shell.execute_reply": "2025-02-25T10:29:39.346522Z"
    },
    "papermill": {
     "duration": 0.013918,
     "end_time": "2025-02-25T10:29:39.349088",
     "exception": false,
     "start_time": "2025-02-25T10:29:39.335170",
     "status": "completed"
    },
    "tags": []
   },
   "outputs": [],
   "source": [
    "def fill_year(date):\n",
    "    if date[-2:] != \"24\":\n",
    "        return date + \" 24\"\n",
    "    else:\n",
    "        return date"
   ]
  },
  {
   "cell_type": "code",
   "execution_count": 8,
   "id": "578da063",
   "metadata": {
    "execution": {
     "iopub.execute_input": "2025-02-25T10:29:39.360462Z",
     "iopub.status.busy": "2025-02-25T10:29:39.359948Z",
     "iopub.status.idle": "2025-02-25T10:29:39.364671Z",
     "shell.execute_reply": "2025-02-25T10:29:39.364091Z"
    },
    "papermill": {
     "duration": 0.013041,
     "end_time": "2025-02-25T10:29:39.366764",
     "exception": false,
     "start_time": "2025-02-25T10:29:39.353723",
     "status": "completed"
    },
    "tags": []
   },
   "outputs": [],
   "source": [
    "def fix_date(date):\n",
    "    date = date.split(\" \")\n",
    "    date = \"20\" + date[-1] + \"-\" + date[1][:-1] + \"-\" + date[0][:-1]\n",
    "    return date"
   ]
  },
  {
   "cell_type": "code",
   "execution_count": 9,
   "id": "831c128d",
   "metadata": {
    "execution": {
     "iopub.execute_input": "2025-02-25T10:29:39.378615Z",
     "iopub.status.busy": "2025-02-25T10:29:39.378101Z",
     "iopub.status.idle": "2025-02-25T10:29:39.382727Z",
     "shell.execute_reply": "2025-02-25T10:29:39.382216Z"
    },
    "papermill": {
     "duration": 0.013408,
     "end_time": "2025-02-25T10:29:39.384260",
     "exception": false,
     "start_time": "2025-02-25T10:29:39.370852",
     "status": "completed"
    },
    "tags": []
   },
   "outputs": [],
   "source": [
    "def add_time(date, time):\n",
    "    time = time.apply(lambda x: x.split(\":\")[0])\n",
    "    date = date + \" \" + time + \":00:00\"\n",
    "    return date"
   ]
  },
  {
   "cell_type": "code",
   "execution_count": 10,
   "id": "9405dd55",
   "metadata": {
    "execution": {
     "iopub.execute_input": "2025-02-25T10:29:39.396636Z",
     "iopub.status.busy": "2025-02-25T10:29:39.396124Z",
     "iopub.status.idle": "2025-02-25T10:29:39.401246Z",
     "shell.execute_reply": "2025-02-25T10:29:39.400733Z"
    },
    "papermill": {
     "duration": 0.013918,
     "end_time": "2025-02-25T10:29:39.402778",
     "exception": false,
     "start_time": "2025-02-25T10:29:39.388860",
     "status": "completed"
    },
    "tags": []
   },
   "outputs": [],
   "source": [
    "df[\"DATUM\"] = df[\"DATUM\"].apply(fill_year).apply(fix_date)\n",
    "df[\"DATUM\"] = add_time(df[\"DATUM\"], df[\"zeit\"])"
   ]
  },
  {
   "cell_type": "code",
   "execution_count": 11,
   "id": "35da630f",
   "metadata": {
    "execution": {
     "iopub.execute_input": "2025-02-25T10:29:39.414062Z",
     "iopub.status.busy": "2025-02-25T10:29:39.413551Z",
     "iopub.status.idle": "2025-02-25T10:29:39.421234Z",
     "shell.execute_reply": "2025-02-25T10:29:39.420720Z"
    },
    "papermill": {
     "duration": 0.015894,
     "end_time": "2025-02-25T10:29:39.423287",
     "exception": false,
     "start_time": "2025-02-25T10:29:39.407393",
     "status": "completed"
    },
    "tags": []
   },
   "outputs": [],
   "source": [
    "df[\"DATUM\"] = pd.to_datetime(df[\"DATUM\"])"
   ]
  },
  {
   "cell_type": "code",
   "execution_count": 12,
   "id": "483c727f",
   "metadata": {
    "execution": {
     "iopub.execute_input": "2025-02-25T10:29:39.434652Z",
     "iopub.status.busy": "2025-02-25T10:29:39.434142Z",
     "iopub.status.idle": "2025-02-25T10:29:39.439249Z",
     "shell.execute_reply": "2025-02-25T10:29:39.438737Z"
    },
    "papermill": {
     "duration": 0.013367,
     "end_time": "2025-02-25T10:29:39.441307",
     "exception": false,
     "start_time": "2025-02-25T10:29:39.427940",
     "status": "completed"
    },
    "tags": []
   },
   "outputs": [],
   "source": [
    "df[\"DATUM\"] = df[\"DATUM\"].dt.round('h')"
   ]
  },
  {
   "cell_type": "code",
   "execution_count": 13,
   "id": "91de1738",
   "metadata": {
    "execution": {
     "iopub.execute_input": "2025-02-25T10:29:39.453604Z",
     "iopub.status.busy": "2025-02-25T10:29:39.453092Z",
     "iopub.status.idle": "2025-02-25T10:29:39.458238Z",
     "shell.execute_reply": "2025-02-25T10:29:39.457721Z"
    },
    "papermill": {
     "duration": 0.013864,
     "end_time": "2025-02-25T10:29:39.460801",
     "exception": false,
     "start_time": "2025-02-25T10:29:39.446937",
     "status": "completed"
    },
    "tags": []
   },
   "outputs": [],
   "source": [
    "df.set_index(\"DATUM\", inplace = True)"
   ]
  },
  {
   "cell_type": "code",
   "execution_count": 14,
   "id": "edca36bd",
   "metadata": {
    "execution": {
     "iopub.execute_input": "2025-02-25T10:29:39.471143Z",
     "iopub.status.busy": "2025-02-25T10:29:39.471143Z",
     "iopub.status.idle": "2025-02-25T10:29:39.479398Z",
     "shell.execute_reply": "2025-02-25T10:29:39.478885Z"
    },
    "papermill": {
     "duration": 0.015986,
     "end_time": "2025-02-25T10:29:39.481450",
     "exception": false,
     "start_time": "2025-02-25T10:29:39.465464",
     "status": "completed"
    },
    "tags": []
   },
   "outputs": [],
   "source": [
    "df.to_csv(f\"{path_master}/messungen_clean_2024.csv\")"
   ]
  },
  {
   "cell_type": "code",
   "execution_count": null,
   "id": "eebf2bc6",
   "metadata": {
    "papermill": {
     "duration": 0.005143,
     "end_time": "2025-02-25T10:29:39.491205",
     "exception": false,
     "start_time": "2025-02-25T10:29:39.486062",
     "status": "completed"
    },
    "tags": []
   },
   "outputs": [],
   "source": []
  }
 ],
 "metadata": {
  "kernelspec": {
   "display_name": "base",
   "language": "python",
   "name": "python3"
  },
  "language_info": {
   "codemirror_mode": {
    "name": "ipython",
    "version": 3
   },
   "file_extension": ".py",
   "mimetype": "text/x-python",
   "name": "python",
   "nbconvert_exporter": "python",
   "pygments_lexer": "ipython3",
   "version": "3.12.4"
  },
  "papermill": {
   "default_parameters": {},
   "duration": 3.652093,
   "end_time": "2025-02-25T10:29:39.829248",
   "environment_variables": {},
   "exception": null,
   "input_path": "clean_messungen.ipynb",
   "output_path": "papermill_outputs//clean_messungen_papermill.ipynb",
   "parameters": {},
   "start_time": "2025-02-25T10:29:36.177155",
   "version": "2.6.0"
  }
 },
 "nbformat": 4,
 "nbformat_minor": 5
}