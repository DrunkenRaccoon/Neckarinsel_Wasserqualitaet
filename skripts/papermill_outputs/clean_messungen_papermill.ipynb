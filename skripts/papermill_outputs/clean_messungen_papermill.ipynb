{
 "cells": [
  {
   "cell_type": "code",
   "execution_count": 1,
   "id": "ce9bdfde",
   "metadata": {
    "execution": {
     "iopub.execute_input": "2025-05-18T14:50:51.504417Z",
     "iopub.status.busy": "2025-05-18T14:50:51.503417Z",
     "iopub.status.idle": "2025-05-18T14:50:52.435988Z",
     "shell.execute_reply": "2025-05-18T14:50:52.435988Z"
    },
    "papermill": {
     "duration": 0.941256,
     "end_time": "2025-05-18T14:50:52.439190",
     "exception": false,
     "start_time": "2025-05-18T14:50:51.497934",
     "status": "completed"
    },
    "tags": []
   },
   "outputs": [
    {
     "data": {
      "text/plain": [
       "True"
      ]
     },
     "execution_count": 1,
     "metadata": {},
     "output_type": "execute_result"
    }
   ],
   "source": [
    "import pandas as pd\n",
    "import os\n",
    "import os\n",
    "from dotenv import load_dotenv\n",
    "load_dotenv()"
   ]
  },
  {
   "cell_type": "markdown",
   "id": "70f62d01",
   "metadata": {
    "papermill": {
     "duration": 0.007407,
     "end_time": "2025-05-18T14:50:52.452598",
     "exception": false,
     "start_time": "2025-05-18T14:50:52.445191",
     "status": "completed"
    },
    "tags": []
   },
   "source": [
    "## Load Data"
   ]
  },
  {
   "cell_type": "code",
   "execution_count": 2,
   "id": "17832cbe",
   "metadata": {
    "execution": {
     "iopub.execute_input": "2025-05-18T14:50:52.461456Z",
     "iopub.status.busy": "2025-05-18T14:50:52.461456Z",
     "iopub.status.idle": "2025-05-18T14:50:52.471857Z",
     "shell.execute_reply": "2025-05-18T14:50:52.471857Z"
    },
    "papermill": {
     "duration": 0.016334,
     "end_time": "2025-05-18T14:50:52.474861",
     "exception": false,
     "start_time": "2025-05-18T14:50:52.458527",
     "status": "completed"
    },
    "tags": []
   },
   "outputs": [],
   "source": [
    "path = os.getenv(\"path_to_data\")\n",
    "path_master = os.getenv(\"path_to_master\")"
   ]
  },
  {
   "cell_type": "code",
   "execution_count": 3,
   "id": "23f35fa7",
   "metadata": {
    "execution": {
     "iopub.execute_input": "2025-05-18T14:50:52.487994Z",
     "iopub.status.busy": "2025-05-18T14:50:52.487994Z",
     "iopub.status.idle": "2025-05-18T14:50:52.515726Z",
     "shell.execute_reply": "2025-05-18T14:50:52.514892Z"
    },
    "papermill": {
     "duration": 0.038143,
     "end_time": "2025-05-18T14:50:52.517724",
     "exception": false,
     "start_time": "2025-05-18T14:50:52.479581",
     "status": "completed"
    },
    "tags": []
   },
   "outputs": [],
   "source": [
    "df = pd.read_csv(f\"{path_master}/messungen_2024.csv\", delimiter =\";\").T\n",
    "df.columns= df.iloc[0]\n",
    "df = df.iloc[1:].copy()\n",
    "df.columns = [\"zeit\", \"ecoli\", \"entro\", \"pos_neg\"]\n",
    "df.index.rename(\"DATUM\", inplace = True)"
   ]
  },
  {
   "cell_type": "code",
   "execution_count": 4,
   "id": "95a934d0",
   "metadata": {
    "execution": {
     "iopub.execute_input": "2025-05-18T14:50:52.530770Z",
     "iopub.status.busy": "2025-05-18T14:50:52.529768Z",
     "iopub.status.idle": "2025-05-18T14:50:52.539671Z",
     "shell.execute_reply": "2025-05-18T14:50:52.538668Z"
    },
    "papermill": {
     "duration": 0.019458,
     "end_time": "2025-05-18T14:50:52.542228",
     "exception": false,
     "start_time": "2025-05-18T14:50:52.522770",
     "status": "completed"
    },
    "tags": []
   },
   "outputs": [],
   "source": [
    "for col in [\"ecoli\", \"entro\"]:\n",
    "    df[col] = df[col].str.replace(\">800\", \"8000\")\n",
    "    df[col] = df[col].str.replace(\">80\", \"8000\")\n",
    "    df[col] = df[col].str.replace(\">\", \"\").astype(float)"
   ]
  },
  {
   "cell_type": "code",
   "execution_count": 5,
   "id": "8a83931a",
   "metadata": {
    "execution": {
     "iopub.execute_input": "2025-05-18T14:50:52.558476Z",
     "iopub.status.busy": "2025-05-18T14:50:52.557702Z",
     "iopub.status.idle": "2025-05-18T14:50:52.564106Z",
     "shell.execute_reply": "2025-05-18T14:50:52.562596Z"
    },
    "papermill": {
     "duration": 0.018423,
     "end_time": "2025-05-18T14:50:52.566106",
     "exception": false,
     "start_time": "2025-05-18T14:50:52.547683",
     "status": "completed"
    },
    "tags": []
   },
   "outputs": [],
   "source": [
    "df.reset_index(inplace = True)"
   ]
  },
  {
   "cell_type": "code",
   "execution_count": 6,
   "id": "addd6534",
   "metadata": {
    "execution": {
     "iopub.execute_input": "2025-05-18T14:50:52.580039Z",
     "iopub.status.busy": "2025-05-18T14:50:52.579453Z",
     "iopub.status.idle": "2025-05-18T14:50:52.588517Z",
     "shell.execute_reply": "2025-05-18T14:50:52.588517Z"
    },
    "papermill": {
     "duration": 0.020574,
     "end_time": "2025-05-18T14:50:52.591987",
     "exception": false,
     "start_time": "2025-05-18T14:50:52.571413",
     "status": "completed"
    },
    "tags": []
   },
   "outputs": [],
   "source": [
    "month_map = {\n",
    "    'Jan': '01.',\n",
    "    'Febr': '02.',\n",
    "    'Mär': '03.',\n",
    "    'Apr': '04.',\n",
    "    'Mai': '05.',\n",
    "    'Jun': '06.',\n",
    "    'Jul': '07.',\n",
    "    'Aug': '08.',\n",
    "    'Sep': '09.',\n",
    "    'Okt': '10.',\n",
    "    'Nov': '11.',\n",
    "    'Dez': '12.'\n",
    "}\n",
    "\n",
    "for key, value in month_map.items():\n",
    "    df[\"DATUM\"] = df[\"DATUM\"].str.replace(key, value)"
   ]
  },
  {
   "cell_type": "code",
   "execution_count": 7,
   "id": "eacf6132",
   "metadata": {
    "execution": {
     "iopub.execute_input": "2025-05-18T14:50:52.606566Z",
     "iopub.status.busy": "2025-05-18T14:50:52.605397Z",
     "iopub.status.idle": "2025-05-18T14:50:52.610587Z",
     "shell.execute_reply": "2025-05-18T14:50:52.610587Z"
    },
    "papermill": {
     "duration": 0.017115,
     "end_time": "2025-05-18T14:50:52.613692",
     "exception": false,
     "start_time": "2025-05-18T14:50:52.596577",
     "status": "completed"
    },
    "tags": []
   },
   "outputs": [],
   "source": [
    "def fill_year(date):\n",
    "    if date[-2:] != \"24\":\n",
    "        return date + \" 24\"\n",
    "    else:\n",
    "        return date"
   ]
  },
  {
   "cell_type": "code",
   "execution_count": 8,
   "id": "02af6d5e",
   "metadata": {
    "execution": {
     "iopub.execute_input": "2025-05-18T14:50:52.627344Z",
     "iopub.status.busy": "2025-05-18T14:50:52.626347Z",
     "iopub.status.idle": "2025-05-18T14:50:52.634298Z",
     "shell.execute_reply": "2025-05-18T14:50:52.633259Z"
    },
    "papermill": {
     "duration": 0.015234,
     "end_time": "2025-05-18T14:50:52.634298",
     "exception": false,
     "start_time": "2025-05-18T14:50:52.619064",
     "status": "completed"
    },
    "tags": []
   },
   "outputs": [],
   "source": [
    "def fix_date(date):\n",
    "    date = date.split(\" \")\n",
    "    date = \"20\" + date[-1] + \"-\" + date[1][:-1] + \"-\" + date[0][:-1]\n",
    "    return date"
   ]
  },
  {
   "cell_type": "code",
   "execution_count": 9,
   "id": "6f5a40b6",
   "metadata": {
    "execution": {
     "iopub.execute_input": "2025-05-18T14:50:52.650837Z",
     "iopub.status.busy": "2025-05-18T14:50:52.649837Z",
     "iopub.status.idle": "2025-05-18T14:50:52.656111Z",
     "shell.execute_reply": "2025-05-18T14:50:52.655195Z"
    },
    "papermill": {
     "duration": 0.024812,
     "end_time": "2025-05-18T14:50:52.659110",
     "exception": false,
     "start_time": "2025-05-18T14:50:52.634298",
     "status": "completed"
    },
    "tags": []
   },
   "outputs": [],
   "source": [
    "def add_time(date, time):\n",
    "    time = time.apply(lambda x: x.split(\":\")[0])\n",
    "    date = date + \" \" + time + \":00:00\"\n",
    "    return date"
   ]
  },
  {
   "cell_type": "code",
   "execution_count": 10,
   "id": "eae08709",
   "metadata": {
    "execution": {
     "iopub.execute_input": "2025-05-18T14:50:52.676849Z",
     "iopub.status.busy": "2025-05-18T14:50:52.675559Z",
     "iopub.status.idle": "2025-05-18T14:50:52.684480Z",
     "shell.execute_reply": "2025-05-18T14:50:52.683402Z"
    },
    "papermill": {
     "duration": 0.021368,
     "end_time": "2025-05-18T14:50:52.686478",
     "exception": false,
     "start_time": "2025-05-18T14:50:52.665110",
     "status": "completed"
    },
    "tags": []
   },
   "outputs": [],
   "source": [
    "df[\"DATUM\"] = df[\"DATUM\"].apply(fill_year).apply(fix_date)\n",
    "df[\"DATUM\"] = add_time(df[\"DATUM\"], df[\"zeit\"])"
   ]
  },
  {
   "cell_type": "code",
   "execution_count": 11,
   "id": "cff42de2",
   "metadata": {
    "execution": {
     "iopub.execute_input": "2025-05-18T14:50:52.702650Z",
     "iopub.status.busy": "2025-05-18T14:50:52.701652Z",
     "iopub.status.idle": "2025-05-18T14:50:52.713778Z",
     "shell.execute_reply": "2025-05-18T14:50:52.712771Z"
    },
    "papermill": {
     "duration": 0.025298,
     "end_time": "2025-05-18T14:50:52.716777",
     "exception": false,
     "start_time": "2025-05-18T14:50:52.691479",
     "status": "completed"
    },
    "tags": []
   },
   "outputs": [],
   "source": [
    "df[\"DATUM\"] = pd.to_datetime(df[\"DATUM\"])"
   ]
  },
  {
   "cell_type": "code",
   "execution_count": 12,
   "id": "d0058e3e",
   "metadata": {
    "execution": {
     "iopub.execute_input": "2025-05-18T14:50:52.732493Z",
     "iopub.status.busy": "2025-05-18T14:50:52.731493Z",
     "iopub.status.idle": "2025-05-18T14:50:52.739235Z",
     "shell.execute_reply": "2025-05-18T14:50:52.739235Z"
    },
    "papermill": {
     "duration": 0.022066,
     "end_time": "2025-05-18T14:50:52.741352",
     "exception": false,
     "start_time": "2025-05-18T14:50:52.719286",
     "status": "completed"
    },
    "tags": []
   },
   "outputs": [],
   "source": [
    "df[\"DATUM\"] = df[\"DATUM\"].dt.round('h')"
   ]
  },
  {
   "cell_type": "code",
   "execution_count": 13,
   "id": "4cea7ebb",
   "metadata": {
    "execution": {
     "iopub.execute_input": "2025-05-18T14:50:52.756730Z",
     "iopub.status.busy": "2025-05-18T14:50:52.755730Z",
     "iopub.status.idle": "2025-05-18T14:50:52.760651Z",
     "shell.execute_reply": "2025-05-18T14:50:52.760489Z"
    },
    "papermill": {
     "duration": 0.016113,
     "end_time": "2025-05-18T14:50:52.763652",
     "exception": false,
     "start_time": "2025-05-18T14:50:52.747539",
     "status": "completed"
    },
    "tags": []
   },
   "outputs": [],
   "source": [
    "df.set_index(\"DATUM\", inplace = True)"
   ]
  },
  {
   "cell_type": "code",
   "execution_count": 14,
   "id": "339e96aa",
   "metadata": {
    "execution": {
     "iopub.execute_input": "2025-05-18T14:50:52.785922Z",
     "iopub.status.busy": "2025-05-18T14:50:52.785922Z",
     "iopub.status.idle": "2025-05-18T14:50:52.796261Z",
     "shell.execute_reply": "2025-05-18T14:50:52.796261Z"
    },
    "papermill": {
     "duration": 0.029314,
     "end_time": "2025-05-18T14:50:52.799388",
     "exception": false,
     "start_time": "2025-05-18T14:50:52.770074",
     "status": "completed"
    },
    "tags": []
   },
   "outputs": [],
   "source": [
    "df.to_csv(f\"{path_master}/messungen_clean_2024.csv\")"
   ]
  },
  {
   "cell_type": "code",
   "execution_count": null,
   "id": "ff5528c0",
   "metadata": {
    "papermill": {
     "duration": 0.006805,
     "end_time": "2025-05-18T14:50:52.813656",
     "exception": false,
     "start_time": "2025-05-18T14:50:52.806851",
     "status": "completed"
    },
    "tags": []
   },
   "outputs": [],
   "source": []
  }
 ],
 "metadata": {
  "kernelspec": {
   "display_name": "base",
   "language": "python",
   "name": "python3"
  },
  "language_info": {
   "codemirror_mode": {
    "name": "ipython",
    "version": 3
   },
   "file_extension": ".py",
   "mimetype": "text/x-python",
   "name": "python",
   "nbconvert_exporter": "python",
   "pygments_lexer": "ipython3",
   "version": "3.12.4"
  },
  "papermill": {
   "default_parameters": {},
   "duration": 4.220706,
   "end_time": "2025-05-18T14:50:53.397659",
   "environment_variables": {},
   "exception": null,
   "input_path": "clean_messungen.ipynb",
   "output_path": "papermill_outputs//clean_messungen_papermill.ipynb",
   "parameters": {},
   "start_time": "2025-05-18T14:50:49.176953",
   "version": "2.6.0"
  }
 },
 "nbformat": 4,
 "nbformat_minor": 5
}