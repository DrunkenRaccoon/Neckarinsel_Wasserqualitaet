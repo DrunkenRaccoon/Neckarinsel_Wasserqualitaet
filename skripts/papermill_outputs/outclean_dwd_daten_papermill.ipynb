{
 "cells": [
  {
   "cell_type": "code",
   "execution_count": 1,
   "id": "1897ec69",
   "metadata": {
    "execution": {
     "iopub.execute_input": "2025-02-25T10:29:34.254645Z",
     "iopub.status.busy": "2025-02-25T10:29:34.254131Z",
     "iopub.status.idle": "2025-02-25T10:29:34.959264Z",
     "shell.execute_reply": "2025-02-25T10:29:34.958750Z"
    },
    "papermill": {
     "duration": 0.711807,
     "end_time": "2025-02-25T10:29:34.960796",
     "exception": false,
     "start_time": "2025-02-25T10:29:34.248989",
     "status": "completed"
    },
    "tags": []
   },
   "outputs": [
    {
     "data": {
      "text/plain": [
       "True"
      ]
     },
     "execution_count": 1,
     "metadata": {},
     "output_type": "execute_result"
    }
   ],
   "source": [
    "import pandas as pd\n",
    "import glob\n",
    "import numpy as np\n",
    "import os\n",
    "from dotenv import load_dotenv\n",
    "load_dotenv()"
   ]
  },
  {
   "cell_type": "code",
   "execution_count": 2,
   "id": "d6c22d47",
   "metadata": {
    "execution": {
     "iopub.execute_input": "2025-02-25T10:29:34.972243Z",
     "iopub.status.busy": "2025-02-25T10:29:34.971208Z",
     "iopub.status.idle": "2025-02-25T10:29:34.975834Z",
     "shell.execute_reply": "2025-02-25T10:29:34.975320Z"
    },
    "papermill": {
     "duration": 0.013078,
     "end_time": "2025-02-25T10:29:34.977958",
     "exception": false,
     "start_time": "2025-02-25T10:29:34.964880",
     "status": "completed"
    },
    "tags": []
   },
   "outputs": [],
   "source": [
    "path = os.getenv(\"path_to_data\")"
   ]
  },
  {
   "cell_type": "code",
   "execution_count": 3,
   "id": "34eca4b6",
   "metadata": {
    "execution": {
     "iopub.execute_input": "2025-02-25T10:29:34.987295Z",
     "iopub.status.busy": "2025-02-25T10:29:34.987295Z",
     "iopub.status.idle": "2025-02-25T10:29:34.991932Z",
     "shell.execute_reply": "2025-02-25T10:29:34.991413Z"
    },
    "papermill": {
     "duration": 0.012429,
     "end_time": "2025-02-25T10:29:34.993975",
     "exception": false,
     "start_time": "2025-02-25T10:29:34.981546",
     "status": "completed"
    },
    "tags": []
   },
   "outputs": [],
   "source": [
    "def fix_dates(df):\n",
    "    df[\"DATUM\"] = df[\"MESS_DATUM\"].astype(str)\n",
    "    df[\"DATUM\"] = pd.to_datetime(df[\"DATUM\"].apply(lambda x: x[0:4] + \"-\" + x[4:6] + \"-\" + x[6:8] + \"-\" + x[8:10]))\n",
    "    df.set_index(\"DATUM\", inplace = True)\n",
    "    return df"
   ]
  },
  {
   "cell_type": "code",
   "execution_count": 4,
   "id": "ce329159",
   "metadata": {
    "execution": {
     "iopub.execute_input": "2025-02-25T10:29:35.002159Z",
     "iopub.status.busy": "2025-02-25T10:29:35.002159Z",
     "iopub.status.idle": "2025-02-25T10:29:35.006272Z",
     "shell.execute_reply": "2025-02-25T10:29:35.005240Z"
    },
    "papermill": {
     "duration": 0.010773,
     "end_time": "2025-02-25T10:29:35.008324",
     "exception": false,
     "start_time": "2025-02-25T10:29:34.997551",
     "status": "completed"
    },
    "tags": []
   },
   "outputs": [],
   "source": [
    "def rename_columns(df):\n",
    "    # Hier die gewünschten Parameternamen ergänzen\n",
    "    renames = {\n",
    "        \n",
    "    }\n",
    "    df.rename(columns = renames, inplace = True)\n",
    "    return df"
   ]
  },
  {
   "cell_type": "code",
   "execution_count": 5,
   "id": "ca64ef28",
   "metadata": {
    "execution": {
     "iopub.execute_input": "2025-02-25T10:29:35.017067Z",
     "iopub.status.busy": "2025-02-25T10:29:35.017059Z",
     "iopub.status.idle": "2025-02-25T10:29:35.021690Z",
     "shell.execute_reply": "2025-02-25T10:29:35.021178Z"
    },
    "papermill": {
     "duration": 0.011279,
     "end_time": "2025-02-25T10:29:35.023224",
     "exception": false,
     "start_time": "2025-02-25T10:29:35.011945",
     "status": "completed"
    },
    "tags": []
   },
   "outputs": [],
   "source": [
    "def create_cleans():\n",
    "\n",
    "    all_files = glob.glob(path + \"schnarrenberg_dwd*.csv\")\n",
    "\n",
    "    for file in all_files:\n",
    "        df = pd.read_csv(file, delimiter=\";\", header=0)\n",
    "        df = fix_dates(df)\n",
    "        df = rename_columns(df)\n",
    "        df.to_csv(f\"{path}/clean_{file.split(\"\\\\\")[-1]}\" )"
   ]
  },
  {
   "cell_type": "code",
   "execution_count": 6,
   "id": "aff75f42",
   "metadata": {
    "execution": {
     "iopub.execute_input": "2025-02-25T10:29:35.032424Z",
     "iopub.status.busy": "2025-02-25T10:29:35.031910Z",
     "iopub.status.idle": "2025-02-25T10:29:35.036048Z",
     "shell.execute_reply": "2025-02-25T10:29:35.035537Z"
    },
    "papermill": {
     "duration": 0.010282,
     "end_time": "2025-02-25T10:29:35.037586",
     "exception": false,
     "start_time": "2025-02-25T10:29:35.027304",
     "status": "completed"
    },
    "tags": []
   },
   "outputs": [],
   "source": [
    "def remove_duplicate_columns(df):\n",
    "    df = df.drop(columns=[\"eor\", \"STATIONS_ID\", \"MESS_DATUM\"], errors = \"ignore\")\n",
    "    return df"
   ]
  },
  {
   "cell_type": "code",
   "execution_count": 7,
   "id": "090f5ced",
   "metadata": {
    "execution": {
     "iopub.execute_input": "2025-02-25T10:29:35.048098Z",
     "iopub.status.busy": "2025-02-25T10:29:35.048098Z",
     "iopub.status.idle": "2025-02-25T10:29:35.053233Z",
     "shell.execute_reply": "2025-02-25T10:29:35.052715Z"
    },
    "papermill": {
     "duration": 0.013084,
     "end_time": "2025-02-25T10:29:35.054775",
     "exception": false,
     "start_time": "2025-02-25T10:29:35.041691",
     "status": "completed"
    },
    "tags": []
   },
   "outputs": [],
   "source": [
    "def create_master():\n",
    "    all_files = glob.glob(path + \"/clean_schnarrenberg_dwd*.csv\")\n",
    "    date_range = pd.date_range(start='2023-01-01', end='2025-12-31 23:00:00', freq='h')\n",
    "    df = pd.DataFrame(index=date_range) \n",
    "    for file in all_files:\n",
    "        df_new = pd.read_csv(file, delimiter=\",\", header=0)\n",
    "        df_new = remove_duplicate_columns(df_new)\n",
    "        df_new[\"DATUM\"] = pd.to_datetime(df_new[\"DATUM\"])\n",
    "        df_new.set_index(\"DATUM\", inplace = True)\n",
    "        df = pd.merge(df, df_new, how = \"left\", left_index = True, right_index = True, suffixes=(\"\", \"_y\"))\n",
    "    return df"
   ]
  },
  {
   "cell_type": "code",
   "execution_count": 8,
   "id": "c597e1dc",
   "metadata": {
    "execution": {
     "iopub.execute_input": "2025-02-25T10:29:35.065015Z",
     "iopub.status.busy": "2025-02-25T10:29:35.064502Z",
     "iopub.status.idle": "2025-02-25T10:29:35.068601Z",
     "shell.execute_reply": "2025-02-25T10:29:35.068090Z"
    },
    "papermill": {
     "duration": 0.011256,
     "end_time": "2025-02-25T10:29:35.070137",
     "exception": false,
     "start_time": "2025-02-25T10:29:35.058881",
     "status": "completed"
    },
    "tags": []
   },
   "outputs": [],
   "source": [
    "create_cleans()"
   ]
  },
  {
   "cell_type": "code",
   "execution_count": 9,
   "id": "39c8d848",
   "metadata": {
    "execution": {
     "iopub.execute_input": "2025-02-25T10:29:35.081443Z",
     "iopub.status.busy": "2025-02-25T10:29:35.080930Z",
     "iopub.status.idle": "2025-02-25T10:29:35.379599Z",
     "shell.execute_reply": "2025-02-25T10:29:35.378535Z"
    },
    "papermill": {
     "duration": 0.306378,
     "end_time": "2025-02-25T10:29:35.381133",
     "exception": false,
     "start_time": "2025-02-25T10:29:35.074755",
     "status": "completed"
    },
    "tags": []
   },
   "outputs": [],
   "source": [
    "merged = create_master()"
   ]
  },
  {
   "cell_type": "code",
   "execution_count": 10,
   "id": "d7bfa35d",
   "metadata": {
    "execution": {
     "iopub.execute_input": "2025-02-25T10:29:35.391949Z",
     "iopub.status.busy": "2025-02-25T10:29:35.391431Z",
     "iopub.status.idle": "2025-02-25T10:29:35.401188Z",
     "shell.execute_reply": "2025-02-25T10:29:35.400675Z"
    },
    "papermill": {
     "duration": 0.017474,
     "end_time": "2025-02-25T10:29:35.402719",
     "exception": false,
     "start_time": "2025-02-25T10:29:35.385245",
     "status": "completed"
    },
    "tags": []
   },
   "outputs": [],
   "source": [
    "merged = merged.dropna(how = \"all\")"
   ]
  },
  {
   "cell_type": "code",
   "execution_count": 11,
   "id": "76b7d0db",
   "metadata": {
    "execution": {
     "iopub.execute_input": "2025-02-25T10:29:35.413533Z",
     "iopub.status.busy": "2025-02-25T10:29:35.413022Z",
     "iopub.status.idle": "2025-02-25T10:29:35.760784Z",
     "shell.execute_reply": "2025-02-25T10:29:35.760270Z"
    },
    "papermill": {
     "duration": 0.355981,
     "end_time": "2025-02-25T10:29:35.762827",
     "exception": false,
     "start_time": "2025-02-25T10:29:35.406846",
     "status": "completed"
    },
    "tags": []
   },
   "outputs": [],
   "source": [
    "merged.to_csv(f\"{path}/clean_wetter_komplett.csv\")"
   ]
  },
  {
   "cell_type": "code",
   "execution_count": null,
   "id": "6b947e77",
   "metadata": {
    "papermill": {
     "duration": 0.004123,
     "end_time": "2025-02-25T10:29:35.771144",
     "exception": false,
     "start_time": "2025-02-25T10:29:35.767021",
     "status": "completed"
    },
    "tags": []
   },
   "outputs": [],
   "source": []
  }
 ],
 "metadata": {
  "kernelspec": {
   "display_name": "base",
   "language": "python",
   "name": "python3"
  },
  "language_info": {
   "codemirror_mode": {
    "name": "ipython",
    "version": 3
   },
   "file_extension": ".py",
   "mimetype": "text/x-python",
   "name": "python",
   "nbconvert_exporter": "python",
   "pygments_lexer": "ipython3",
   "version": "3.12.4"
  },
  "papermill": {
   "default_parameters": {},
   "duration": 4.126757,
   "end_time": "2025-02-25T10:29:36.105864",
   "environment_variables": {},
   "exception": null,
   "input_path": "clean_dwd_daten.ipynb",
   "output_path": "papermill_outputs//outclean_dwd_daten_papermill.ipynb",
   "parameters": {},
   "start_time": "2025-02-25T10:29:31.979107",
   "version": "2.6.0"
  }
 },
 "nbformat": 4,
 "nbformat_minor": 5
}