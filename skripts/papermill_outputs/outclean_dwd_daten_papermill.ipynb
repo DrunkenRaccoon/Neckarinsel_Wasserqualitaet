{
 "cells": [
  {
   "cell_type": "code",
   "execution_count": 1,
   "id": "1203ec37",
   "metadata": {
    "execution": {
     "iopub.execute_input": "2025-06-19T12:50:05.211302Z",
     "iopub.status.busy": "2025-06-19T12:50:05.210303Z",
     "iopub.status.idle": "2025-06-19T12:50:06.225563Z",
     "shell.execute_reply": "2025-06-19T12:50:06.225563Z"
    },
    "papermill": {
     "duration": 1.02626,
     "end_time": "2025-06-19T12:50:06.227557",
     "exception": false,
     "start_time": "2025-06-19T12:50:05.201297",
     "status": "completed"
    },
    "tags": []
   },
   "outputs": [
    {
     "data": {
      "text/plain": [
       "True"
      ]
     },
     "execution_count": 1,
     "metadata": {},
     "output_type": "execute_result"
    }
   ],
   "source": [
    "import pandas as pd\n",
    "import glob\n",
    "import numpy as np\n",
    "import os\n",
    "from dotenv import load_dotenv\n",
    "load_dotenv()"
   ]
  },
  {
   "cell_type": "code",
   "execution_count": 2,
   "id": "51592274",
   "metadata": {
    "execution": {
     "iopub.execute_input": "2025-06-19T12:50:06.241564Z",
     "iopub.status.busy": "2025-06-19T12:50:06.240560Z",
     "iopub.status.idle": "2025-06-19T12:50:06.245433Z",
     "shell.execute_reply": "2025-06-19T12:50:06.245433Z"
    },
    "papermill": {
     "duration": 0.015831,
     "end_time": "2025-06-19T12:50:06.248390",
     "exception": false,
     "start_time": "2025-06-19T12:50:06.232559",
     "status": "completed"
    },
    "tags": []
   },
   "outputs": [],
   "source": [
    "path = os.getenv(\"path_to_data\")\n"
   ]
  },
  {
   "cell_type": "code",
   "execution_count": 3,
   "id": "8cbcb02f",
   "metadata": {
    "execution": {
     "iopub.execute_input": "2025-06-19T12:50:06.262393Z",
     "iopub.status.busy": "2025-06-19T12:50:06.261393Z",
     "iopub.status.idle": "2025-06-19T12:50:06.267882Z",
     "shell.execute_reply": "2025-06-19T12:50:06.266887Z"
    },
    "papermill": {
     "duration": 0.016493,
     "end_time": "2025-06-19T12:50:06.269883",
     "exception": false,
     "start_time": "2025-06-19T12:50:06.253390",
     "status": "completed"
    },
    "tags": []
   },
   "outputs": [],
   "source": [
    "def fix_dates(df):\n",
    "    df[\"DATUM\"] = df[\"MESS_DATUM\"].astype(str)\n",
    "    df[\"DATUM\"] = pd.to_datetime(df[\"DATUM\"].apply(lambda x: x[0:4] + \"-\" + x[4:6] + \"-\" + x[6:8] + \"-\" + x[8:10]))\n",
    "    df.set_index(\"DATUM\", inplace = True)\n",
    "    return df"
   ]
  },
  {
   "cell_type": "code",
   "execution_count": 4,
   "id": "090037e6",
   "metadata": {
    "execution": {
     "iopub.execute_input": "2025-06-19T12:50:06.280884Z",
     "iopub.status.busy": "2025-06-19T12:50:06.280884Z",
     "iopub.status.idle": "2025-06-19T12:50:06.286113Z",
     "shell.execute_reply": "2025-06-19T12:50:06.285128Z"
    },
    "papermill": {
     "duration": 0.014231,
     "end_time": "2025-06-19T12:50:06.288114",
     "exception": false,
     "start_time": "2025-06-19T12:50:06.273883",
     "status": "completed"
    },
    "tags": []
   },
   "outputs": [],
   "source": [
    "def rename_columns(df):\n",
    "    # Hier die gewünschten Parameternamen ergänzen\n",
    "    renames = {\n",
    "        \n",
    "    }\n",
    "    df.rename(columns = renames, inplace = True)\n",
    "    return df"
   ]
  },
  {
   "cell_type": "code",
   "execution_count": 5,
   "id": "700843a4",
   "metadata": {
    "execution": {
     "iopub.execute_input": "2025-06-19T12:50:06.299117Z",
     "iopub.status.busy": "2025-06-19T12:50:06.299117Z",
     "iopub.status.idle": "2025-06-19T12:50:06.304557Z",
     "shell.execute_reply": "2025-06-19T12:50:06.304557Z"
    },
    "papermill": {
     "duration": 0.014443,
     "end_time": "2025-06-19T12:50:06.306557",
     "exception": false,
     "start_time": "2025-06-19T12:50:06.292114",
     "status": "completed"
    },
    "tags": []
   },
   "outputs": [],
   "source": [
    "def create_cleans():\n",
    "\n",
    "    all_files = glob.glob(path + \"schnarrenberg_dwd*.csv\")\n",
    "\n",
    "    for file in all_files:\n",
    "        df = pd.read_csv(file, delimiter=\";\", header=0)\n",
    "        df = fix_dates(df)\n",
    "        df = rename_columns(df)\n",
    "        df.to_csv(f\"{path}/clean_{file.split(\"\\\\\")[-1]}\" )"
   ]
  },
  {
   "cell_type": "code",
   "execution_count": 6,
   "id": "b3faae79",
   "metadata": {
    "execution": {
     "iopub.execute_input": "2025-06-19T12:50:06.318557Z",
     "iopub.status.busy": "2025-06-19T12:50:06.317556Z",
     "iopub.status.idle": "2025-06-19T12:50:06.322524Z",
     "shell.execute_reply": "2025-06-19T12:50:06.322524Z"
    },
    "papermill": {
     "duration": 0.013939,
     "end_time": "2025-06-19T12:50:06.324492",
     "exception": false,
     "start_time": "2025-06-19T12:50:06.310553",
     "status": "completed"
    },
    "tags": []
   },
   "outputs": [],
   "source": [
    "def remove_duplicate_columns(df):\n",
    "    df = df.drop(columns=[\"eor\", \"STATIONS_ID\", \"MESS_DATUM\"], errors = \"ignore\")\n",
    "    return df"
   ]
  },
  {
   "cell_type": "code",
   "execution_count": 7,
   "id": "3fe92c49",
   "metadata": {
    "execution": {
     "iopub.execute_input": "2025-06-19T12:50:06.336495Z",
     "iopub.status.busy": "2025-06-19T12:50:06.336495Z",
     "iopub.status.idle": "2025-06-19T12:50:06.341829Z",
     "shell.execute_reply": "2025-06-19T12:50:06.341829Z"
    },
    "papermill": {
     "duration": 0.014313,
     "end_time": "2025-06-19T12:50:06.343807",
     "exception": false,
     "start_time": "2025-06-19T12:50:06.329494",
     "status": "completed"
    },
    "tags": []
   },
   "outputs": [],
   "source": [
    "def create_master():\n",
    "    all_files = glob.glob(path + \"/clean_schnarrenberg_dwd*.csv\")\n",
    "    date_range = pd.date_range(start='2023-01-01', end='2025-12-31 23:00:00', freq='h')\n",
    "    df = pd.DataFrame(index=date_range) \n",
    "    for file in all_files:\n",
    "        df_new = pd.read_csv(file, delimiter=\",\", header=0)\n",
    "        df_new = remove_duplicate_columns(df_new)\n",
    "        df_new[\"DATUM\"] = pd.to_datetime(df_new[\"DATUM\"])\n",
    "        df_new.set_index(\"DATUM\", inplace = True)\n",
    "        df = pd.merge(df, df_new, how = \"left\", left_index = True, right_index = True, suffixes=(\"\", \"_y\"))\n",
    "    return df"
   ]
  },
  {
   "cell_type": "code",
   "execution_count": 8,
   "id": "f99ba703",
   "metadata": {
    "execution": {
     "iopub.execute_input": "2025-06-19T12:50:06.358811Z",
     "iopub.status.busy": "2025-06-19T12:50:06.357817Z",
     "iopub.status.idle": "2025-06-19T12:50:06.362610Z",
     "shell.execute_reply": "2025-06-19T12:50:06.362610Z"
    },
    "papermill": {
     "duration": 0.014797,
     "end_time": "2025-06-19T12:50:06.364606",
     "exception": false,
     "start_time": "2025-06-19T12:50:06.349809",
     "status": "completed"
    },
    "tags": []
   },
   "outputs": [],
   "source": [
    "create_cleans()"
   ]
  },
  {
   "cell_type": "code",
   "execution_count": 9,
   "id": "58eddf0e",
   "metadata": {
    "execution": {
     "iopub.execute_input": "2025-06-19T12:50:06.377609Z",
     "iopub.status.busy": "2025-06-19T12:50:06.376614Z",
     "iopub.status.idle": "2025-06-19T12:50:06.715913Z",
     "shell.execute_reply": "2025-06-19T12:50:06.714914Z"
    },
    "papermill": {
     "duration": 0.348302,
     "end_time": "2025-06-19T12:50:06.717911",
     "exception": false,
     "start_time": "2025-06-19T12:50:06.369609",
     "status": "completed"
    },
    "tags": []
   },
   "outputs": [],
   "source": [
    "merged = create_master()"
   ]
  },
  {
   "cell_type": "code",
   "execution_count": 10,
   "id": "9af2238f",
   "metadata": {
    "execution": {
     "iopub.execute_input": "2025-06-19T12:50:06.727914Z",
     "iopub.status.busy": "2025-06-19T12:50:06.727914Z",
     "iopub.status.idle": "2025-06-19T12:50:06.740916Z",
     "shell.execute_reply": "2025-06-19T12:50:06.739916Z"
    },
    "papermill": {
     "duration": 0.021007,
     "end_time": "2025-06-19T12:50:06.742919",
     "exception": false,
     "start_time": "2025-06-19T12:50:06.721912",
     "status": "completed"
    },
    "tags": []
   },
   "outputs": [],
   "source": [
    "merged = merged.dropna(how = \"all\")"
   ]
  },
  {
   "cell_type": "code",
   "execution_count": 11,
   "id": "8d448c8b",
   "metadata": {
    "execution": {
     "iopub.execute_input": "2025-06-19T12:50:06.754921Z",
     "iopub.status.busy": "2025-06-19T12:50:06.754921Z",
     "iopub.status.idle": "2025-06-19T12:50:07.161011Z",
     "shell.execute_reply": "2025-06-19T12:50:07.160010Z"
    },
    "papermill": {
     "duration": 0.416095,
     "end_time": "2025-06-19T12:50:07.163012",
     "exception": false,
     "start_time": "2025-06-19T12:50:06.746917",
     "status": "completed"
    },
    "tags": []
   },
   "outputs": [],
   "source": [
    "merged.to_csv(f\"{path}/clean_wetter_komplett.csv\")"
   ]
  },
  {
   "cell_type": "code",
   "execution_count": null,
   "id": "2e4cf3ba",
   "metadata": {
    "papermill": {
     "duration": 0.007002,
     "end_time": "2025-06-19T12:50:07.178016",
     "exception": false,
     "start_time": "2025-06-19T12:50:07.171014",
     "status": "completed"
    },
    "tags": []
   },
   "outputs": [],
   "source": []
  }
 ],
 "metadata": {
  "kernelspec": {
   "display_name": "base",
   "language": "python",
   "name": "python3"
  },
  "language_info": {
   "codemirror_mode": {
    "name": "ipython",
    "version": 3
   },
   "file_extension": ".py",
   "mimetype": "text/x-python",
   "name": "python",
   "nbconvert_exporter": "python",
   "pygments_lexer": "ipython3",
   "version": "3.12.4"
  },
  "papermill": {
   "default_parameters": {},
   "duration": 5.763246,
   "end_time": "2025-06-19T12:50:07.761773",
   "environment_variables": {},
   "exception": null,
   "input_path": "clean_dwd_daten.ipynb",
   "output_path": "papermill_outputs//outclean_dwd_daten_papermill.ipynb",
   "parameters": {},
   "start_time": "2025-06-19T12:50:01.998527",
   "version": "2.6.0"
  }
 },
 "nbformat": 4,
 "nbformat_minor": 5
}