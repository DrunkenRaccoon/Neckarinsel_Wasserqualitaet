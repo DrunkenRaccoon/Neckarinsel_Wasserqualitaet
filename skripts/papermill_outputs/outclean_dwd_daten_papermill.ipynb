{
 "cells": [
  {
   "cell_type": "code",
   "execution_count": 1,
   "id": "0ee67852",
   "metadata": {
    "execution": {
     "iopub.execute_input": "2025-05-18T14:50:44.673821Z",
     "iopub.status.busy": "2025-05-18T14:50:44.672820Z",
     "iopub.status.idle": "2025-05-18T14:50:46.879423Z",
     "shell.execute_reply": "2025-05-18T14:50:46.879423Z"
    },
    "papermill": {
     "duration": 2.214606,
     "end_time": "2025-05-18T14:50:46.881425",
     "exception": false,
     "start_time": "2025-05-18T14:50:44.666819",
     "status": "completed"
    },
    "tags": []
   },
   "outputs": [
    {
     "data": {
      "text/plain": [
       "True"
      ]
     },
     "execution_count": 1,
     "metadata": {},
     "output_type": "execute_result"
    }
   ],
   "source": [
    "import pandas as pd\n",
    "import glob\n",
    "import numpy as np\n",
    "import os\n",
    "from dotenv import load_dotenv\n",
    "load_dotenv()"
   ]
  },
  {
   "cell_type": "code",
   "execution_count": 2,
   "id": "6bd70af0",
   "metadata": {
    "execution": {
     "iopub.execute_input": "2025-05-18T14:50:46.892435Z",
     "iopub.status.busy": "2025-05-18T14:50:46.892435Z",
     "iopub.status.idle": "2025-05-18T14:50:46.896195Z",
     "shell.execute_reply": "2025-05-18T14:50:46.896195Z"
    },
    "papermill": {
     "duration": 0.012772,
     "end_time": "2025-05-18T14:50:46.899199",
     "exception": false,
     "start_time": "2025-05-18T14:50:46.886427",
     "status": "completed"
    },
    "tags": []
   },
   "outputs": [],
   "source": [
    "path = os.getenv(\"path_to_data\")\n"
   ]
  },
  {
   "cell_type": "code",
   "execution_count": 3,
   "id": "b354a98c",
   "metadata": {
    "execution": {
     "iopub.execute_input": "2025-05-18T14:50:46.908248Z",
     "iopub.status.busy": "2025-05-18T14:50:46.908248Z",
     "iopub.status.idle": "2025-05-18T14:50:46.913578Z",
     "shell.execute_reply": "2025-05-18T14:50:46.913578Z"
    },
    "papermill": {
     "duration": 0.012962,
     "end_time": "2025-05-18T14:50:46.915581",
     "exception": false,
     "start_time": "2025-05-18T14:50:46.902619",
     "status": "completed"
    },
    "tags": []
   },
   "outputs": [],
   "source": [
    "def fix_dates(df):\n",
    "    df[\"DATUM\"] = df[\"MESS_DATUM\"].astype(str)\n",
    "    df[\"DATUM\"] = pd.to_datetime(df[\"DATUM\"].apply(lambda x: x[0:4] + \"-\" + x[4:6] + \"-\" + x[6:8] + \"-\" + x[8:10]))\n",
    "    df.set_index(\"DATUM\", inplace = True)\n",
    "    return df"
   ]
  },
  {
   "cell_type": "code",
   "execution_count": 4,
   "id": "69d10223",
   "metadata": {
    "execution": {
     "iopub.execute_input": "2025-05-18T14:50:46.927485Z",
     "iopub.status.busy": "2025-05-18T14:50:46.926485Z",
     "iopub.status.idle": "2025-05-18T14:50:46.930936Z",
     "shell.execute_reply": "2025-05-18T14:50:46.930936Z"
    },
    "papermill": {
     "duration": 0.013357,
     "end_time": "2025-05-18T14:50:46.932939",
     "exception": false,
     "start_time": "2025-05-18T14:50:46.919582",
     "status": "completed"
    },
    "tags": []
   },
   "outputs": [],
   "source": [
    "def rename_columns(df):\n",
    "    # Hier die gewünschten Parameternamen ergänzen\n",
    "    renames = {\n",
    "        \n",
    "    }\n",
    "    df.rename(columns = renames, inplace = True)\n",
    "    return df"
   ]
  },
  {
   "cell_type": "code",
   "execution_count": 5,
   "id": "c051878f",
   "metadata": {
    "execution": {
     "iopub.execute_input": "2025-05-18T14:50:46.942945Z",
     "iopub.status.busy": "2025-05-18T14:50:46.942945Z",
     "iopub.status.idle": "2025-05-18T14:50:46.948264Z",
     "shell.execute_reply": "2025-05-18T14:50:46.948264Z"
    },
    "papermill": {
     "duration": 0.014356,
     "end_time": "2025-05-18T14:50:46.951297",
     "exception": false,
     "start_time": "2025-05-18T14:50:46.936941",
     "status": "completed"
    },
    "tags": []
   },
   "outputs": [],
   "source": [
    "def create_cleans():\n",
    "\n",
    "    all_files = glob.glob(path + \"schnarrenberg_dwd*.csv\")\n",
    "\n",
    "    for file in all_files:\n",
    "        df = pd.read_csv(file, delimiter=\";\", header=0)\n",
    "        df = fix_dates(df)\n",
    "        df = rename_columns(df)\n",
    "        df.to_csv(f\"{path}/clean_{file.split(\"\\\\\")[-1]}\" )"
   ]
  },
  {
   "cell_type": "code",
   "execution_count": 6,
   "id": "6ea8e1f1",
   "metadata": {
    "execution": {
     "iopub.execute_input": "2025-05-18T14:50:46.962299Z",
     "iopub.status.busy": "2025-05-18T14:50:46.961299Z",
     "iopub.status.idle": "2025-05-18T14:50:46.967619Z",
     "shell.execute_reply": "2025-05-18T14:50:46.967619Z"
    },
    "papermill": {
     "duration": 0.014325,
     "end_time": "2025-05-18T14:50:46.969623",
     "exception": false,
     "start_time": "2025-05-18T14:50:46.955298",
     "status": "completed"
    },
    "tags": []
   },
   "outputs": [],
   "source": [
    "def remove_duplicate_columns(df):\n",
    "    df = df.drop(columns=[\"eor\", \"STATIONS_ID\", \"MESS_DATUM\"], errors = \"ignore\")\n",
    "    return df"
   ]
  },
  {
   "cell_type": "code",
   "execution_count": 7,
   "id": "4f760bd7",
   "metadata": {
    "execution": {
     "iopub.execute_input": "2025-05-18T14:50:46.983625Z",
     "iopub.status.busy": "2025-05-18T14:50:46.982625Z",
     "iopub.status.idle": "2025-05-18T14:50:46.990211Z",
     "shell.execute_reply": "2025-05-18T14:50:46.989206Z"
    },
    "papermill": {
     "duration": 0.016586,
     "end_time": "2025-05-18T14:50:46.992210",
     "exception": false,
     "start_time": "2025-05-18T14:50:46.975624",
     "status": "completed"
    },
    "tags": []
   },
   "outputs": [],
   "source": [
    "def create_master():\n",
    "    all_files = glob.glob(path + \"/clean_schnarrenberg_dwd*.csv\")\n",
    "    date_range = pd.date_range(start='2023-01-01', end='2025-12-31 23:00:00', freq='h')\n",
    "    df = pd.DataFrame(index=date_range) \n",
    "    for file in all_files:\n",
    "        df_new = pd.read_csv(file, delimiter=\",\", header=0)\n",
    "        df_new = remove_duplicate_columns(df_new)\n",
    "        df_new[\"DATUM\"] = pd.to_datetime(df_new[\"DATUM\"])\n",
    "        df_new.set_index(\"DATUM\", inplace = True)\n",
    "        df = pd.merge(df, df_new, how = \"left\", left_index = True, right_index = True, suffixes=(\"\", \"_y\"))\n",
    "    return df"
   ]
  },
  {
   "cell_type": "code",
   "execution_count": 8,
   "id": "c9c58f81",
   "metadata": {
    "execution": {
     "iopub.execute_input": "2025-05-18T14:50:47.007214Z",
     "iopub.status.busy": "2025-05-18T14:50:47.007214Z",
     "iopub.status.idle": "2025-05-18T14:50:47.013316Z",
     "shell.execute_reply": "2025-05-18T14:50:47.012313Z"
    },
    "papermill": {
     "duration": 0.017106,
     "end_time": "2025-05-18T14:50:47.015318",
     "exception": false,
     "start_time": "2025-05-18T14:50:46.998212",
     "status": "completed"
    },
    "tags": []
   },
   "outputs": [],
   "source": [
    "create_cleans()"
   ]
  },
  {
   "cell_type": "code",
   "execution_count": 9,
   "id": "08160271",
   "metadata": {
    "execution": {
     "iopub.execute_input": "2025-05-18T14:50:47.027550Z",
     "iopub.status.busy": "2025-05-18T14:50:47.026551Z",
     "iopub.status.idle": "2025-05-18T14:50:48.054061Z",
     "shell.execute_reply": "2025-05-18T14:50:48.053056Z"
    },
    "papermill": {
     "duration": 1.036743,
     "end_time": "2025-05-18T14:50:48.057061",
     "exception": false,
     "start_time": "2025-05-18T14:50:47.020318",
     "status": "completed"
    },
    "tags": []
   },
   "outputs": [],
   "source": [
    "merged = create_master()"
   ]
  },
  {
   "cell_type": "code",
   "execution_count": 10,
   "id": "6f0c4dae",
   "metadata": {
    "execution": {
     "iopub.execute_input": "2025-05-18T14:50:48.068066Z",
     "iopub.status.busy": "2025-05-18T14:50:48.068066Z",
     "iopub.status.idle": "2025-05-18T14:50:48.079804Z",
     "shell.execute_reply": "2025-05-18T14:50:48.079200Z"
    },
    "papermill": {
     "duration": 0.020646,
     "end_time": "2025-05-18T14:50:48.081709",
     "exception": false,
     "start_time": "2025-05-18T14:50:48.061063",
     "status": "completed"
    },
    "tags": []
   },
   "outputs": [],
   "source": [
    "merged = merged.dropna(how = \"all\")"
   ]
  },
  {
   "cell_type": "code",
   "execution_count": 11,
   "id": "17547854",
   "metadata": {
    "execution": {
     "iopub.execute_input": "2025-05-18T14:50:48.148916Z",
     "iopub.status.busy": "2025-05-18T14:50:48.147917Z",
     "iopub.status.idle": "2025-05-18T14:50:48.586895Z",
     "shell.execute_reply": "2025-05-18T14:50:48.585891Z"
    },
    "papermill": {
     "duration": 0.446978,
     "end_time": "2025-05-18T14:50:48.588895",
     "exception": false,
     "start_time": "2025-05-18T14:50:48.141917",
     "status": "completed"
    },
    "tags": []
   },
   "outputs": [],
   "source": [
    "merged.to_csv(f\"{path}/clean_wetter_komplett.csv\")"
   ]
  },
  {
   "cell_type": "code",
   "execution_count": null,
   "id": "60841bf3",
   "metadata": {
    "papermill": {
     "duration": 0.005001,
     "end_time": "2025-05-18T14:50:48.600898",
     "exception": false,
     "start_time": "2025-05-18T14:50:48.595897",
     "status": "completed"
    },
    "tags": []
   },
   "outputs": [],
   "source": []
  }
 ],
 "metadata": {
  "kernelspec": {
   "display_name": "base",
   "language": "python",
   "name": "python3"
  },
  "language_info": {
   "codemirror_mode": {
    "name": "ipython",
    "version": 3
   },
   "file_extension": ".py",
   "mimetype": "text/x-python",
   "name": "python",
   "nbconvert_exporter": "python",
   "pygments_lexer": "ipython3",
   "version": "3.12.4"
  },
  "papermill": {
   "default_parameters": {},
   "duration": 7.224617,
   "end_time": "2025-05-18T14:50:49.041608",
   "environment_variables": {},
   "exception": null,
   "input_path": "clean_dwd_daten.ipynb",
   "output_path": "papermill_outputs//outclean_dwd_daten_papermill.ipynb",
   "parameters": {},
   "start_time": "2025-05-18T14:50:41.816991",
   "version": "2.6.0"
  }
 },
 "nbformat": 4,
 "nbformat_minor": 5
}