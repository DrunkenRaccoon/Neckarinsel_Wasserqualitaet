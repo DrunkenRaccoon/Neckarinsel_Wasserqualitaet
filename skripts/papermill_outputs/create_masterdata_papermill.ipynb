{
 "cells": [
  {
   "cell_type": "code",
   "execution_count": 1,
   "id": "9a6b9d44",
   "metadata": {
    "execution": {
     "iopub.execute_input": "2025-02-25T10:29:42.166604Z",
     "iopub.status.busy": "2025-02-25T10:29:42.166086Z",
     "iopub.status.idle": "2025-02-25T10:29:42.913005Z",
     "shell.execute_reply": "2025-02-25T10:29:42.912493Z"
    },
    "papermill": {
     "duration": 0.757295,
     "end_time": "2025-02-25T10:29:42.915052",
     "exception": false,
     "start_time": "2025-02-25T10:29:42.157757",
     "status": "completed"
    },
    "tags": []
   },
   "outputs": [
    {
     "data": {
      "text/plain": [
       "True"
      ]
     },
     "execution_count": 1,
     "metadata": {},
     "output_type": "execute_result"
    }
   ],
   "source": [
    "import pandas as pd\n",
    "import os\n",
    "from dotenv import load_dotenv\n",
    "load_dotenv()"
   ]
  },
  {
   "cell_type": "code",
   "execution_count": 2,
   "id": "58810708",
   "metadata": {
    "execution": {
     "iopub.execute_input": "2025-02-25T10:29:42.931164Z",
     "iopub.status.busy": "2025-02-25T10:29:42.930112Z",
     "iopub.status.idle": "2025-02-25T10:29:42.935281Z",
     "shell.execute_reply": "2025-02-25T10:29:42.934768Z"
    },
    "papermill": {
     "duration": 0.0161,
     "end_time": "2025-02-25T10:29:42.936814",
     "exception": false,
     "start_time": "2025-02-25T10:29:42.920714",
     "status": "completed"
    },
    "tags": []
   },
   "outputs": [],
   "source": [
    "path_data = os.getenv(\"path_to_data\")\n",
    "path_master = os.getenv(\"path_to_master\")"
   ]
  },
  {
   "cell_type": "code",
   "execution_count": 3,
   "id": "92b230c0",
   "metadata": {
    "execution": {
     "iopub.execute_input": "2025-02-25T10:29:42.950264Z",
     "iopub.status.busy": "2025-02-25T10:29:42.949752Z",
     "iopub.status.idle": "2025-02-25T10:29:43.014856Z",
     "shell.execute_reply": "2025-02-25T10:29:43.014344Z"
    },
    "papermill": {
     "duration": 0.074334,
     "end_time": "2025-02-25T10:29:43.016907",
     "exception": false,
     "start_time": "2025-02-25T10:29:42.942573",
     "status": "completed"
    },
    "tags": []
   },
   "outputs": [],
   "source": [
    "df_wetter = pd.read_csv(f\"{path_data}/clean_wetter_komplett.csv\", header = 0)"
   ]
  },
  {
   "cell_type": "code",
   "execution_count": 4,
   "id": "97b7e793",
   "metadata": {
    "execution": {
     "iopub.execute_input": "2025-02-25T10:29:43.033686Z",
     "iopub.status.busy": "2025-02-25T10:29:43.033155Z",
     "iopub.status.idle": "2025-02-25T10:29:43.039518Z",
     "shell.execute_reply": "2025-02-25T10:29:43.038453Z"
    },
    "papermill": {
     "duration": 0.018461,
     "end_time": "2025-02-25T10:29:43.041575",
     "exception": false,
     "start_time": "2025-02-25T10:29:43.023114",
     "status": "completed"
    },
    "tags": []
   },
   "outputs": [],
   "source": [
    "df_wetter.set_index(\"Unnamed: 0\", inplace = True)"
   ]
  },
  {
   "cell_type": "code",
   "execution_count": 5,
   "id": "a50d6247",
   "metadata": {
    "execution": {
     "iopub.execute_input": "2025-02-25T10:29:43.053446Z",
     "iopub.status.busy": "2025-02-25T10:29:43.053446Z",
     "iopub.status.idle": "2025-02-25T10:29:43.061761Z",
     "shell.execute_reply": "2025-02-25T10:29:43.060732Z"
    },
    "papermill": {
     "duration": 0.016532,
     "end_time": "2025-02-25T10:29:43.063308",
     "exception": false,
     "start_time": "2025-02-25T10:29:43.046776",
     "status": "completed"
    },
    "tags": []
   },
   "outputs": [],
   "source": [
    "df_messungen = pd.read_csv(f\"{path_master}/messungen_clean_2024.csv\", header = 0)"
   ]
  },
  {
   "cell_type": "code",
   "execution_count": 6,
   "id": "8d1129ba",
   "metadata": {
    "execution": {
     "iopub.execute_input": "2025-02-25T10:29:43.076282Z",
     "iopub.status.busy": "2025-02-25T10:29:43.075758Z",
     "iopub.status.idle": "2025-02-25T10:29:43.080448Z",
     "shell.execute_reply": "2025-02-25T10:29:43.079937Z"
    },
    "papermill": {
     "duration": 0.014015,
     "end_time": "2025-02-25T10:29:43.082494",
     "exception": false,
     "start_time": "2025-02-25T10:29:43.068479",
     "status": "completed"
    },
    "tags": []
   },
   "outputs": [],
   "source": [
    "df_messungen.set_index(\"DATUM\", inplace = True)"
   ]
  },
  {
   "cell_type": "code",
   "execution_count": 7,
   "id": "eaf8074a",
   "metadata": {
    "execution": {
     "iopub.execute_input": "2025-02-25T10:29:43.095385Z",
     "iopub.status.busy": "2025-02-25T10:29:43.095385Z",
     "iopub.status.idle": "2025-02-25T10:29:43.109894Z",
     "shell.execute_reply": "2025-02-25T10:29:43.108865Z"
    },
    "papermill": {
     "duration": 0.023292,
     "end_time": "2025-02-25T10:29:43.111432",
     "exception": false,
     "start_time": "2025-02-25T10:29:43.088140",
     "status": "completed"
    },
    "tags": []
   },
   "outputs": [],
   "source": [
    "df_komplett = pd.merge(df_wetter, df_messungen, how = \"left\", left_index=True, right_index=True)"
   ]
  },
  {
   "cell_type": "code",
   "execution_count": 8,
   "id": "1b5b14ff",
   "metadata": {
    "execution": {
     "iopub.execute_input": "2025-02-25T10:29:43.123791Z",
     "iopub.status.busy": "2025-02-25T10:29:43.123274Z",
     "iopub.status.idle": "2025-02-25T10:29:43.142339Z",
     "shell.execute_reply": "2025-02-25T10:29:43.141310Z"
    },
    "papermill": {
     "duration": 0.02834,
     "end_time": "2025-02-25T10:29:43.144893",
     "exception": false,
     "start_time": "2025-02-25T10:29:43.116553",
     "status": "completed"
    },
    "tags": []
   },
   "outputs": [],
   "source": [
    "df_komplett.index.rename(\"zeit\", inplace=True)\n",
    "df_komplett.index = pd.to_datetime(df_komplett.index)"
   ]
  },
  {
   "cell_type": "code",
   "execution_count": 9,
   "id": "d709762b",
   "metadata": {
    "execution": {
     "iopub.execute_input": "2025-02-25T10:29:43.158842Z",
     "iopub.status.busy": "2025-02-25T10:29:43.158321Z",
     "iopub.status.idle": "2025-02-25T10:29:43.165000Z",
     "shell.execute_reply": "2025-02-25T10:29:43.164488Z"
    },
    "papermill": {
     "duration": 0.016544,
     "end_time": "2025-02-25T10:29:43.167057",
     "exception": false,
     "start_time": "2025-02-25T10:29:43.150513",
     "status": "completed"
    },
    "tags": []
   },
   "outputs": [],
   "source": [
    "zeit_max = df_komplett[pd.notna(df_komplett[\"ecoli\"])].index.max()\n",
    "zeit_min = df_komplett[pd.notna(df_komplett[\"ecoli\"])].index.min()"
   ]
  },
  {
   "cell_type": "code",
   "execution_count": 10,
   "id": "f0fad293",
   "metadata": {
    "execution": {
     "iopub.execute_input": "2025-02-25T10:29:43.180043Z",
     "iopub.status.busy": "2025-02-25T10:29:43.179512Z",
     "iopub.status.idle": "2025-02-25T10:29:43.186747Z",
     "shell.execute_reply": "2025-02-25T10:29:43.186237Z"
    },
    "papermill": {
     "duration": 0.016629,
     "end_time": "2025-02-25T10:29:43.188809",
     "exception": false,
     "start_time": "2025-02-25T10:29:43.172180",
     "status": "completed"
    },
    "tags": []
   },
   "outputs": [],
   "source": [
    "df_komplett = df_komplett[df_komplett.index > zeit_min- pd.Timedelta(\"7d\")]\n",
    "df_komplett = df_komplett[df_komplett.index < zeit_max + pd.Timedelta(\"7d\")]"
   ]
  },
  {
   "cell_type": "code",
   "execution_count": 11,
   "id": "2514f7ea",
   "metadata": {
    "execution": {
     "iopub.execute_input": "2025-02-25T10:29:43.202360Z",
     "iopub.status.busy": "2025-02-25T10:29:43.201847Z",
     "iopub.status.idle": "2025-02-25T10:29:43.216734Z",
     "shell.execute_reply": "2025-02-25T10:29:43.216225Z"
    },
    "papermill": {
     "duration": 0.024283,
     "end_time": "2025-02-25T10:29:43.218785",
     "exception": false,
     "start_time": "2025-02-25T10:29:43.194502",
     "status": "completed"
    },
    "tags": []
   },
   "outputs": [],
   "source": [
    "df_wendlingen= pd.read_csv(f\"{path_data}/wendlingen_messwerte.csv\", delimiter = \";\", parse_dates = True, index_col = 0)"
   ]
  },
  {
   "cell_type": "code",
   "execution_count": 12,
   "id": "ea67a65a",
   "metadata": {
    "execution": {
     "iopub.execute_input": "2025-02-25T10:29:43.231147Z",
     "iopub.status.busy": "2025-02-25T10:29:43.230633Z",
     "iopub.status.idle": "2025-02-25T10:29:43.240392Z",
     "shell.execute_reply": "2025-02-25T10:29:43.239359Z"
    },
    "papermill": {
     "duration": 0.019031,
     "end_time": "2025-02-25T10:29:43.242964",
     "exception": false,
     "start_time": "2025-02-25T10:29:43.223933",
     "status": "completed"
    },
    "tags": []
   },
   "outputs": [],
   "source": [
    "df_wendlingen = df_wendlingen.pivot(index = \"Datum\", columns = \"Parameter\", values = \"Tagesmittelwert\")"
   ]
  },
  {
   "cell_type": "code",
   "execution_count": 13,
   "id": "a18db7d4",
   "metadata": {
    "execution": {
     "iopub.execute_input": "2025-02-25T10:29:43.255264Z",
     "iopub.status.busy": "2025-02-25T10:29:43.254749Z",
     "iopub.status.idle": "2025-02-25T10:29:43.263007Z",
     "shell.execute_reply": "2025-02-25T10:29:43.262497Z"
    },
    "papermill": {
     "duration": 0.016974,
     "end_time": "2025-02-25T10:29:43.265052",
     "exception": false,
     "start_time": "2025-02-25T10:29:43.248078",
     "status": "completed"
    },
    "tags": []
   },
   "outputs": [],
   "source": [
    "df_wendlingen.index = pd.to_datetime(df_wendlingen.index, format = \"%d.%m.%Y\")"
   ]
  },
  {
   "cell_type": "code",
   "execution_count": 14,
   "id": "837eab1b",
   "metadata": {
    "execution": {
     "iopub.execute_input": "2025-02-25T10:29:43.279628Z",
     "iopub.status.busy": "2025-02-25T10:29:43.279114Z",
     "iopub.status.idle": "2025-02-25T10:29:43.290959Z",
     "shell.execute_reply": "2025-02-25T10:29:43.290446Z"
    },
    "papermill": {
     "duration": 0.021841,
     "end_time": "2025-02-25T10:29:43.293033",
     "exception": false,
     "start_time": "2025-02-25T10:29:43.271192",
     "status": "completed"
    },
    "tags": []
   },
   "outputs": [],
   "source": [
    "df_wendlingen = df_wendlingen.resample(\"1h\").first().ffill()"
   ]
  },
  {
   "cell_type": "code",
   "execution_count": 15,
   "id": "6382193d",
   "metadata": {
    "execution": {
     "iopub.execute_input": "2025-02-25T10:29:43.306951Z",
     "iopub.status.busy": "2025-02-25T10:29:43.306437Z",
     "iopub.status.idle": "2025-02-25T10:29:43.327509Z",
     "shell.execute_reply": "2025-02-25T10:29:43.326998Z"
    },
    "papermill": {
     "duration": 0.030906,
     "end_time": "2025-02-25T10:29:43.329553",
     "exception": false,
     "start_time": "2025-02-25T10:29:43.298647",
     "status": "completed"
    },
    "tags": []
   },
   "outputs": [],
   "source": [
    "for col in df_wendlingen:\n",
    "    df_wendlingen[col] = df_wendlingen[col].str.replace(\",\", \".\")\n",
    "    try:\n",
    "        df_wendlingen[col] = pd.to_numeric(df_wendlingen[col])\n",
    "    except:\n",
    "        pass"
   ]
  },
  {
   "cell_type": "code",
   "execution_count": 16,
   "id": "23ce080e",
   "metadata": {
    "execution": {
     "iopub.execute_input": "2025-02-25T10:29:43.343546Z",
     "iopub.status.busy": "2025-02-25T10:29:43.343021Z",
     "iopub.status.idle": "2025-02-25T10:29:43.351222Z",
     "shell.execute_reply": "2025-02-25T10:29:43.350711Z"
    },
    "papermill": {
     "duration": 0.01908,
     "end_time": "2025-02-25T10:29:43.353796",
     "exception": false,
     "start_time": "2025-02-25T10:29:43.334716",
     "status": "completed"
    },
    "tags": []
   },
   "outputs": [],
   "source": [
    "df_komplett = df_komplett.merge(df_wendlingen, left_index=True, right_index=True)"
   ]
  },
  {
   "cell_type": "code",
   "execution_count": 17,
   "id": "1e1098ff",
   "metadata": {
    "execution": {
     "iopub.execute_input": "2025-02-25T10:29:43.367137Z",
     "iopub.status.busy": "2025-02-25T10:29:43.366625Z",
     "iopub.status.idle": "2025-02-25T10:29:43.371227Z",
     "shell.execute_reply": "2025-02-25T10:29:43.370716Z"
    },
    "papermill": {
     "duration": 0.014364,
     "end_time": "2025-02-25T10:29:43.373281",
     "exception": false,
     "start_time": "2025-02-25T10:29:43.358917",
     "status": "completed"
    },
    "tags": []
   },
   "outputs": [],
   "source": [
    "df_komplett.reset_index(inplace = True)"
   ]
  },
  {
   "cell_type": "code",
   "execution_count": 18,
   "id": "0a846fc6",
   "metadata": {
    "execution": {
     "iopub.execute_input": "2025-02-25T10:29:43.388394Z",
     "iopub.status.busy": "2025-02-25T10:29:43.387876Z",
     "iopub.status.idle": "2025-02-25T10:29:43.393652Z",
     "shell.execute_reply": "2025-02-25T10:29:43.392618Z"
    },
    "papermill": {
     "duration": 0.015543,
     "end_time": "2025-02-25T10:29:43.395700",
     "exception": false,
     "start_time": "2025-02-25T10:29:43.380157",
     "status": "completed"
    },
    "tags": []
   },
   "outputs": [],
   "source": [
    "df_komplett.columns = [col.strip() for col in df_komplett.columns]"
   ]
  },
  {
   "cell_type": "code",
   "execution_count": 19,
   "id": "bfd424fe",
   "metadata": {
    "execution": {
     "iopub.execute_input": "2025-02-25T10:29:43.409624Z",
     "iopub.status.busy": "2025-02-25T10:29:43.409112Z",
     "iopub.status.idle": "2025-02-25T10:29:43.527711Z",
     "shell.execute_reply": "2025-02-25T10:29:43.527201Z"
    },
    "papermill": {
     "duration": 0.128886,
     "end_time": "2025-02-25T10:29:43.529761",
     "exception": false,
     "start_time": "2025-02-25T10:29:43.400875",
     "status": "completed"
    },
    "tags": []
   },
   "outputs": [],
   "source": [
    "df_komplett.to_csv(f\"{path_master}/masterdata_2024.csv\")"
   ]
  },
  {
   "cell_type": "code",
   "execution_count": null,
   "id": "deadfd25",
   "metadata": {
    "papermill": {
     "duration": 0.006232,
     "end_time": "2025-02-25T10:29:43.541616",
     "exception": false,
     "start_time": "2025-02-25T10:29:43.535384",
     "status": "completed"
    },
    "tags": []
   },
   "outputs": [],
   "source": []
  }
 ],
 "metadata": {
  "kernelspec": {
   "display_name": "base",
   "language": "python",
   "name": "python3"
  },
  "language_info": {
   "codemirror_mode": {
    "name": "ipython",
    "version": 3
   },
   "file_extension": ".py",
   "mimetype": "text/x-python",
   "name": "python",
   "nbconvert_exporter": "python",
   "pygments_lexer": "ipython3",
   "version": "3.12.4"
  },
  "papermill": {
   "default_parameters": {},
   "duration": 3.981917,
   "end_time": "2025-02-25T10:29:43.866459",
   "environment_variables": {},
   "exception": null,
   "input_path": "create_masterdata.ipynb",
   "output_path": "papermill_outputs//create_masterdata_papermill.ipynb",
   "parameters": {},
   "start_time": "2025-02-25T10:29:39.884542",
   "version": "2.6.0"
  }
 },
 "nbformat": 4,
 "nbformat_minor": 5
}