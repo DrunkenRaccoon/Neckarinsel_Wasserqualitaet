{
 "cells": [
  {
   "cell_type": "code",
   "execution_count": 1,
   "id": "c4622f73",
   "metadata": {
    "execution": {
     "iopub.execute_input": "2025-05-18T14:50:56.530608Z",
     "iopub.status.busy": "2025-05-18T14:50:56.529608Z",
     "iopub.status.idle": "2025-05-18T14:50:57.676200Z",
     "shell.execute_reply": "2025-05-18T14:50:57.676200Z"
    },
    "papermill": {
     "duration": 1.1586,
     "end_time": "2025-05-18T14:50:57.678204",
     "exception": false,
     "start_time": "2025-05-18T14:50:56.519604",
     "status": "completed"
    },
    "tags": []
   },
   "outputs": [
    {
     "data": {
      "text/plain": [
       "True"
      ]
     },
     "execution_count": 1,
     "metadata": {},
     "output_type": "execute_result"
    }
   ],
   "source": [
    "import pandas as pd\n",
    "import os\n",
    "from dotenv import load_dotenv\n",
    "load_dotenv()"
   ]
  },
  {
   "cell_type": "code",
   "execution_count": 2,
   "id": "67e190dc",
   "metadata": {
    "execution": {
     "iopub.execute_input": "2025-05-18T14:50:57.695092Z",
     "iopub.status.busy": "2025-05-18T14:50:57.693820Z",
     "iopub.status.idle": "2025-05-18T14:50:57.699282Z",
     "shell.execute_reply": "2025-05-18T14:50:57.699282Z"
    },
    "papermill": {
     "duration": 0.015992,
     "end_time": "2025-05-18T14:50:57.701286",
     "exception": false,
     "start_time": "2025-05-18T14:50:57.685294",
     "status": "completed"
    },
    "tags": []
   },
   "outputs": [],
   "source": [
    "path_data = os.getenv(\"path_to_data\")\n",
    "path_master = os.getenv(\"path_to_master\")"
   ]
  },
  {
   "cell_type": "code",
   "execution_count": 3,
   "id": "31ec5e61",
   "metadata": {
    "execution": {
     "iopub.execute_input": "2025-05-18T14:50:57.715795Z",
     "iopub.status.busy": "2025-05-18T14:50:57.715795Z",
     "iopub.status.idle": "2025-05-18T14:50:57.827260Z",
     "shell.execute_reply": "2025-05-18T14:50:57.826253Z"
    },
    "papermill": {
     "duration": 0.125381,
     "end_time": "2025-05-18T14:50:57.832548",
     "exception": false,
     "start_time": "2025-05-18T14:50:57.707167",
     "status": "completed"
    },
    "tags": []
   },
   "outputs": [],
   "source": [
    "df_wetter = pd.read_csv(f\"{path_data}/clean_wetter_komplett.csv\", header = 0)"
   ]
  },
  {
   "cell_type": "code",
   "execution_count": 4,
   "id": "75ff5d2c",
   "metadata": {
    "execution": {
     "iopub.execute_input": "2025-05-18T14:50:57.854028Z",
     "iopub.status.busy": "2025-05-18T14:50:57.853027Z",
     "iopub.status.idle": "2025-05-18T14:50:57.866789Z",
     "shell.execute_reply": "2025-05-18T14:50:57.864781Z"
    },
    "papermill": {
     "duration": 0.032087,
     "end_time": "2025-05-18T14:50:57.872639",
     "exception": false,
     "start_time": "2025-05-18T14:50:57.840552",
     "status": "completed"
    },
    "tags": []
   },
   "outputs": [],
   "source": [
    "df_wetter.set_index(\"Unnamed: 0\", inplace = True)"
   ]
  },
  {
   "cell_type": "code",
   "execution_count": 5,
   "id": "51f150e7",
   "metadata": {
    "execution": {
     "iopub.execute_input": "2025-05-18T14:50:57.894375Z",
     "iopub.status.busy": "2025-05-18T14:50:57.893377Z",
     "iopub.status.idle": "2025-05-18T14:50:57.922810Z",
     "shell.execute_reply": "2025-05-18T14:50:57.921750Z"
    },
    "papermill": {
     "duration": 0.045169,
     "end_time": "2025-05-18T14:50:57.925810",
     "exception": false,
     "start_time": "2025-05-18T14:50:57.880641",
     "status": "completed"
    },
    "tags": []
   },
   "outputs": [],
   "source": [
    "df_messungen = pd.read_csv(f\"{path_master}/messungen_clean_2024.csv\", header = 0)"
   ]
  },
  {
   "cell_type": "code",
   "execution_count": 6,
   "id": "dbbb5a24",
   "metadata": {
    "execution": {
     "iopub.execute_input": "2025-05-18T14:50:57.944384Z",
     "iopub.status.busy": "2025-05-18T14:50:57.943384Z",
     "iopub.status.idle": "2025-05-18T14:50:57.951047Z",
     "shell.execute_reply": "2025-05-18T14:50:57.950041Z"
    },
    "papermill": {
     "duration": 0.021232,
     "end_time": "2025-05-18T14:50:57.955046",
     "exception": false,
     "start_time": "2025-05-18T14:50:57.933814",
     "status": "completed"
    },
    "tags": []
   },
   "outputs": [],
   "source": [
    "df_messungen.set_index(\"DATUM\", inplace = True)"
   ]
  },
  {
   "cell_type": "code",
   "execution_count": 7,
   "id": "2122d3a8",
   "metadata": {
    "execution": {
     "iopub.execute_input": "2025-05-18T14:50:57.978651Z",
     "iopub.status.busy": "2025-05-18T14:50:57.977651Z",
     "iopub.status.idle": "2025-05-18T14:50:57.998334Z",
     "shell.execute_reply": "2025-05-18T14:50:57.998334Z"
    },
    "papermill": {
     "duration": 0.032191,
     "end_time": "2025-05-18T14:50:57.998334",
     "exception": false,
     "start_time": "2025-05-18T14:50:57.966143",
     "status": "completed"
    },
    "tags": []
   },
   "outputs": [],
   "source": [
    "df_komplett = pd.merge(df_wetter, df_messungen, how = \"left\", left_index=True, right_index=True)"
   ]
  },
  {
   "cell_type": "code",
   "execution_count": 8,
   "id": "c385a4d7",
   "metadata": {
    "execution": {
     "iopub.execute_input": "2025-05-18T14:50:58.027485Z",
     "iopub.status.busy": "2025-05-18T14:50:58.026486Z",
     "iopub.status.idle": "2025-05-18T14:50:58.062452Z",
     "shell.execute_reply": "2025-05-18T14:50:58.061447Z"
    },
    "papermill": {
     "duration": 0.052973,
     "end_time": "2025-05-18T14:50:58.066452",
     "exception": false,
     "start_time": "2025-05-18T14:50:58.013479",
     "status": "completed"
    },
    "tags": []
   },
   "outputs": [],
   "source": [
    "df_komplett.index.rename(\"zeit\", inplace=True)\n",
    "df_komplett.index = pd.to_datetime(df_komplett.index)"
   ]
  },
  {
   "cell_type": "code",
   "execution_count": 9,
   "id": "0ddc80d4",
   "metadata": {
    "execution": {
     "iopub.execute_input": "2025-05-18T14:50:58.090457Z",
     "iopub.status.busy": "2025-05-18T14:50:58.089457Z",
     "iopub.status.idle": "2025-05-18T14:50:58.100921Z",
     "shell.execute_reply": "2025-05-18T14:50:58.099918Z"
    },
    "papermill": {
     "duration": 0.026462,
     "end_time": "2025-05-18T14:50:58.103921",
     "exception": false,
     "start_time": "2025-05-18T14:50:58.077459",
     "status": "completed"
    },
    "tags": []
   },
   "outputs": [],
   "source": [
    "zeit_max = df_komplett[pd.notna(df_komplett[\"ecoli\"])].index.max()\n",
    "zeit_min = df_komplett[pd.notna(df_komplett[\"ecoli\"])].index.min()"
   ]
  },
  {
   "cell_type": "code",
   "execution_count": 10,
   "id": "6b57e66d",
   "metadata": {
    "execution": {
     "iopub.execute_input": "2025-05-18T14:50:58.123928Z",
     "iopub.status.busy": "2025-05-18T14:50:58.122928Z",
     "iopub.status.idle": "2025-05-18T14:50:58.135370Z",
     "shell.execute_reply": "2025-05-18T14:50:58.134367Z"
    },
    "papermill": {
     "duration": 0.025446,
     "end_time": "2025-05-18T14:50:58.138371",
     "exception": false,
     "start_time": "2025-05-18T14:50:58.112925",
     "status": "completed"
    },
    "tags": []
   },
   "outputs": [],
   "source": [
    "df_komplett = df_komplett[df_komplett.index > zeit_min- pd.Timedelta(\"7d\")]\n",
    "df_komplett = df_komplett[df_komplett.index < zeit_max + pd.Timedelta(\"7d\")]"
   ]
  },
  {
   "cell_type": "code",
   "execution_count": 11,
   "id": "fe4b153c",
   "metadata": {
    "execution": {
     "iopub.execute_input": "2025-05-18T14:50:58.154377Z",
     "iopub.status.busy": "2025-05-18T14:50:58.153379Z",
     "iopub.status.idle": "2025-05-18T14:50:58.221290Z",
     "shell.execute_reply": "2025-05-18T14:50:58.221290Z"
    },
    "papermill": {
     "duration": 0.076633,
     "end_time": "2025-05-18T14:50:58.221290",
     "exception": false,
     "start_time": "2025-05-18T14:50:58.144657",
     "status": "completed"
    },
    "tags": []
   },
   "outputs": [],
   "source": [
    "df_wendlingen= pd.read_csv(f\"{path_data}/wendlingen_messwerte.csv\", delimiter = \";\", parse_dates = True, index_col = 0)"
   ]
  },
  {
   "cell_type": "code",
   "execution_count": 12,
   "id": "5a4cf174",
   "metadata": {
    "execution": {
     "iopub.execute_input": "2025-05-18T14:50:58.245062Z",
     "iopub.status.busy": "2025-05-18T14:50:58.245062Z",
     "iopub.status.idle": "2025-05-18T14:50:58.265147Z",
     "shell.execute_reply": "2025-05-18T14:50:58.264144Z"
    },
    "papermill": {
     "duration": 0.030356,
     "end_time": "2025-05-18T14:50:58.267148",
     "exception": false,
     "start_time": "2025-05-18T14:50:58.236792",
     "status": "completed"
    },
    "tags": []
   },
   "outputs": [],
   "source": [
    "df_wendlingen = df_wendlingen.pivot(index = \"Datum\", columns = \"Parameter\", values = \"Tagesmittelwert\")"
   ]
  },
  {
   "cell_type": "code",
   "execution_count": 13,
   "id": "1c65b6b8",
   "metadata": {
    "execution": {
     "iopub.execute_input": "2025-05-18T14:50:58.286925Z",
     "iopub.status.busy": "2025-05-18T14:50:58.286925Z",
     "iopub.status.idle": "2025-05-18T14:50:58.297249Z",
     "shell.execute_reply": "2025-05-18T14:50:58.295452Z"
    },
    "papermill": {
     "duration": 0.026771,
     "end_time": "2025-05-18T14:50:58.301249",
     "exception": false,
     "start_time": "2025-05-18T14:50:58.274478",
     "status": "completed"
    },
    "tags": []
   },
   "outputs": [],
   "source": [
    "df_wendlingen.index = pd.to_datetime(df_wendlingen.index, format = \"%d.%m.%Y\")"
   ]
  },
  {
   "cell_type": "code",
   "execution_count": 14,
   "id": "4c2413bc",
   "metadata": {
    "execution": {
     "iopub.execute_input": "2025-05-18T14:50:58.309271Z",
     "iopub.status.busy": "2025-05-18T14:50:58.309271Z",
     "iopub.status.idle": "2025-05-18T14:50:58.345120Z",
     "shell.execute_reply": "2025-05-18T14:50:58.344462Z"
    },
    "papermill": {
     "duration": 0.036871,
     "end_time": "2025-05-18T14:50:58.345120",
     "exception": false,
     "start_time": "2025-05-18T14:50:58.308249",
     "status": "completed"
    },
    "tags": []
   },
   "outputs": [],
   "source": [
    "df_wendlingen = df_wendlingen.resample(\"1h\").first().ffill()"
   ]
  },
  {
   "cell_type": "code",
   "execution_count": 15,
   "id": "dfdedcc8",
   "metadata": {
    "execution": {
     "iopub.execute_input": "2025-05-18T14:50:58.385755Z",
     "iopub.status.busy": "2025-05-18T14:50:58.385755Z",
     "iopub.status.idle": "2025-05-18T14:50:58.417722Z",
     "shell.execute_reply": "2025-05-18T14:50:58.416717Z"
    },
    "papermill": {
     "duration": 0.050282,
     "end_time": "2025-05-18T14:50:58.419721",
     "exception": false,
     "start_time": "2025-05-18T14:50:58.369439",
     "status": "completed"
    },
    "tags": []
   },
   "outputs": [],
   "source": [
    "for col in df_wendlingen:\n",
    "    df_wendlingen[col] = df_wendlingen[col].str.replace(\",\", \".\")\n",
    "    try:\n",
    "        df_wendlingen[col] = pd.to_numeric(df_wendlingen[col])\n",
    "    except:\n",
    "        pass"
   ]
  },
  {
   "cell_type": "code",
   "execution_count": 16,
   "id": "3724ab1a",
   "metadata": {
    "execution": {
     "iopub.execute_input": "2025-05-18T14:50:58.436652Z",
     "iopub.status.busy": "2025-05-18T14:50:58.435654Z",
     "iopub.status.idle": "2025-05-18T14:50:58.450970Z",
     "shell.execute_reply": "2025-05-18T14:50:58.450142Z"
    },
    "papermill": {
     "duration": 0.027247,
     "end_time": "2025-05-18T14:50:58.452970",
     "exception": false,
     "start_time": "2025-05-18T14:50:58.425723",
     "status": "completed"
    },
    "tags": []
   },
   "outputs": [],
   "source": [
    "df_komplett = df_komplett.merge(df_wendlingen, left_index=True, right_index=True)"
   ]
  },
  {
   "cell_type": "code",
   "execution_count": 17,
   "id": "299b6bb8",
   "metadata": {
    "execution": {
     "iopub.execute_input": "2025-05-18T14:50:58.474992Z",
     "iopub.status.busy": "2025-05-18T14:50:58.473994Z",
     "iopub.status.idle": "2025-05-18T14:50:58.482184Z",
     "shell.execute_reply": "2025-05-18T14:50:58.481181Z"
    },
    "papermill": {
     "duration": 0.023687,
     "end_time": "2025-05-18T14:50:58.485677",
     "exception": false,
     "start_time": "2025-05-18T14:50:58.461990",
     "status": "completed"
    },
    "tags": []
   },
   "outputs": [],
   "source": [
    "df_komplett.reset_index(inplace = True)"
   ]
  },
  {
   "cell_type": "code",
   "execution_count": 18,
   "id": "eae14711",
   "metadata": {
    "execution": {
     "iopub.execute_input": "2025-05-18T14:50:58.511345Z",
     "iopub.status.busy": "2025-05-18T14:50:58.511345Z",
     "iopub.status.idle": "2025-05-18T14:50:58.518529Z",
     "shell.execute_reply": "2025-05-18T14:50:58.518529Z"
    },
    "papermill": {
     "duration": 0.024601,
     "end_time": "2025-05-18T14:50:58.518529",
     "exception": false,
     "start_time": "2025-05-18T14:50:58.493928",
     "status": "completed"
    },
    "tags": []
   },
   "outputs": [],
   "source": [
    "df_komplett.columns = [col.strip() for col in df_komplett.columns]"
   ]
  },
  {
   "cell_type": "code",
   "execution_count": 19,
   "id": "5c02bacd",
   "metadata": {
    "execution": {
     "iopub.execute_input": "2025-05-18T14:50:58.537965Z",
     "iopub.status.busy": "2025-05-18T14:50:58.537965Z",
     "iopub.status.idle": "2025-05-18T14:50:58.677877Z",
     "shell.execute_reply": "2025-05-18T14:50:58.677877Z"
    },
    "papermill": {
     "duration": 0.152051,
     "end_time": "2025-05-18T14:50:58.680882",
     "exception": false,
     "start_time": "2025-05-18T14:50:58.528831",
     "status": "completed"
    },
    "tags": []
   },
   "outputs": [],
   "source": [
    "df_komplett.to_csv(f\"{path_master}/masterdata_2024.csv\")"
   ]
  },
  {
   "cell_type": "code",
   "execution_count": null,
   "id": "f36db2c1",
   "metadata": {
    "papermill": {
     "duration": 0.007002,
     "end_time": "2025-05-18T14:50:58.694884",
     "exception": false,
     "start_time": "2025-05-18T14:50:58.687882",
     "status": "completed"
    },
    "tags": []
   },
   "outputs": [],
   "source": []
  }
 ],
 "metadata": {
  "kernelspec": {
   "display_name": "base",
   "language": "python",
   "name": "python3"
  },
  "language_info": {
   "codemirror_mode": {
    "name": "ipython",
    "version": 3
   },
   "file_extension": ".py",
   "mimetype": "text/x-python",
   "name": "python",
   "nbconvert_exporter": "python",
   "pygments_lexer": "ipython3",
   "version": "3.12.4"
  },
  "papermill": {
   "default_parameters": {},
   "duration": 5.781865,
   "end_time": "2025-05-18T14:50:59.262918",
   "environment_variables": {},
   "exception": null,
   "input_path": "create_masterdata.ipynb",
   "output_path": "papermill_outputs//create_masterdata_papermill.ipynb",
   "parameters": {},
   "start_time": "2025-05-18T14:50:53.481053",
   "version": "2.6.0"
  }
 },
 "nbformat": 4,
 "nbformat_minor": 5
}