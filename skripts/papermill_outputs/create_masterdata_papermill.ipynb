{
 "cells": [
  {
   "cell_type": "code",
   "execution_count": 1,
   "id": "14b73c7b",
   "metadata": {
    "execution": {
     "iopub.execute_input": "2025-06-19T12:50:14.611522Z",
     "iopub.status.busy": "2025-06-19T12:50:14.611522Z",
     "iopub.status.idle": "2025-06-19T12:50:15.620375Z",
     "shell.execute_reply": "2025-06-19T12:50:15.619375Z"
    },
    "papermill": {
     "duration": 1.023856,
     "end_time": "2025-06-19T12:50:15.623375",
     "exception": false,
     "start_time": "2025-06-19T12:50:14.599519",
     "status": "completed"
    },
    "tags": []
   },
   "outputs": [
    {
     "data": {
      "text/plain": [
       "True"
      ]
     },
     "execution_count": 1,
     "metadata": {},
     "output_type": "execute_result"
    }
   ],
   "source": [
    "import pandas as pd\n",
    "import os\n",
    "from dotenv import load_dotenv\n",
    "load_dotenv()"
   ]
  },
  {
   "cell_type": "code",
   "execution_count": 2,
   "id": "87d91905",
   "metadata": {
    "execution": {
     "iopub.execute_input": "2025-06-19T12:50:15.636379Z",
     "iopub.status.busy": "2025-06-19T12:50:15.635379Z",
     "iopub.status.idle": "2025-06-19T12:50:15.642865Z",
     "shell.execute_reply": "2025-06-19T12:50:15.641872Z"
    },
    "papermill": {
     "duration": 0.01649,
     "end_time": "2025-06-19T12:50:15.643866",
     "exception": false,
     "start_time": "2025-06-19T12:50:15.627376",
     "status": "completed"
    },
    "tags": []
   },
   "outputs": [],
   "source": [
    "path_data = os.getenv(\"path_to_data\")\n",
    "path_master = os.getenv(\"path_to_master\")"
   ]
  },
  {
   "cell_type": "markdown",
   "id": "7a0d7e7c",
   "metadata": {
    "papermill": {
     "duration": 0.005001,
     "end_time": "2025-06-19T12:50:15.652867",
     "exception": false,
     "start_time": "2025-06-19T12:50:15.647866",
     "status": "completed"
    },
    "tags": []
   },
   "source": [
    "## Wetter Komplett"
   ]
  },
  {
   "cell_type": "code",
   "execution_count": 3,
   "id": "9979abad",
   "metadata": {
    "execution": {
     "iopub.execute_input": "2025-06-19T12:50:15.663872Z",
     "iopub.status.busy": "2025-06-19T12:50:15.662874Z",
     "iopub.status.idle": "2025-06-19T12:50:15.760593Z",
     "shell.execute_reply": "2025-06-19T12:50:15.759611Z"
    },
    "papermill": {
     "duration": 0.105725,
     "end_time": "2025-06-19T12:50:15.762594",
     "exception": false,
     "start_time": "2025-06-19T12:50:15.656869",
     "status": "completed"
    },
    "tags": []
   },
   "outputs": [],
   "source": [
    "# Wetterdaten und E. coli-Messungen laden\n",
    "df_wetter = pd.read_csv(f\"{path_data}/clean_wetter_komplett.csv\", header=0, index_col=0, parse_dates=True)\n",
    "df_messungen = pd.read_csv(f\"{path_master}/messungen_clean_2024.csv\", header=0, index_col=0, parse_dates=True)\n"
   ]
  },
  {
   "cell_type": "code",
   "execution_count": 4,
   "id": "e6991fe1",
   "metadata": {
    "execution": {
     "iopub.execute_input": "2025-06-19T12:50:15.774598Z",
     "iopub.status.busy": "2025-06-19T12:50:15.773598Z",
     "iopub.status.idle": "2025-06-19T12:50:15.784999Z",
     "shell.execute_reply": "2025-06-19T12:50:15.784009Z"
    },
    "papermill": {
     "duration": 0.020406,
     "end_time": "2025-06-19T12:50:15.787001",
     "exception": false,
     "start_time": "2025-06-19T12:50:15.766595",
     "status": "completed"
    },
    "tags": []
   },
   "outputs": [],
   "source": [
    "df_komplett = pd.merge(df_wetter, df_messungen, how=\"left\", left_index=True, right_index=True)\n",
    "df_komplett.index.rename(\"zeit\", inplace=True)"
   ]
  },
  {
   "cell_type": "code",
   "execution_count": 5,
   "id": "a9f372c4",
   "metadata": {
    "execution": {
     "iopub.execute_input": "2025-06-19T12:50:15.798004Z",
     "iopub.status.busy": "2025-06-19T12:50:15.797003Z",
     "iopub.status.idle": "2025-06-19T12:50:15.805193Z",
     "shell.execute_reply": "2025-06-19T12:50:15.804199Z"
    },
    "papermill": {
     "duration": 0.01619,
     "end_time": "2025-06-19T12:50:15.807191",
     "exception": false,
     "start_time": "2025-06-19T12:50:15.791001",
     "status": "completed"
    },
    "tags": []
   },
   "outputs": [],
   "source": [
    "df_komplett = df_komplett[df_komplett.index >= \"2024-01-01\"]"
   ]
  },
  {
   "cell_type": "code",
   "execution_count": 6,
   "id": "ead9dad8",
   "metadata": {
    "execution": {
     "iopub.execute_input": "2025-06-19T12:50:15.819197Z",
     "iopub.status.busy": "2025-06-19T12:50:15.818195Z",
     "iopub.status.idle": "2025-06-19T12:50:15.861864Z",
     "shell.execute_reply": "2025-06-19T12:50:15.860867Z"
    },
    "papermill": {
     "duration": 0.052672,
     "end_time": "2025-06-19T12:50:15.863865",
     "exception": false,
     "start_time": "2025-06-19T12:50:15.811193",
     "status": "completed"
    },
    "tags": []
   },
   "outputs": [],
   "source": [
    "# LUBW-Daten laden und verarbeiten\n",
    "df_lubw_raw = pd.read_csv(f\"{path_data}/messwerte_lubw.csv\", sep=\";\", parse_dates=[\"Datum\"], dayfirst=True)\n",
    "\n",
    "# Relevante Spalten extrahieren\n",
    "df_lubw = df_lubw_raw[[\"Messstation\", \"Gewässer\", \"Parameter\", \"Datum\", \"Tagesmittelwert\"]]"
   ]
  },
  {
   "cell_type": "code",
   "execution_count": 7,
   "id": "9c8c38bf",
   "metadata": {
    "execution": {
     "iopub.execute_input": "2025-06-19T12:50:15.877869Z",
     "iopub.status.busy": "2025-06-19T12:50:15.876869Z",
     "iopub.status.idle": "2025-06-19T12:50:15.894685Z",
     "shell.execute_reply": "2025-06-19T12:50:15.893690Z"
    },
    "papermill": {
     "duration": 0.027819,
     "end_time": "2025-06-19T12:50:15.896685",
     "exception": false,
     "start_time": "2025-06-19T12:50:15.868866",
     "status": "completed"
    },
    "tags": []
   },
   "outputs": [
    {
     "name": "stderr",
     "output_type": "stream",
     "text": [
      "C:\\Users\\Dome Arbeit\\AppData\\Local\\Temp\\ipykernel_20904\\1829527460.py:2: SettingWithCopyWarning: \n",
      "A value is trying to be set on a copy of a slice from a DataFrame.\n",
      "Try using .loc[row_indexer,col_indexer] = value instead\n",
      "\n",
      "See the caveats in the documentation: https://pandas.pydata.org/pandas-docs/stable/user_guide/indexing.html#returning-a-view-versus-a-copy\n",
      "  df_lubw[\"Tagesmittelwert\"] = df_lubw[\"Tagesmittelwert\"].str.replace(\",\", \".\")\n",
      "C:\\Users\\Dome Arbeit\\AppData\\Local\\Temp\\ipykernel_20904\\1829527460.py:3: SettingWithCopyWarning: \n",
      "A value is trying to be set on a copy of a slice from a DataFrame.\n",
      "Try using .loc[row_indexer,col_indexer] = value instead\n",
      "\n",
      "See the caveats in the documentation: https://pandas.pydata.org/pandas-docs/stable/user_guide/indexing.html#returning-a-view-versus-a-copy\n",
      "  df_lubw[\"Tagesmittelwert\"] = pd.to_numeric(df_lubw[\"Tagesmittelwert\"], errors=\"coerce\")\n"
     ]
    }
   ],
   "source": [
    "# Zahlen konvertieren (Komma → Punkt, \"-\" → NaN)\n",
    "df_lubw[\"Tagesmittelwert\"] = df_lubw[\"Tagesmittelwert\"].str.replace(\",\", \".\")\n",
    "df_lubw[\"Tagesmittelwert\"] = pd.to_numeric(df_lubw[\"Tagesmittelwert\"], errors=\"coerce\")\n"
   ]
  },
  {
   "cell_type": "code",
   "execution_count": 8,
   "id": "3c65000e",
   "metadata": {
    "execution": {
     "iopub.execute_input": "2025-06-19T12:50:15.907688Z",
     "iopub.status.busy": "2025-06-19T12:50:15.907688Z",
     "iopub.status.idle": "2025-06-19T12:50:15.935428Z",
     "shell.execute_reply": "2025-06-19T12:50:15.935428Z"
    },
    "papermill": {
     "duration": 0.036736,
     "end_time": "2025-06-19T12:50:15.937422",
     "exception": false,
     "start_time": "2025-06-19T12:50:15.900686",
     "status": "completed"
    },
    "tags": []
   },
   "outputs": [
    {
     "name": "stderr",
     "output_type": "stream",
     "text": [
      "C:\\Users\\Dome Arbeit\\AppData\\Local\\Temp\\ipykernel_20904\\133331347.py:2: SettingWithCopyWarning: \n",
      "A value is trying to be set on a copy of a slice from a DataFrame.\n",
      "Try using .loc[row_indexer,col_indexer] = value instead\n",
      "\n",
      "See the caveats in the documentation: https://pandas.pydata.org/pandas-docs/stable/user_guide/indexing.html#returning-a-view-versus-a-copy\n",
      "  df_lubw[\"Kürzel\"] = (\n"
     ]
    }
   ],
   "source": [
    "# Kürzel erstellen z.B. We_Ne_Temperatur\n",
    "df_lubw[\"Kürzel\"] = (\n",
    "    df_lubw[\"Messstation\"].str[:2].str.capitalize() + \"_\" +\n",
    "    df_lubw[\"Gewässer\"].str[:2].str.capitalize() + \"_\" +\n",
    "    df_lubw[\"Parameter\"]\n",
    "        .str.replace(\"bei .*\", \"\", regex=True)\n",
    "        .str.replace(\" \", \"\")\n",
    "        .str.replace(\"ä\", \"ae\")\n",
    "        .str.replace(\"ö\", \"oe\")\n",
    "        .str.replace(\"ü\", \"ue\")\n",
    "        .str.replace(\"ß\", \"ss\")\n",
    ")\n"
   ]
  },
  {
   "cell_type": "code",
   "execution_count": 9,
   "id": "d5c29ca1",
   "metadata": {
    "execution": {
     "iopub.execute_input": "2025-06-19T12:50:15.950424Z",
     "iopub.status.busy": "2025-06-19T12:50:15.949424Z",
     "iopub.status.idle": "2025-06-19T12:50:15.972032Z",
     "shell.execute_reply": "2025-06-19T12:50:15.972032Z"
    },
    "papermill": {
     "duration": 0.032606,
     "end_time": "2025-06-19T12:50:15.974028",
     "exception": false,
     "start_time": "2025-06-19T12:50:15.941422",
     "status": "completed"
    },
    "tags": []
   },
   "outputs": [
    {
     "name": "stderr",
     "output_type": "stream",
     "text": [
      "C:\\Users\\Dome Arbeit\\AppData\\Local\\Temp\\ipykernel_20904\\4046771336.py:5: FutureWarning: 'H' is deprecated and will be removed in a future version, please use 'h' instead.\n",
      "  df_lubw_hourly = df_lubw_pivot.resample(\"1H\").ffill()\n"
     ]
    }
   ],
   "source": [
    "# Pivotieren: Datum als Index, Parameter als Spalten\n",
    "df_lubw_pivot = df_lubw.pivot(index=\"Datum\", columns=\"Kürzel\", values=\"Tagesmittelwert\")\n",
    "\n",
    "# Resample auf 1h und auffüllen\n",
    "df_lubw_hourly = df_lubw_pivot.resample(\"1H\").ffill()\n",
    "\n",
    "# In Masterdaten integrieren\n",
    "df_komplett = df_komplett.merge(df_lubw_hourly, left_index=True, right_index=True)"
   ]
  },
  {
   "cell_type": "code",
   "execution_count": 10,
   "id": "5e2d1ac8",
   "metadata": {
    "execution": {
     "iopub.execute_input": "2025-06-19T12:50:15.989032Z",
     "iopub.status.busy": "2025-06-19T12:50:15.989032Z",
     "iopub.status.idle": "2025-06-19T12:50:15.997215Z",
     "shell.execute_reply": "2025-06-19T12:50:15.995216Z"
    },
    "papermill": {
     "duration": 0.020185,
     "end_time": "2025-06-19T12:50:15.999214",
     "exception": false,
     "start_time": "2025-06-19T12:50:15.979029",
     "status": "completed"
    },
    "tags": []
   },
   "outputs": [],
   "source": [
    "# Formatierung\n",
    "df_komplett.reset_index(inplace=True)\n",
    "df_komplett.columns = [col.strip() for col in df_komplett.columns]\n",
    "df_komplett.set_index(\"index\", inplace=True)"
   ]
  },
  {
   "cell_type": "code",
   "execution_count": 11,
   "id": "b6181233",
   "metadata": {
    "execution": {
     "iopub.execute_input": "2025-06-19T12:50:16.013217Z",
     "iopub.status.busy": "2025-06-19T12:50:16.012217Z",
     "iopub.status.idle": "2025-06-19T12:50:16.453688Z",
     "shell.execute_reply": "2025-06-19T12:50:16.452694Z"
    },
    "papermill": {
     "duration": 0.450471,
     "end_time": "2025-06-19T12:50:16.455686",
     "exception": false,
     "start_time": "2025-06-19T12:50:16.005215",
     "status": "completed"
    },
    "tags": []
   },
   "outputs": [],
   "source": [
    "# Export\n",
    "df_komplett.to_csv(f\"{path_master}/masterdata_2024.csv\")"
   ]
  }
 ],
 "metadata": {
  "kernelspec": {
   "display_name": "base",
   "language": "python",
   "name": "python3"
  },
  "language_info": {
   "codemirror_mode": {
    "name": "ipython",
    "version": 3
   },
   "file_extension": ".py",
   "mimetype": "text/x-python",
   "name": "python",
   "nbconvert_exporter": "python",
   "pygments_lexer": "ipython3",
   "version": "3.12.4"
  },
  "papermill": {
   "default_parameters": {},
   "duration": 4.693114,
   "end_time": "2025-06-19T12:50:16.936791",
   "environment_variables": {},
   "exception": null,
   "input_path": "create_masterdata.ipynb",
   "output_path": "papermill_outputs//create_masterdata_papermill.ipynb",
   "parameters": {},
   "start_time": "2025-06-19T12:50:12.243677",
   "version": "2.6.0"
  }
 },
 "nbformat": 4,
 "nbformat_minor": 5
}