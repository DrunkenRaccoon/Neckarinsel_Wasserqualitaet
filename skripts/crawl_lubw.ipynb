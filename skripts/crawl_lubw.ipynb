{
 "cells": [
  {
   "cell_type": "code",
   "execution_count": 2,
   "id": "c393688e",
   "metadata": {},
   "outputs": [
    {
     "data": {
      "text/plain": [
       "True"
      ]
     },
     "execution_count": 2,
     "metadata": {},
     "output_type": "execute_result"
    }
   ],
   "source": [
    "import pandas as pd\n",
    "import os\n",
    "import os\n",
    "from dotenv import load_dotenv\n",
    "load_dotenv()"
   ]
  },
  {
   "cell_type": "code",
   "execution_count": 3,
   "id": "730ba178",
   "metadata": {},
   "outputs": [],
   "source": [
    "path = os.getenv(\"path_to_data\")\n",
    "path_master = os.getenv(\"path_to_master\")"
   ]
  },
  {
   "cell_type": "code",
   "execution_count": 4,
   "id": "3f7fe6b0",
   "metadata": {},
   "outputs": [
    {
     "name": "stdout",
     "output_type": "stream",
     "text": [
      "🔎 Wähle Kreise: ['Esslingen', 'Stuttgart, Landeshauptstadt']\n",
      "✅ Kreise erfolgreich gewählt.\n",
      "✔ Datum gesetzt: 2024 - 2025\n",
      "✔ CSV erfolgreich gespeichert\n",
      "✅ Ablauf abgeschlossen – falls ein nativer Save‑Dialog erscheint, bitte manuell speichern.\n"
     ]
    }
   ],
   "source": [
    "#!/usr/bin/env python3\n",
    "\"\"\"\n",
    "Playwright crawler (Notebook‑compatible) for LUBW Fließgewässer‑Dashboard.\n",
    "\n",
    "*   wählt Kreise **Esslingen** und **Stuttgart, Landeshauptstadt**\n",
    "*   setzt das Datumsfeld auf **\"2024 - <aktuelles Jahr>\"**\n",
    "*   hovert über den Spaltenkopf »Parameter«, klickt Export → *CSV‑Datei*\n",
    "*   lässt den Browser sichtbar laufen (`headless=False`), damit du alles siehst\n",
    "\n",
    "Erstinstallation:\n",
    "    pip install playwright\n",
    "    playwright install\n",
    "\n",
    "Notebook‑Aufruf:\n",
    "    await main(headless=False)\n",
    "\"\"\"\n",
    "import asyncio\n",
    "from datetime import datetime\n",
    "from pathlib import Path\n",
    "from playwright.async_api import async_playwright\n",
    "\n",
    "URL = (\n",
    "    \"https://umweltdaten.lubw.baden-wuerttemberg.de/repositories/\"\n",
    "    \"wasser_gewaesserguete,yUm3pYRGyaP7hFRow7Rf/workbooks/\"\n",
    "    \"Fliessgewaesserguete,8SMZrw9xObs2ChqTSHk1/worksheets/\"\n",
    "    \"Daten-der-Online-Messstationen,XucPlXdlipPF63XPBcOz\"\n",
    "    \"?workbookHash=d7e9GgWwzUgJQK5oRyJbAwEQa-fEcb54KVJ-nA2GRzL45K5G\"\n",
    "    \"&embeddingTargetId=chemie-messstellen\"\n",
    ")\n",
    "\n",
    "KREISE = [\"Esslingen\", \"Stuttgart, Landeshauptstadt\"]\n",
    "\n",
    "async def choose_kreise(page):\n",
    "    \"\"\"Wählt die gewünschten Kreise im Select2-Filter aus.\"\"\"\n",
    "    print(\"🔎 Wähle Kreise:\", KREISE)\n",
    "\n",
    "    # Warte auf das Select2-Suchfeld (sichtbar & interaktiv)\n",
    "    await page.wait_for_selector(\"input.select2-search__field\", timeout=15000)\n",
    "\n",
    "    for kreis in KREISE:\n",
    "        # Klicke in das Eingabefeld (damit das Dropdown erscheint)\n",
    "        await page.click(\"input.select2-search__field\")\n",
    "\n",
    "        # Tippe den Namen des Kreis\n",
    "        await page.fill(\"input.select2-search__field\", kreis)\n",
    "\n",
    "        # Warte und klicke auf das Dropdown-Ergebnis\n",
    "        await page.wait_for_selector('.select2-results__option', timeout=5000)\n",
    "        await page.locator('.select2-results__option', has_text=kreis).click()\n",
    "\n",
    "        # Kurze Pause zur Stabilität\n",
    "        await page.wait_for_timeout(400)\n",
    "\n",
    "    print(\"✅ Kreise erfolgreich gewählt.\")\n",
    "\n",
    "async def set_datum_filter(page):\n",
    "    \"\"\"Setzt das Datumsfeld direkt per Texteingabe.\"\"\"\n",
    "    current_year = datetime.now().year\n",
    "    date_range = f\"2024 - {current_year}\"\n",
    "\n",
    "    # Textarea mit Placeholder \"yyyy - yyyy\"\n",
    "    date_input = page.locator(\"textarea.d-condition-date-picker--input.form-control[placeholder='yyyy - yyyy']\").first\n",
    "    await date_input.scroll_into_view_if_needed()\n",
    "    await date_input.wait_for(state=\"visible\", timeout=10000)\n",
    "    await date_input.fill(date_range)\n",
    "    await date_input.press(\"Enter\")\n",
    "    print(f\"✔ Datum gesetzt: {date_range}\")\n",
    "\n",
    "async def export_csv(page):\n",
    "    \"\"\"Hovert über Spaltenkopf 'Parameter' und exportiert CSV.\"\"\"\n",
    "    # 1) Spaltenkopf „Parameter“ in Sicht bringen & hovern\n",
    "    header = page.locator(\"th:has-text('Parameter')\").first\n",
    "    await header.scroll_into_view_if_needed()\n",
    "    await header.hover()\n",
    "    await page.wait_for_timeout(500)\n",
    "\n",
    "    # 2) Auf das Export-Icon in der Toolbar warten und klicken\n",
    "    export_btn = page.locator(\"button[aria-label='Exportieren']\").first\n",
    "    await export_btn.wait_for(state=\"visible\", timeout=4000)\n",
    "    await export_btn.click()\n",
    "\n",
    "    # 3) Menüpunkt „CSV-Datei“ abwarten & klicken\n",
    "    csv_entry = page.locator(\"role=menuitem >> text=CSV-Datei\").first\n",
    "    await csv_entry.wait_for(state=\"visible\", timeout=4000)\n",
    "    async with page.expect_download() as dl_info:\n",
    "        await csv_entry.click()\n",
    "\n",
    "    # 4) Download speichern (Dateiname anpassen, falls gewünscht)\n",
    "    download = await dl_info.value\n",
    "    await download.save_as(f\"{path}/lubw_download_latest.csv\")\n",
    "    print(\"✔ CSV erfolgreich gespeichert\")\n",
    "\n",
    "\n",
    "async def main(headless=False):\n",
    "    async with async_playwright() as pw:\n",
    "        browser = await pw.chromium.launch(headless=headless)\n",
    "        context = await browser.new_context()\n",
    "        page = await context.new_page()\n",
    "\n",
    "        await page.goto(URL, wait_until=\"domcontentloaded\")\n",
    "        await page.wait_for_timeout(3000)  # Dashboard initialisieren\n",
    "\n",
    "        # Kreise wählen\n",
    "        await choose_kreise(page)\n",
    "        await page.wait_for_timeout(2000)\n",
    "\n",
    "        # Datum setzen\n",
    "        await set_datum_filter(page)\n",
    "        await page.wait_for_timeout(1500)\n",
    "\n",
    "        # Export\n",
    "        await export_csv(page)\n",
    "\n",
    "        print(\"✅ Ablauf abgeschlossen – falls ein nativer Save‑Dialog erscheint, bitte manuell speichern.\")\n",
    "        await browser.close()\n",
    "\n",
    "\n",
    "# Für Notebook:\n",
    "await main(headless=False)\n"
   ]
  },
  {
   "cell_type": "code",
   "execution_count": null,
   "id": "dacc7779",
   "metadata": {},
   "outputs": [],
   "source": []
  }
 ],
 "metadata": {
  "kernelspec": {
   "display_name": "base",
   "language": "python",
   "name": "python3"
  },
  "language_info": {
   "codemirror_mode": {
    "name": "ipython",
    "version": 3
   },
   "file_extension": ".py",
   "mimetype": "text/x-python",
   "name": "python",
   "nbconvert_exporter": "python",
   "pygments_lexer": "ipython3",
   "version": "3.12.4"
  }
 },
 "nbformat": 4,
 "nbformat_minor": 5
}
