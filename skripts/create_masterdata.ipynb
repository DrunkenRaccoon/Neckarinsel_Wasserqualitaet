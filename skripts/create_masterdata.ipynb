{
 "cells": [
  {
   "cell_type": "markdown",
   "id": "78266c42",
   "metadata": {},
   "source": [
    "## Aggregate hourly data to daily masterdata"
   ]
  },
  {
   "cell_type": "code",
   "execution_count": 1,
   "id": "4ea58d35",
   "metadata": {},
   "outputs": [
    {
     "data": {
      "text/plain": [
       "True"
      ]
     },
     "execution_count": 1,
     "metadata": {},
     "output_type": "execute_result"
    }
   ],
   "source": [
    "import pandas as pd\n",
    "import os\n",
    "from dotenv import load_dotenv\n",
    "load_dotenv()"
   ]
  },
  {
   "cell_type": "code",
   "execution_count": 2,
   "id": "143426eb",
   "metadata": {},
   "outputs": [],
   "source": [
    "path_master = os.getenv('path_to_master')\n"
   ]
  },
  {
   "cell_type": "code",
   "execution_count": 3,
   "id": "47d9d68c",
   "metadata": {},
   "outputs": [],
   "source": [
    "df_full = pd.read_csv(f'{path_master}/data_full.csv', index_col=0, parse_dates=True)\n",
    "df_full = df_full[(df_full.index >= '2024-01-01') & (df_full.index < '2025-01-01')]"
   ]
  },
  {
   "cell_type": "code",
   "execution_count": 7,
   "id": "2b125020",
   "metadata": {},
   "outputs": [],
   "source": [
    "df_full = df_full.apply(pd.to_numeric, errors='coerce')"
   ]
  },
  {
   "cell_type": "code",
   "execution_count": null,
   "id": "7addddac",
   "metadata": {},
   "outputs": [],
   "source": []
  },
  {
   "cell_type": "code",
   "execution_count": 16,
   "id": "45b8e36f",
   "metadata": {},
   "outputs": [],
   "source": [
    "def sample_at_hour(df, hour):\n",
    "    return df[df.index.hour == hour].resample('D').first()\n",
    "\n",
    "daily_mean = df_full.resample('D').mean().add_suffix('_mean')\n",
    "daily_min = df_full.resample('D').min().add_suffix('_min')\n",
    "daily_max = df_full.resample('D').max().add_suffix('_max')\n",
    "at_06 = sample_at_hour(df_full, 6).add_suffix('_06')\n",
    "at_12 = sample_at_hour(df_full, 12).add_suffix('_12')\n",
    "at_18 = sample_at_hour(df_full, 18).add_suffix('_18')\n",
    "at_00 = sample_at_hour(df_full, 0).add_suffix('_00')\n",
    "\n",
    "df_daily = pd.concat([daily_mean, daily_min, daily_max, at_06, at_12, at_18, at_00], axis=1)\n",
    "df_daily.sort_index(inplace=True)"
   ]
  },
  {
   "cell_type": "code",
   "execution_count": 20,
   "id": "09bb792d",
   "metadata": {},
   "outputs": [],
   "source": [
    "df_daily = df_daily.groupby(df_daily.index.date).apply(lambda g: g.bfill().ffill())"
   ]
  },
  {
   "cell_type": "code",
   "execution_count": 21,
   "id": "bb7c03d1",
   "metadata": {},
   "outputs": [],
   "source": [
    "df_daily.to_csv(f'{path_master}/masterdata_2024.csv')"
   ]
  },
  {
   "cell_type": "code",
   "execution_count": null,
   "id": "2c006d53",
   "metadata": {},
   "outputs": [],
   "source": []
  }
 ],
 "metadata": {
  "kernelspec": {
   "display_name": "base",
   "language": "python",
   "name": "python3"
  },
  "language_info": {
   "codemirror_mode": {
    "name": "ipython",
    "version": 3
   },
   "file_extension": ".py",
   "mimetype": "text/x-python",
   "name": "python",
   "nbconvert_exporter": "python",
   "pygments_lexer": "ipython3",
   "version": "3.12.4"
  }
 },
 "nbformat": 4,
 "nbformat_minor": 5
}
