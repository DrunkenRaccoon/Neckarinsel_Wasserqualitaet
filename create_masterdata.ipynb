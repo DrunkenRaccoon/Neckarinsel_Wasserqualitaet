{
 "cells": [
  {
   "cell_type": "code",
   "execution_count": 138,
   "metadata": {},
   "outputs": [],
   "source": [
    "import pandas as pd"
   ]
  },
  {
   "cell_type": "code",
   "execution_count": 139,
   "metadata": {},
   "outputs": [],
   "source": [
    "df_wetter = pd.read_csv(\"Daten/Wetter_2024/clean_wetter_komplett.csv\", header = 0)"
   ]
  },
  {
   "cell_type": "code",
   "execution_count": 140,
   "metadata": {},
   "outputs": [],
   "source": [
    "df_wetter.set_index(\"Unnamed: 0\", inplace = True)"
   ]
  },
  {
   "cell_type": "code",
   "execution_count": 141,
   "metadata": {},
   "outputs": [],
   "source": [
    "df_messungen = pd.read_csv(\"Daten/messungen_clean_2024.csv\", header = 0)"
   ]
  },
  {
   "cell_type": "code",
   "execution_count": 142,
   "metadata": {},
   "outputs": [],
   "source": [
    "df_messungen.set_index(\"DATUM\", inplace = True)"
   ]
  },
  {
   "cell_type": "code",
   "execution_count": 143,
   "metadata": {},
   "outputs": [],
   "source": [
    "df_komplett = pd.merge(df_wetter, df_messungen, how = \"left\", left_index=True, right_index=True)"
   ]
  },
  {
   "cell_type": "code",
   "execution_count": 144,
   "metadata": {},
   "outputs": [],
   "source": [
    "df_komplett.index.rename(\"zeit\", inplace=True)\n",
    "df_komplett.index = pd.to_datetime(df_komplett.index)"
   ]
  },
  {
   "cell_type": "code",
   "execution_count": 145,
   "metadata": {},
   "outputs": [],
   "source": [
    "zeit_max = df_komplett[pd.notna(df_komplett[\"ecoli\"])].index.max()\n",
    "zeit_min = df_komplett[pd.notna(df_komplett[\"ecoli\"])].index.min()"
   ]
  },
  {
   "cell_type": "code",
   "execution_count": 146,
   "metadata": {},
   "outputs": [],
   "source": [
    "df_komplett = df_komplett[df_komplett.index > zeit_min- pd.Timedelta(\"7d\")]\n",
    "df_komplett = df_komplett[df_komplett.index < zeit_max + pd.Timedelta(\"7d\")]"
   ]
  },
  {
   "cell_type": "code",
   "execution_count": 147,
   "metadata": {},
   "outputs": [],
   "source": [
    "df_wendlingen= pd.read_csv(\"Daten/Wetter_2024/wendlingen_messwerte.csv\", delimiter = \";\", parse_dates = True, index_col = 0)"
   ]
  },
  {
   "cell_type": "code",
   "execution_count": 148,
   "metadata": {},
   "outputs": [],
   "source": [
    "df_wendlingen = df_wendlingen.pivot(index = \"Datum\", columns = \"Parameter\", values = \"Tagesmittelwert\")"
   ]
  },
  {
   "cell_type": "code",
   "execution_count": 149,
   "metadata": {},
   "outputs": [],
   "source": [
    "df_wendlingen.index = pd.to_datetime(df_wendlingen.index, format = \"%d.%m.%Y\")"
   ]
  },
  {
   "cell_type": "code",
   "execution_count": 150,
   "metadata": {},
   "outputs": [],
   "source": [
    "df_wendlingen = df_wendlingen.resample(\"1h\").first().ffill()"
   ]
  },
  {
   "cell_type": "code",
   "execution_count": 151,
   "metadata": {},
   "outputs": [],
   "source": [
    "for col in df_wendlingen:\n",
    "    df_wendlingen[col] = df_wendlingen[col].str.replace(\",\", \".\")\n",
    "    try:\n",
    "        df_wendlingen[col] = pd.to_numeric(df_wendlingen[col])\n",
    "    except:\n",
    "        pass"
   ]
  },
  {
   "cell_type": "code",
   "execution_count": 152,
   "metadata": {},
   "outputs": [],
   "source": [
    "df_komplett = df_komplett.merge(df_wendlingen, left_index=True, right_index=True)"
   ]
  },
  {
   "cell_type": "code",
   "execution_count": 153,
   "metadata": {},
   "outputs": [],
   "source": [
    "df_komplett.reset_index(inplace = True)"
   ]
  },
  {
   "cell_type": "code",
   "execution_count": 154,
   "metadata": {},
   "outputs": [],
   "source": [
    "df_komplett.columns = [col.strip() for col in df_komplett.columns]"
   ]
  },
  {
   "cell_type": "code",
   "execution_count": 155,
   "metadata": {},
   "outputs": [],
   "source": [
    "df_komplett.to_csv(\"Daten/masterdata_2024.csv\")"
   ]
  },
  {
   "cell_type": "code",
   "execution_count": null,
   "metadata": {},
   "outputs": [],
   "source": []
  }
 ],
 "metadata": {
  "kernelspec": {
   "display_name": "base",
   "language": "python",
   "name": "python3"
  },
  "language_info": {
   "codemirror_mode": {
    "name": "ipython",
    "version": 3
   },
   "file_extension": ".py",
   "mimetype": "text/x-python",
   "name": "python",
   "nbconvert_exporter": "python",
   "pygments_lexer": "ipython3",
   "version": "3.12.4"
  }
 },
 "nbformat": 4,
 "nbformat_minor": 2
}
