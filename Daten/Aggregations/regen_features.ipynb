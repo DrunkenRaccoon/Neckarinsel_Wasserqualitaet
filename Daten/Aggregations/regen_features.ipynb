{
 "cells": [
  {
   "cell_type": "code",
   "execution_count": 40,
   "metadata": {},
   "outputs": [],
   "source": [
    "import pandas as pd"
   ]
  },
  {
   "cell_type": "code",
   "execution_count": 41,
   "metadata": {},
   "outputs": [
    {
     "name": "stderr",
     "output_type": "stream",
     "text": [
      "<>:1: SyntaxWarning: invalid escape sequence '\\W'\n",
      "<>:1: SyntaxWarning: invalid escape sequence '\\W'\n",
      "C:\\Users\\Dome Arbeit\\AppData\\Local\\Temp\\ipykernel_13020\\3656553311.py:1: SyntaxWarning: invalid escape sequence '\\W'\n",
      "  df = pd.read_csv(\"..\\Wetter_2024\\clean_schnarrenberg_dwd_regen.csv\", parse_dates=True, index_col=0)\n"
     ]
    }
   ],
   "source": [
    "df = pd.read_csv(\"..\\Wetter_2024\\clean_schnarrenberg_dwd_regen.csv\", parse_dates=True, index_col=0)  "
   ]
  },
  {
   "cell_type": "code",
   "execution_count": 42,
   "metadata": {},
   "outputs": [],
   "source": [
    "df.drop(columns=[\"MESS_DATUM\", \"QN_8\", \"RS_IND\", \"WRTR\", \"eor\", \"STATIONS_ID\" ], inplace=True)"
   ]
  },
  {
   "cell_type": "code",
   "execution_count": 43,
   "metadata": {},
   "outputs": [],
   "source": [
    "df.rename(columns = {\"  R1\": \"R1\"}, inplace=True)"
   ]
  },
  {
   "cell_type": "code",
   "execution_count": 44,
   "metadata": {},
   "outputs": [
    {
     "data": {
      "text/plain": [
       "(None,)"
      ]
     },
     "execution_count": 44,
     "metadata": {},
     "output_type": "execute_result"
    }
   ],
   "source": [
    "df.fillna(0, inplace=True),"
   ]
  },
  {
   "cell_type": "code",
   "execution_count": 49,
   "metadata": {},
   "outputs": [],
   "source": [
    "df['r1_daily'] = df['R1'].resample('D').mean()\n",
    "df['r1_3_days'] = df['R1'].resample('3D').mean()\n",
    "df['r1_week'] = df['R1'].resample('W').mean()"
   ]
  },
  {
   "cell_type": "code",
   "execution_count": 50,
   "metadata": {},
   "outputs": [
    {
     "data": {
      "text/html": [
       "<div>\n",
       "<style scoped>\n",
       "    .dataframe tbody tr th:only-of-type {\n",
       "        vertical-align: middle;\n",
       "    }\n",
       "\n",
       "    .dataframe tbody tr th {\n",
       "        vertical-align: top;\n",
       "    }\n",
       "\n",
       "    .dataframe thead th {\n",
       "        text-align: right;\n",
       "    }\n",
       "</style>\n",
       "<table border=\"1\" class=\"dataframe\">\n",
       "  <thead>\n",
       "    <tr style=\"text-align: right;\">\n",
       "      <th></th>\n",
       "      <th>R1</th>\n",
       "      <th>r1_daily</th>\n",
       "      <th>r1_3_days</th>\n",
       "      <th>r1_week</th>\n",
       "    </tr>\n",
       "    <tr>\n",
       "      <th>DATUM</th>\n",
       "      <th></th>\n",
       "      <th></th>\n",
       "      <th></th>\n",
       "      <th></th>\n",
       "    </tr>\n",
       "  </thead>\n",
       "  <tbody>\n",
       "    <tr>\n",
       "      <th>2023-07-23 00:00:00</th>\n",
       "      <td>0.0</td>\n",
       "      <td>0.025</td>\n",
       "      <td>0.177778</td>\n",
       "      <td>0.025000</td>\n",
       "    </tr>\n",
       "    <tr>\n",
       "      <th>2023-07-23 01:00:00</th>\n",
       "      <td>0.0</td>\n",
       "      <td>0.025</td>\n",
       "      <td>0.177778</td>\n",
       "      <td>0.025000</td>\n",
       "    </tr>\n",
       "    <tr>\n",
       "      <th>2023-07-23 02:00:00</th>\n",
       "      <td>0.0</td>\n",
       "      <td>0.025</td>\n",
       "      <td>0.177778</td>\n",
       "      <td>0.025000</td>\n",
       "    </tr>\n",
       "    <tr>\n",
       "      <th>2023-07-23 03:00:00</th>\n",
       "      <td>0.0</td>\n",
       "      <td>0.025</td>\n",
       "      <td>0.177778</td>\n",
       "      <td>0.025000</td>\n",
       "    </tr>\n",
       "    <tr>\n",
       "      <th>2023-07-23 04:00:00</th>\n",
       "      <td>0.0</td>\n",
       "      <td>0.025</td>\n",
       "      <td>0.177778</td>\n",
       "      <td>0.025000</td>\n",
       "    </tr>\n",
       "    <tr>\n",
       "      <th>...</th>\n",
       "      <td>...</td>\n",
       "      <td>...</td>\n",
       "      <td>...</td>\n",
       "      <td>...</td>\n",
       "    </tr>\n",
       "    <tr>\n",
       "      <th>2025-01-22 19:00:00</th>\n",
       "      <td>0.0</td>\n",
       "      <td>0.000</td>\n",
       "      <td>0.000000</td>\n",
       "      <td>0.002976</td>\n",
       "    </tr>\n",
       "    <tr>\n",
       "      <th>2025-01-22 20:00:00</th>\n",
       "      <td>0.0</td>\n",
       "      <td>0.000</td>\n",
       "      <td>0.000000</td>\n",
       "      <td>0.002976</td>\n",
       "    </tr>\n",
       "    <tr>\n",
       "      <th>2025-01-22 21:00:00</th>\n",
       "      <td>0.0</td>\n",
       "      <td>0.000</td>\n",
       "      <td>0.000000</td>\n",
       "      <td>0.002976</td>\n",
       "    </tr>\n",
       "    <tr>\n",
       "      <th>2025-01-22 22:00:00</th>\n",
       "      <td>0.0</td>\n",
       "      <td>0.000</td>\n",
       "      <td>0.000000</td>\n",
       "      <td>0.002976</td>\n",
       "    </tr>\n",
       "    <tr>\n",
       "      <th>2025-01-22 23:00:00</th>\n",
       "      <td>0.0</td>\n",
       "      <td>0.000</td>\n",
       "      <td>0.000000</td>\n",
       "      <td>0.002976</td>\n",
       "    </tr>\n",
       "  </tbody>\n",
       "</table>\n",
       "<p>13200 rows × 4 columns</p>\n",
       "</div>"
      ],
      "text/plain": [
       "                      R1  r1_daily  r1_3_days   r1_week\n",
       "DATUM                                                  \n",
       "2023-07-23 00:00:00  0.0     0.025   0.177778  0.025000\n",
       "2023-07-23 01:00:00  0.0     0.025   0.177778  0.025000\n",
       "2023-07-23 02:00:00  0.0     0.025   0.177778  0.025000\n",
       "2023-07-23 03:00:00  0.0     0.025   0.177778  0.025000\n",
       "2023-07-23 04:00:00  0.0     0.025   0.177778  0.025000\n",
       "...                  ...       ...        ...       ...\n",
       "2025-01-22 19:00:00  0.0     0.000   0.000000  0.002976\n",
       "2025-01-22 20:00:00  0.0     0.000   0.000000  0.002976\n",
       "2025-01-22 21:00:00  0.0     0.000   0.000000  0.002976\n",
       "2025-01-22 22:00:00  0.0     0.000   0.000000  0.002976\n",
       "2025-01-22 23:00:00  0.0     0.000   0.000000  0.002976\n",
       "\n",
       "[13200 rows x 4 columns]"
      ]
     },
     "execution_count": 50,
     "metadata": {},
     "output_type": "execute_result"
    }
   ],
   "source": [
    "df.ffill()"
   ]
  },
  {
   "cell_type": "code",
   "execution_count": 51,
   "metadata": {},
   "outputs": [
    {
     "name": "stderr",
     "output_type": "stream",
     "text": [
      "<>:1: SyntaxWarning: invalid escape sequence '\\W'\n",
      "<>:1: SyntaxWarning: invalid escape sequence '\\W'\n",
      "C:\\Users\\Dome Arbeit\\AppData\\Local\\Temp\\ipykernel_13020\\4041657062.py:1: SyntaxWarning: invalid escape sequence '\\W'\n",
      "  df.to_csv(\"..\\Wetter_2024\\clean_schnarrenberg_dwd_regen.csv\")\n"
     ]
    }
   ],
   "source": [
    "df.to_csv(\"..\\Wetter_2024\\clean_schnarrenberg_dwd_regen.csv\")"
   ]
  },
  {
   "cell_type": "code",
   "execution_count": null,
   "metadata": {},
   "outputs": [],
   "source": []
  }
 ],
 "metadata": {
  "kernelspec": {
   "display_name": "base",
   "language": "python",
   "name": "python3"
  },
  "language_info": {
   "codemirror_mode": {
    "name": "ipython",
    "version": 3
   },
   "file_extension": ".py",
   "mimetype": "text/x-python",
   "name": "python",
   "nbconvert_exporter": "python",
   "pygments_lexer": "ipython3",
   "version": "3.12.4"
  }
 },
 "nbformat": 4,
 "nbformat_minor": 2
}
